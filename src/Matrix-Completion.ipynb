{
 "cells": [
  {
   "cell_type": "code",
   "execution_count": 1,
   "metadata": {},
   "outputs": [
    {
     "name": "stdout",
     "output_type": "stream",
     "text": [
      "Julia Version 1.8.2\n",
      "Commit 36034abf260 (2022-09-29 15:21 UTC)\n",
      "Platform Info:\n",
      "  OS: macOS (arm64-apple-darwin21.3.0)\n",
      "  CPU: 10 × Apple M1 Pro\n",
      "  WORD_SIZE: 64\n",
      "  LIBM: libopenlibm\n",
      "  LLVM: libLLVM-13.0.1 (ORCJIT, apple-m1)\n",
      "  Threads: 1 on 8 virtual cores\n"
     ]
    }
   ],
   "source": [
    "versioninfo()"
   ]
  },
  {
   "cell_type": "code",
   "execution_count": 2,
   "metadata": {},
   "outputs": [],
   "source": [
    "# load packages\n",
    "using BenchmarkTools, DataFrames, DynamicHMC, DynamicHMC.Diagnostics, \n",
    "    LinearAlgebra, LogDensityProblems, MCMCChains, MCMCDiagnosticTools,\n",
    "    Parameters, Profile, ProximalOperators, CSV,\n",
    "    Random, Revise, Roots, SparseArrays, Statistics, StatsPlots\n",
    "import ProximalOperators: prox, prox!"
   ]
  },
  {
   "cell_type": "markdown",
   "metadata": {},
   "source": [
    "# Proximal MCMC for matrix completion"
   ]
  },
  {
   "cell_type": "markdown",
   "metadata": {},
   "source": [
    "We first implement the projection to the $\\ell_1$ norm epigraph $\\{(y, t): \\|y\\|_1 \\le t\\}$. To project a point $(x,s)$, the key computation is to find the root of \n",
    "$$\n",
    "\\phi(\\lambda) = \\|S_\\lambda(x)\\|_1 - \\lambda - s,\n",
    "$$\n",
    "where $S$ is the sof-thresholding operator. This can be achieved by bisection or the sum-of-max algorithm (Algorithm 2 of <http://proceedings.mlr.press/v48/wangh16.pdf>). Both have linear complexity."
   ]
  },
  {
   "cell_type": "code",
   "execution_count": 3,
   "metadata": {},
   "outputs": [
    {
     "data": {
      "text/plain": [
       "ϕ"
      ]
     },
     "execution_count": 3,
     "metadata": {},
     "output_type": "execute_result"
    }
   ],
   "source": [
    "\"\"\"\n",
    "    ϕ(x::Vector, λ)\n",
    "\n",
    "Return the value `sum(abs, Sλ(x[1:end-1])) - λ - x[end]`.\n",
    "\"\"\"\n",
    "function ϕ(x::AbstractVector{T}, λ::T) where T <: Real\n",
    "    out = zero(T)\n",
    "    @inbounds for i in 1:(length(x) - 1)\n",
    "        δi = abs(x[i]) - λ\n",
    "        out += δi > 0 ? abs(δi) : zero(T)\n",
    "    end\n",
    "    out -= λ + x[end]\n",
    "    out\n",
    "end"
   ]
  },
  {
   "cell_type": "markdown",
   "metadata": {},
   "source": [
    "Now we can implement the projector to the $\\ell_1$ norm epigraph\n",
    "$$\n",
    "\\text{prox}_{\\chi_{\\mathcal{E}}}(x, s) = \\text{proj}_{\\mathcal{E}}(x) = \\begin{cases}\n",
    "(x, s) & \\|x\\|_1 \\le s \\\\\n",
    "(S_{\\lambda^\\star}(x), s + \\lambda^\\star) & \\|x\\|_1 > s\n",
    "\\end{cases},\n",
    "$$\n",
    "where $\\lambda^\\star$ is the root of $\\phi(\\lambda)$."
   ]
  },
  {
   "cell_type": "code",
   "execution_count": 4,
   "metadata": {},
   "outputs": [
    {
     "data": {
      "text/plain": [
       "prox (generic function with 4 methods)"
      ]
     },
     "execution_count": 4,
     "metadata": {},
     "output_type": "execute_result"
    }
   ],
   "source": [
    "struct NormL1Epigraph <: Function end\n",
    "\n",
    "is_convex(f::NormL1Epigraph) = true\n",
    "is_set(f::NormL1Epigraph) = true\n",
    "\n",
    "function prox!(\n",
    "        y :: AbstractVector{T}, \n",
    "        f :: NormL1Epigraph, \n",
    "        x :: AbstractVector{T}, \n",
    "        γ :: T = T(1.0)\n",
    "    ) where T <: Real\n",
    "    if isinf(x[end]) || sum(abs, x) ≤ x[end] + abs(x[end])\n",
    "        copyto!(y, x)\n",
    "        return zero(T)\n",
    "    end\n",
    "    @views λ₀ = find_zero(λ -> ϕ(x, λ), (0, maximum(abs, x[1:end-1])), Bisection())\n",
    "    for i in 1:(length(y) - 1)\n",
    "        δi   = abs(x[i]) - λ₀\n",
    "        y[i] = δi > 0 ? copysign(δi, x[i]) : zero(T) \n",
    "    end\n",
    "    y[end] = x[end] + λ₀\n",
    "    zero(T)\n",
    "end\n",
    "\n",
    "prox(f::NormL1Epigraph, x::AbstractVector{T}, γ::T = T(1.0)) where T<:Real = \n",
    "    prox!(similar(x), f, x, γ)"
   ]
  },
  {
   "cell_type": "markdown",
   "metadata": {},
   "source": [
    "# Define the matrix completion problem"
   ]
  },
  {
   "cell_type": "code",
   "execution_count": 5,
   "metadata": {},
   "outputs": [
    {
     "data": {
      "text/plain": [
       "MatrixCompletionProblem"
      ]
     },
     "execution_count": 5,
     "metadata": {},
     "output_type": "execute_result"
    }
   ],
   "source": [
    "struct MatrixCompletionProblem{T <: Real}\n",
    "    Y        :: Matrix{T}   # response\n",
    "    X        :: Matrix{T}   # \n",
    "    Ω        :: Vector{Int} # Y[Ω] are observed\n",
    "    λ        :: T           # Moreau-Yosida envelope parameter\n",
    "    σ²prior  :: Tuple{T, T} # IG(r, s) prior for σ²\n",
    "    αprior   :: Tuple{T, T} # IG(r, s) prior for α\n",
    "    res      :: Vector{T}   # storage for residuals Y-X\n",
    "    svα      :: Vector{T}\n",
    "    svα_prox :: Vector{T}\n",
    "end\n",
    "\n",
    "# constructor\n",
    "function MatrixCompletionProblem(Y::Matrix{T}, Ω::Vector{Int}, λ::T, \n",
    "        σ²prior::Tuple{T, T}, αprior::Tuple{T, T}) where T <: Real\n",
    "    X         = similar(Y)\n",
    "    res       = Vector{T}(undef, length(Ω))\n",
    "    svα       = Vector{T}(undef, minimum(size(X)) + 1)\n",
    "    svα_prox  = similar(svα)\n",
    "    MatrixCompletionProblem{T}(Y, X, Ω, λ, σ²prior, αprior, res, svα, svα_prox)\n",
    "end"
   ]
  },
  {
   "cell_type": "code",
   "execution_count": 6,
   "metadata": {},
   "outputs": [],
   "source": [
    "(problem::MatrixCompletionProblem)(θ) = LogDensityProblems.logdensity(problem, θ)\n",
    "\n",
    "LogDensityProblems.capabilities(::Type{<:MatrixCompletionProblem}) =\n",
    "    LogDensityProblems.LogDensityOrder{1}()\n",
    "\n",
    "LogDensityProblems.dimension(problem::MatrixCompletionProblem) = length(problem.Y) + 2\n",
    "\n",
    "\n",
    "function LogDensityProblems.logdensity_and_gradient(problem::MatrixCompletionProblem{T}, θ) where T <: Real\n",
    "    @unpack Y, X, Ω, λ, σ²prior, αprior, res, svα, svα_prox = problem\n",
    "    rσ², sσ² = σ²prior\n",
    "    rα , sα  = αprior        \n",
    "    mn           = length(Y)\n",
    "    copyto!(X, 1, θ, 1, mn)\n",
    "    logα         = θ[mn + 1]\n",
    "    logσ²        = θ[mn + 2]\n",
    "    α            = exp(logα)\n",
    "    σ²           = exp(logσ²)\n",
    "    invσ²        = inv(σ²)\n",
    "    invλ         = inv(λ)\n",
    "    # log-likelihood + log(prior), with constant terms dropped\n",
    "    @views res  .= Y[Ω] .- X[Ω]\n",
    "    qf           = (abs2(norm(res)) + 2rσ²) / (2σ²)\n",
    "    logl         = - qf - (length(Ω) / 2 + sσ²) * logσ² - rα / α - sα * logα\n",
    "    ∇            = fill(T(0), length(θ))\n",
    "    @views ∇[Ω] .= res .* invσ²               # ∇X\n",
    "    ∇[mn + 1]    = rα / α - sα                # ∇logα\n",
    "    ∇[mn + 2]    = qf - (length(Ω) / 2 + sσ²) # ∇logσ²\n",
    "    # proximal mapping of (X, α)\n",
    "    Xsvd         = svd!(X)\n",
    "    copyto!(svα, Xsvd.S)\n",
    "    svα[end]     = α\n",
    "    prox!(svα_prox, NormL1Epigraph(), svα)\n",
    "    svα_prox    .= svα .- svα_prox\n",
    "    logl        -= abs2(norm(svα_prox)) / (2λ)\n",
    "    @views ∇[1:mn] .-= invλ .* vec(Xsvd.U * Diagonal(svα_prox[1:end-1]) * Xsvd.Vt)\n",
    "    ∇[mn + 1]   -= invλ * α * svα_prox[end]\n",
    "    logl, ∇\n",
    "end"
   ]
  },
  {
   "cell_type": "markdown",
   "metadata": {},
   "source": [
    "## Simulation\n",
    "\n",
    "**Since the computation requires lots of singular value decomposition, we recommend running the following code in a script rather than a notebook. For this reason we load the saved results below.**\n",
    "\n",
    "Generate data $Y$ from $N(X, \\sigma^2 I_n)$. $X$ is a randomly generated low rank matrix."
   ]
  },
  {
   "cell_type": "code",
   "execution_count": 7,
   "metadata": {},
   "outputs": [],
   "source": [
    "Random.seed!(123)\n",
    "m, n = 100, 100\n",
    "rtrue = 2\n",
    "Xtrue = randn(m, rtrue) * randn(rtrue, n)\n",
    "σ = 0.5 # noise s.d.\n",
    "Y = Xtrue + σ * randn(m, n)\n",
    "# linear indices of observed entries\n",
    "Random.seed!(5)\n",
    "Ω = findall(rand(m * n) .≤ 0.5);"
   ]
  },
  {
   "cell_type": "code",
   "execution_count": 8,
   "metadata": {},
   "outputs": [
    {
     "name": "stdout",
     "output_type": "stream",
     "text": [
      "1151.838253 seconds (44.75 M allocations: 984.558 GiB, 1.27% gc time, 0.19% compilation time)\n"
     ]
    },
    {
     "data": {
      "text/plain": [
       "Hamiltonian Monte Carlo sample of length 1000\n",
       "  acceptance rate mean: 0.94, 5/25/50/75/95%: 0.76 0.91 0.97 0.99 1.0\n",
       "  termination: divergence => 0%, max_depth => 1%, turning => 99%\n",
       "  depth: 0 => 0%, 1 => 0%, 2 => 0%, 3 => 0%, 4 => 0%, 5 => 0%, 6 => 0%, 7 => 71%, 8 => 22%, 9 => 1%, 10 => 6%"
      ]
     },
     "execution_count": 8,
     "metadata": {},
     "output_type": "execute_result"
    }
   ],
   "source": [
    "λ = 1e-2\n",
    "σ²prior = (0.01, 0.01) # a flat IG(r, s) prior for σ²\n",
    "αprior  = (1., length(Y) + 1.) \n",
    "matcomp = MatrixCompletionProblem(Y, Ω, λ, σ²prior, αprior);\n",
    "Ωᶜ = setdiff(1:m*n, Ω);\n",
    "α₀  = sum(svdvals(Y))\n",
    "σ²₀ = 1\n",
    "Yinit = copy(Y)\n",
    "Yinit[Ωᶜ] .= 0\n",
    "paras = vcat(vec(Yinit), log(α₀), log(σ²₀));\n",
    "\n",
    "@time results = mcmc_with_warmup(Random.GLOBAL_RNG, matcomp, 1000, reporter=ProgressMeterReport(),\n",
    "                                 initialization = (q = paras,));\n",
    "\n",
    "# diagnostics\n",
    "summarize_tree_statistics(results.tree_statistics)\n",
    "\n",
    "# using DelimitedFiles\n",
    "# writedlm(\"results/MatrixCompletion-250x200.csv\", results_matrix, ',')"
   ]
  },
  {
   "cell_type": "code",
   "execution_count": 9,
   "metadata": {
    "scrolled": true
   },
   "outputs": [
    {
     "data": {
      "text/plain": [
       "678.3185680515084"
      ]
     },
     "execution_count": 9,
     "metadata": {},
     "output_type": "execute_result"
    }
   ],
   "source": [
    "results_matrix = copy(results.posterior_matrix)\n",
    "results_matrix[end-1:end, :] = exp.(results_matrix[end-1:end, :])\n",
    "results_matrix = Matrix(transpose(results_matrix))\n",
    "mean(results_matrix[:,end-1])"
   ]
  },
  {
   "cell_type": "code",
   "execution_count": 10,
   "metadata": {},
   "outputs": [],
   "source": [
    "chn = Chains(results_matrix);\n",
    "result_quantile = DataFrame(quantile(chn));"
   ]
  },
  {
   "cell_type": "code",
   "execution_count": 11,
   "metadata": {},
   "outputs": [
    {
     "data": {
      "text/plain": [
       "0.2066725570889349"
      ]
     },
     "execution_count": 11,
     "metadata": {},
     "output_type": "execute_result"
    }
   ],
   "source": [
    "mean(abs.(result_quantile[Ωᶜ, 4] - Xtrue[Ωᶜ]))"
   ]
  },
  {
   "cell_type": "code",
   "execution_count": 12,
   "metadata": {},
   "outputs": [
    {
     "data": {
      "text/plain": [
       "0.4020701146882816"
      ]
     },
     "execution_count": 12,
     "metadata": {},
     "output_type": "execute_result"
    }
   ],
   "source": [
    "mean(abs.(Y[Ωᶜ] - Xtrue[Ωᶜ]))"
   ]
  },
  {
   "cell_type": "code",
   "execution_count": 13,
   "metadata": {},
   "outputs": [],
   "source": [
    "Ωᶜ = setdiff(1:m*n, Ω);"
   ]
  },
  {
   "cell_type": "code",
   "execution_count": 14,
   "metadata": {},
   "outputs": [
    {
     "data": {
      "text/html": [
       "<div><div style = \"float: left;\"><span>5012×4 DataFrame</span></div><div style = \"float: right;\"><span style = \"font-style: italic;\">4987 rows omitted</span></div><div style = \"clear: both;\"></div></div><div class = \"data-frame\" style = \"overflow-x: scroll;\"><table class = \"data-frame\" style = \"margin-bottom: 6px;\"><thead><tr class = \"header\"><th class = \"rowNumber\" style = \"font-weight: bold; text-align: right;\">Row</th><th style = \"text-align: left;\">truth</th><th style = \"text-align: left;\">median</th><th style = \"text-align: left;\">lower</th><th style = \"text-align: left;\">upper</th></tr><tr class = \"subheader headerLastRow\"><th class = \"rowNumber\" style = \"font-weight: bold; text-align: right;\"></th><th title = \"Float64\" style = \"text-align: left;\">Float64</th><th title = \"Float64\" style = \"text-align: left;\">Float64</th><th title = \"Float64\" style = \"text-align: left;\">Float64</th><th title = \"Float64\" style = \"text-align: left;\">Float64</th></tr></thead><tbody><tr><td class = \"rowNumber\" style = \"font-weight: bold; text-align: right;\">1</td><td style = \"text-align: right;\">-0.459588</td><td style = \"text-align: right;\">-0.232287</td><td style = \"text-align: right;\">-1.72584</td><td style = \"text-align: right;\">1.23557</td></tr><tr><td class = \"rowNumber\" style = \"font-weight: bold; text-align: right;\">2</td><td style = \"text-align: right;\">-0.657325</td><td style = \"text-align: right;\">-0.486503</td><td style = \"text-align: right;\">-2.04893</td><td style = \"text-align: right;\">1.07626</td></tr><tr><td class = \"rowNumber\" style = \"font-weight: bold; text-align: right;\">3</td><td style = \"text-align: right;\">-1.58982</td><td style = \"text-align: right;\">-1.36117</td><td style = \"text-align: right;\">-2.71808</td><td style = \"text-align: right;\">0.259262</td></tr><tr><td class = \"rowNumber\" style = \"font-weight: bold; text-align: right;\">4</td><td style = \"text-align: right;\">-1.96528</td><td style = \"text-align: right;\">-1.81983</td><td style = \"text-align: right;\">-3.30036</td><td style = \"text-align: right;\">-0.225327</td></tr><tr><td class = \"rowNumber\" style = \"font-weight: bold; text-align: right;\">5</td><td style = \"text-align: right;\">-3.13052</td><td style = \"text-align: right;\">-2.55166</td><td style = \"text-align: right;\">-4.20848</td><td style = \"text-align: right;\">-1.02856</td></tr><tr><td class = \"rowNumber\" style = \"font-weight: bold; text-align: right;\">6</td><td style = \"text-align: right;\">-1.70447</td><td style = \"text-align: right;\">-1.74853</td><td style = \"text-align: right;\">-3.26693</td><td style = \"text-align: right;\">-0.148948</td></tr><tr><td class = \"rowNumber\" style = \"font-weight: bold; text-align: right;\">7</td><td style = \"text-align: right;\">2.32103</td><td style = \"text-align: right;\">2.25866</td><td style = \"text-align: right;\">0.714479</td><td style = \"text-align: right;\">3.88961</td></tr><tr><td class = \"rowNumber\" style = \"font-weight: bold; text-align: right;\">8</td><td style = \"text-align: right;\">-2.1822</td><td style = \"text-align: right;\">-1.94672</td><td style = \"text-align: right;\">-3.54008</td><td style = \"text-align: right;\">-0.348789</td></tr><tr><td class = \"rowNumber\" style = \"font-weight: bold; text-align: right;\">9</td><td style = \"text-align: right;\">-0.800283</td><td style = \"text-align: right;\">-0.368844</td><td style = \"text-align: right;\">-1.92468</td><td style = \"text-align: right;\">1.20987</td></tr><tr><td class = \"rowNumber\" style = \"font-weight: bold; text-align: right;\">10</td><td style = \"text-align: right;\">-0.527647</td><td style = \"text-align: right;\">-0.479862</td><td style = \"text-align: right;\">-2.0712</td><td style = \"text-align: right;\">0.959612</td></tr><tr><td class = \"rowNumber\" style = \"font-weight: bold; text-align: right;\">11</td><td style = \"text-align: right;\">0.0163898</td><td style = \"text-align: right;\">0.430492</td><td style = \"text-align: right;\">-1.01385</td><td style = \"text-align: right;\">2.24333</td></tr><tr><td class = \"rowNumber\" style = \"font-weight: bold; text-align: right;\">12</td><td style = \"text-align: right;\">1.47964</td><td style = \"text-align: right;\">1.32183</td><td style = \"text-align: right;\">-0.329112</td><td style = \"text-align: right;\">2.97002</td></tr><tr><td class = \"rowNumber\" style = \"font-weight: bold; text-align: right;\">13</td><td style = \"text-align: right;\">-0.214406</td><td style = \"text-align: right;\">-0.222272</td><td style = \"text-align: right;\">-1.79986</td><td style = \"text-align: right;\">1.43734</td></tr><tr><td style = \"text-align: right;\">&vellip;</td><td style = \"text-align: right;\">&vellip;</td><td style = \"text-align: right;\">&vellip;</td><td style = \"text-align: right;\">&vellip;</td><td style = \"text-align: right;\">&vellip;</td></tr><tr><td class = \"rowNumber\" style = \"font-weight: bold; text-align: right;\">5001</td><td style = \"text-align: right;\">-1.91612</td><td style = \"text-align: right;\">-1.79819</td><td style = \"text-align: right;\">-3.20471</td><td style = \"text-align: right;\">-0.227819</td></tr><tr><td class = \"rowNumber\" style = \"font-weight: bold; text-align: right;\">5002</td><td style = \"text-align: right;\">0.185697</td><td style = \"text-align: right;\">0.110248</td><td style = \"text-align: right;\">-1.27677</td><td style = \"text-align: right;\">1.76555</td></tr><tr><td class = \"rowNumber\" style = \"font-weight: bold; text-align: right;\">5003</td><td style = \"text-align: right;\">0.942006</td><td style = \"text-align: right;\">1.00255</td><td style = \"text-align: right;\">-0.310391</td><td style = \"text-align: right;\">2.36443</td></tr><tr><td class = \"rowNumber\" style = \"font-weight: bold; text-align: right;\">5004</td><td style = \"text-align: right;\">-0.828182</td><td style = \"text-align: right;\">-0.536445</td><td style = \"text-align: right;\">-1.96376</td><td style = \"text-align: right;\">0.970619</td></tr><tr><td class = \"rowNumber\" style = \"font-weight: bold; text-align: right;\">5005</td><td style = \"text-align: right;\">0.263434</td><td style = \"text-align: right;\">0.122055</td><td style = \"text-align: right;\">-1.42241</td><td style = \"text-align: right;\">1.6941</td></tr><tr><td class = \"rowNumber\" style = \"font-weight: bold; text-align: right;\">5006</td><td style = \"text-align: right;\">1.65046</td><td style = \"text-align: right;\">1.65777</td><td style = \"text-align: right;\">0.0579901</td><td style = \"text-align: right;\">3.17423</td></tr><tr><td class = \"rowNumber\" style = \"font-weight: bold; text-align: right;\">5007</td><td style = \"text-align: right;\">0.74522</td><td style = \"text-align: right;\">0.70238</td><td style = \"text-align: right;\">-0.76139</td><td style = \"text-align: right;\">2.21221</td></tr><tr><td class = \"rowNumber\" style = \"font-weight: bold; text-align: right;\">5008</td><td style = \"text-align: right;\">0.741086</td><td style = \"text-align: right;\">0.639482</td><td style = \"text-align: right;\">-0.779873</td><td style = \"text-align: right;\">2.06684</td></tr><tr><td class = \"rowNumber\" style = \"font-weight: bold; text-align: right;\">5009</td><td style = \"text-align: right;\">0.961331</td><td style = \"text-align: right;\">0.954023</td><td style = \"text-align: right;\">-0.534468</td><td style = \"text-align: right;\">2.43367</td></tr><tr><td class = \"rowNumber\" style = \"font-weight: bold; text-align: right;\">5010</td><td style = \"text-align: right;\">-1.2838</td><td style = \"text-align: right;\">-1.02954</td><td style = \"text-align: right;\">-2.4973</td><td style = \"text-align: right;\">0.615115</td></tr><tr><td class = \"rowNumber\" style = \"font-weight: bold; text-align: right;\">5011</td><td style = \"text-align: right;\">-0.289263</td><td style = \"text-align: right;\">-0.179769</td><td style = \"text-align: right;\">-1.68834</td><td style = \"text-align: right;\">1.3373</td></tr><tr><td class = \"rowNumber\" style = \"font-weight: bold; text-align: right;\">5012</td><td style = \"text-align: right;\">-2.37376</td><td style = \"text-align: right;\">-2.123</td><td style = \"text-align: right;\">-3.65337</td><td style = \"text-align: right;\">-0.573288</td></tr></tbody></table></div>"
      ],
      "text/latex": [
       "\\begin{tabular}{r|cccc}\n",
       "\t& truth & median & lower & upper\\\\\n",
       "\t\\hline\n",
       "\t& Float64 & Float64 & Float64 & Float64\\\\\n",
       "\t\\hline\n",
       "\t1 & -0.459588 & -0.232287 & -1.72584 & 1.23557 \\\\\n",
       "\t2 & -0.657325 & -0.486503 & -2.04893 & 1.07626 \\\\\n",
       "\t3 & -1.58982 & -1.36117 & -2.71808 & 0.259262 \\\\\n",
       "\t4 & -1.96528 & -1.81983 & -3.30036 & -0.225327 \\\\\n",
       "\t5 & -3.13052 & -2.55166 & -4.20848 & -1.02856 \\\\\n",
       "\t6 & -1.70447 & -1.74853 & -3.26693 & -0.148948 \\\\\n",
       "\t7 & 2.32103 & 2.25866 & 0.714479 & 3.88961 \\\\\n",
       "\t8 & -2.1822 & -1.94672 & -3.54008 & -0.348789 \\\\\n",
       "\t9 & -0.800283 & -0.368844 & -1.92468 & 1.20987 \\\\\n",
       "\t10 & -0.527647 & -0.479862 & -2.0712 & 0.959612 \\\\\n",
       "\t11 & 0.0163898 & 0.430492 & -1.01385 & 2.24333 \\\\\n",
       "\t12 & 1.47964 & 1.32183 & -0.329112 & 2.97002 \\\\\n",
       "\t13 & -0.214406 & -0.222272 & -1.79986 & 1.43734 \\\\\n",
       "\t14 & 1.17112 & 1.07102 & -0.446238 & 2.63128 \\\\\n",
       "\t15 & -0.509908 & -0.620861 & -2.14779 & 1.06972 \\\\\n",
       "\t16 & -2.02901 & -1.59246 & -3.27387 & -0.0314339 \\\\\n",
       "\t17 & 4.88761 & 4.19138 & 2.61681 & 5.73155 \\\\\n",
       "\t18 & 0.7297 & 0.454567 & -1.08566 & 1.89976 \\\\\n",
       "\t19 & -0.213307 & -0.221 & -1.66996 & 1.34018 \\\\\n",
       "\t20 & 1.45857 & 1.42812 & -0.195589 & 2.9941 \\\\\n",
       "\t21 & 3.38817 & 3.16737 & 1.6304 & 4.61898 \\\\\n",
       "\t22 & -3.15491 & -2.78306 & -4.16148 & -1.25487 \\\\\n",
       "\t23 & 4.84068 & 3.18051 & 1.5085 & 4.84768 \\\\\n",
       "\t24 & 2.73658 & 2.32392 & 0.751267 & 3.93221 \\\\\n",
       "\t25 & -2.14803 & -1.75759 & -3.42104 & -0.178511 \\\\\n",
       "\t26 & -1.47836 & -1.6307 & -3.18703 & -0.138547 \\\\\n",
       "\t27 & 4.33399 & 3.7296 & 2.05913 & 5.2963 \\\\\n",
       "\t28 & 3.11145 & 2.72057 & 1.20511 & 4.30517 \\\\\n",
       "\t29 & -1.74312 & -1.70559 & -3.17315 & -0.143244 \\\\\n",
       "\t30 & 2.31701 & 2.59007 & 0.970963 & 4.02818 \\\\\n",
       "\t$\\dots$ & $\\dots$ & $\\dots$ & $\\dots$ & $\\dots$ \\\\\n",
       "\\end{tabular}\n"
      ],
      "text/plain": [
       "\u001b[1m5012×4 DataFrame\u001b[0m\n",
       "\u001b[1m  Row \u001b[0m│\u001b[1m truth      \u001b[0m\u001b[1m median    \u001b[0m\u001b[1m lower      \u001b[0m\u001b[1m upper     \u001b[0m\n",
       "      │\u001b[90m Float64    \u001b[0m\u001b[90m Float64   \u001b[0m\u001b[90m Float64    \u001b[0m\u001b[90m Float64   \u001b[0m\n",
       "──────┼──────────────────────────────────────────────\n",
       "    1 │ -0.459588   -0.232287  -1.72584     1.23557\n",
       "    2 │ -0.657325   -0.486503  -2.04893     1.07626\n",
       "    3 │ -1.58982    -1.36117   -2.71808     0.259262\n",
       "    4 │ -1.96528    -1.81983   -3.30036    -0.225327\n",
       "    5 │ -3.13052    -2.55166   -4.20848    -1.02856\n",
       "    6 │ -1.70447    -1.74853   -3.26693    -0.148948\n",
       "    7 │  2.32103     2.25866    0.714479    3.88961\n",
       "    8 │ -2.1822     -1.94672   -3.54008    -0.348789\n",
       "    9 │ -0.800283   -0.368844  -1.92468     1.20987\n",
       "   10 │ -0.527647   -0.479862  -2.0712      0.959612\n",
       "   11 │  0.0163898   0.430492  -1.01385     2.24333\n",
       "  ⋮   │     ⋮           ⋮          ⋮           ⋮\n",
       " 5003 │  0.942006    1.00255   -0.310391    2.36443\n",
       " 5004 │ -0.828182   -0.536445  -1.96376     0.970619\n",
       " 5005 │  0.263434    0.122055  -1.42241     1.6941\n",
       " 5006 │  1.65046     1.65777    0.0579901   3.17423\n",
       " 5007 │  0.74522     0.70238   -0.76139     2.21221\n",
       " 5008 │  0.741086    0.639482  -0.779873    2.06684\n",
       " 5009 │  0.961331    0.954023  -0.534468    2.43367\n",
       " 5010 │ -1.2838     -1.02954   -2.4973      0.615115\n",
       " 5011 │ -0.289263   -0.179769  -1.68834     1.3373\n",
       " 5012 │ -2.37376    -2.123     -3.65337    -0.573288\n",
       "\u001b[36m                                    4991 rows omitted\u001b[0m"
      ]
     },
     "execution_count": 14,
     "metadata": {},
     "output_type": "execute_result"
    }
   ],
   "source": [
    "df = DataFrame(truth = Xtrue[Ωᶜ], median = result_quantile[Ωᶜ, 4], lower = result_quantile[Ωᶜ, 2], upper = result_quantile[Ωᶜ, 6])"
   ]
  },
  {
   "cell_type": "code",
   "execution_count": 15,
   "metadata": {},
   "outputs": [
    {
     "name": "stdout",
     "output_type": "stream",
     "text": [
      "0.9994014365522745\n"
     ]
    },
    {
     "data": {
      "text/plain": [
       "2.991571412803108"
      ]
     },
     "execution_count": 15,
     "metadata": {},
     "output_type": "execute_result"
    }
   ],
   "source": [
    "# Calculates percent parameters covered\n",
    "cover = zeros(size(df, 1))\n",
    "widths = zeros(size(df, 1))\n",
    "for i in 1:length(cover)\n",
    "    cover[i] = df[i, 3] ≤ df[i, 1] ≤ df[i, 4] ? 1 : 0\n",
    "    widths[i] = df[i,4] - df[i,3]\n",
    "end\n",
    "println(sum(cover)/length(cover)) \n",
    "mean(widths)"
   ]
  },
  {
   "cell_type": "code",
   "execution_count": 16,
   "metadata": {},
   "outputs": [
    {
     "data": {
      "text/plain": [
       "1000-element Vector{Float64}:\n",
       " 613.4012433102819\n",
       " 627.5975237203226\n",
       " 622.1965416659449\n",
       " 628.582699714467\n",
       " 632.5286714915078\n",
       " 633.5855591888915\n",
       " 633.4031183760666\n",
       " 634.4721288868826\n",
       " 639.2929842139288\n",
       " 636.5475301036289\n",
       " 638.6725609522714\n",
       " 639.7637400832965\n",
       " 632.7163336288592\n",
       "   ⋮\n",
       " 638.1366633472546\n",
       " 640.941089690765\n",
       " 638.7266918621178\n",
       " 640.1700441709384\n",
       " 633.1208093979956\n",
       " 628.5237878467225\n",
       " 621.8626060962819\n",
       " 628.8479558373161\n",
       " 625.8083919379297\n",
       " 623.7916792842612\n",
       " 622.916883216086\n",
       " 624.6062984165462"
      ]
     },
     "execution_count": 16,
     "metadata": {},
     "output_type": "execute_result"
    }
   ],
   "source": [
    "cov_matrix = cov(results_matrix)\n",
    "F = svd(cov_matrix)\n",
    "v_strongest = F.V[:,1]\n",
    "slowest = results_matrix * v_strongest"
   ]
  },
  {
   "cell_type": "code",
   "execution_count": 18,
   "metadata": {},
   "outputs": [],
   "source": [
    "chn_slowest = MCMCChains.Chains(slowest, [\"Yslowest\"], thin = 1);"
   ]
  },
  {
   "cell_type": "code",
   "execution_count": 19,
   "metadata": {},
   "outputs": [
    {
     "data": {
      "text/plain": [
       "ESS\n",
       " \u001b[1m parameters \u001b[0m \u001b[1m      ess \u001b[0m \u001b[1m    rhat \u001b[0m\n",
       " \u001b[90m     Symbol \u001b[0m \u001b[90m  Float64 \u001b[0m \u001b[90m Float64 \u001b[0m\n",
       "\n",
       "    Yslowest   208.8082    1.0024\n"
      ]
     },
     "execution_count": 19,
     "metadata": {},
     "output_type": "execute_result"
    }
   ],
   "source": [
    "# number of samples = 1000\n",
    "ess_slowest = ess_rhat(chn_slowest)"
   ]
  }
 ],
 "metadata": {
  "@webio": {
   "lastCommId": null,
   "lastKernelId": null
  },
  "hide_input": false,
  "kernelspec": {
   "display_name": "Julia 1.8.2",
   "language": "julia",
   "name": "julia-1.8"
  },
  "language_info": {
   "file_extension": ".jl",
   "mimetype": "application/julia",
   "name": "julia",
   "version": "1.8.2"
  },
  "toc": {
   "colors": {
    "hover_highlight": "#DAA520",
    "running_highlight": "#FF0000",
    "selected_highlight": "#FFD700"
   },
   "moveMenuLeft": true,
   "nav_menu": {
    "height": "135px",
    "width": "252px"
   },
   "navigate_menu": true,
   "number_sections": true,
   "sideBar": false,
   "skip_h1_title": true,
   "threshold": 4,
   "toc_cell": false,
   "toc_position": {
    "height": "250px",
    "left": "2px",
    "right": "20px",
    "top": "109px",
    "width": "212px"
   },
   "toc_section_display": "block",
   "toc_window_display": false,
   "widenNotebook": false
  }
 },
 "nbformat": 4,
 "nbformat_minor": 4
}
