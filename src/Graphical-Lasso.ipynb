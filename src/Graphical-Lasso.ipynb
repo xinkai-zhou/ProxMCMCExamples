{
 "cells": [
  {
   "cell_type": "code",
   "execution_count": 1,
   "metadata": {},
   "outputs": [
    {
     "name": "stdout",
     "output_type": "stream",
     "text": [
      "Julia Version 1.8.2\n",
      "Commit 36034abf260 (2022-09-29 15:21 UTC)\n",
      "Platform Info:\n",
      "  OS: macOS (arm64-apple-darwin21.3.0)\n",
      "  CPU: 10 × Apple M1 Pro\n",
      "  WORD_SIZE: 64\n",
      "  LIBM: libopenlibm\n",
      "  LLVM: libLLVM-13.0.1 (ORCJIT, apple-m1)\n",
      "  Threads: 1 on 8 virtual cores\n"
     ]
    }
   ],
   "source": [
    "versioninfo()"
   ]
  },
  {
   "cell_type": "code",
   "execution_count": 2,
   "metadata": {
    "scrolled": true
   },
   "outputs": [],
   "source": [
    "using Pkg\n",
    "Pkg.activate(joinpath(@__DIR__, \"..\"))"
   ]
  },
  {
   "cell_type": "code",
   "execution_count": 3,
   "metadata": {},
   "outputs": [],
   "source": [
    "# load packages\n",
    "using BenchmarkTools, DataFrames, Distributions, DynamicHMC, DynamicHMC.Diagnostics, \n",
    "    LinearAlgebra, MCMCChains, LogDensityProblems,\n",
    "    Parameters, Profile, ProximalOperators,\n",
    "    Random, Revise, Roots, SparseArrays, Statistics, DelimitedFiles, Test, DelimitedFiles, RCall\n",
    "import ProximalOperators: prox, prox!"
   ]
  },
  {
   "cell_type": "code",
   "execution_count": 4,
   "metadata": {},
   "outputs": [
    {
     "data": {
      "text/plain": [
       "Plots.GRBackend()"
      ]
     },
     "execution_count": 4,
     "metadata": {},
     "output_type": "execute_result"
    }
   ],
   "source": [
    "using StatsPlots\n",
    "gr(size=(400, 400))"
   ]
  },
  {
   "cell_type": "markdown",
   "metadata": {},
   "source": [
    "# Proximal MCMC for graphical lasso"
   ]
  },
  {
   "cell_type": "markdown",
   "metadata": {},
   "source": [
    "### Helper functions"
   ]
  },
  {
   "cell_type": "code",
   "execution_count": 5,
   "metadata": {},
   "outputs": [
    {
     "data": {
      "text/plain": [
       "get_Θ1norm"
      ]
     },
     "execution_count": 5,
     "metadata": {},
     "output_type": "execute_result"
    }
   ],
   "source": [
    "function diagonal_index(p:: Int64)\n",
    "    out = [1]\n",
    "    @inbounds for j in 2:p\n",
    "        out = vcat(out, [out[j-1] + (p - (j-2))])\n",
    "    end\n",
    "    out\n",
    "end\n",
    "\n",
    "\"\"\"\n",
    "    vech!(v::AbstractVector, A::AbstractVecOrMat)\n",
    "Overwrite vector `v` by the entries from lower triangular part of `A`. \n",
    "\"\"\"\n",
    "function vech!(v::AbstractVector, A::AbstractVecOrMat)\n",
    "    m, n = size(A, 1), size(A, 2)\n",
    "    idx = 1\n",
    "    @inbounds for j in 1:n, i in j:m\n",
    "        v[idx] = A[i, j]\n",
    "        idx += 1\n",
    "    end\n",
    "    v\n",
    "end\n",
    "\n",
    "\"\"\"\n",
    "    vech(A::AbstractVecOrMat) -> AbstractVector\n",
    "Return the entries from lower triangular part of `A` as a vector.\n",
    "\"\"\"\n",
    "function vech(A::AbstractVecOrMat)\n",
    "    m, n = size(A, 1), size(A, 2)\n",
    "    vech!(similar(A, n * m - (n * (n - 1)) >> 1), A)\n",
    "end\n",
    "\n",
    "\"\"\"\n",
    "    sum_abs_lowertri(x::Matrix)\n",
    "Sum of the absolute values of the lower triangle excluding the diagonals.\n",
    "\"\"\"\n",
    "function sum_abs_lowertri(x :: AbstractMatrix{T}) where T <: Real\n",
    "    n = size(x, 1)\n",
    "    out = zero(T)\n",
    "    for j in 1:n\n",
    "        for i in (j+1):n\n",
    "            out += abs(x[i, j])\n",
    "        end\n",
    "    end\n",
    "    out        \n",
    "end\n",
    "\n",
    "\"\"\"\n",
    "    mean_center_data!(data, meanvals)\n",
    "Mean center data.\n",
    "\n",
    "# Arguments \n",
    "- `data`: the data matrix\n",
    "- `meanvals`: the mean vector\n",
    "\"\"\"\n",
    "function mean_center_data(data::AbstractMatrix{T}, meanvals::Vector{T}) where T <: Real\n",
    "    p = length(meanvals)\n",
    "    for j in 1:p\n",
    "        data[:, j] .-= meanvals[j]\n",
    "    end\n",
    "    return data\n",
    "end\n",
    "\n",
    "\"\"\"\n",
    "    L_to_Θ!(Θ, L, paras)\n",
    "Translate L samples into Θ. To be used by the get_Θ() function.\n",
    "\n",
    "# Arguments \n",
    "- `Θ`: a matrix for storing Θ\n",
    "- `L`: a matrix for storing L\n",
    "- `paras`: a sample vector\n",
    "\"\"\"\n",
    "function L_to_Θ!(Θ::AbstractMatrix{T}, L::AbstractMatrix{T}, paras::Vector{T}) where T <: Real\n",
    "    p = size(Θ, 1)\n",
    "    fill!(L, 0)\n",
    "    offset = 1\n",
    "    @inbounds for j in 1:p\n",
    "        L[j, j] = exp(paras[offset])\n",
    "        offset += 1\n",
    "        @inbounds for i in j+1:p\n",
    "            L[i, j] = paras[offset]\n",
    "            offset += 1\n",
    "        end\n",
    "    end\n",
    "    mul!(Θ, L, transpose(L))\n",
    "    \n",
    "    return Θ\n",
    "end\n",
    "\n",
    "\"\"\"\n",
    "    get_Θ(x, p)\n",
    "Translate L samples into Θ. \n",
    "\n",
    "# Arguments \n",
    "- `x`: a n-by-[((p*(p+1))>>1] matrix containing the HMC samples for the lower Chol factor of the precision matrix\n",
    "- `p`: dimension of Θ\n",
    "\n",
    "# Values\n",
    "- `Θ_lowertri`: a matrix of the same dimensions as `x` containing the vectorized lower triangle of Θ\n",
    "\"\"\"\n",
    "function get_Θ(x::AbstractMatrix{T}, p::Int64) where T <: Real\n",
    "    \n",
    "    # initialize a matrix to store the lower tri of Θ\n",
    "    Θ_lowertri = similar(x)\n",
    "    # initialize Θ and L to avoid repeated allocation\n",
    "    Θ = zeros(p, p)\n",
    "    L = similar(Θ)\n",
    "    \n",
    "    # Translate L to Θ and store the lower triangular of Θ to Θ_lowertri\n",
    "    @inbounds for i in 1:size(Θ_lowertri, 1)\n",
    "        L_to_Θ!(Θ, L, x[i, :])\n",
    "        @views vech!(Θ_lowertri[i, :], Θ)\n",
    "        #copyto!(Θ_lowertri[i, :], vech(Θ))\n",
    "    end\n",
    "    \n",
    "    return Θ_lowertri\n",
    "end\n",
    "\n",
    "\"\"\"\n",
    "    get_ci(Θ_lowertri)\n",
    "Get 95% credible intervals for Θ. \n",
    "\n",
    "# Arguments \n",
    "- `Θ_lowertri`: output from the function get_Θ()\n",
    "\n",
    "# Values\n",
    "- `cis`: an [((p*(p+1))>>1]-by-2 matrix of credible intervals for the lower triangle of Θ\n",
    "\"\"\"\n",
    "function get_ci(Θ_lowertri::AbstractMatrix{T}) where T <: Real\n",
    "    m = size(Θ_lowertri, 2)\n",
    "    cis = zeros(m, 2)\n",
    "    for i in 1:m\n",
    "        cis[i, :] = quantile(Θ_lowertri[:,i], [0.025, 0.975])\n",
    "    end\n",
    "    return cis\n",
    "end\n",
    "\n",
    "\"\"\"\n",
    "    is_covered(Θtrue, posterior_sample, p)\n",
    "Shows the truth, CIs, and whether the CI covers the truth\n",
    "\n",
    "# Arguments \n",
    "- `Θtrue`: truth precision matrix\n",
    "- `posterior_sample`: raw posterior sample (for the transformed L) from HMC. Will be fed to function get_Θ()\n",
    "- `p`: truth precision matrix\n",
    "\n",
    "# Values\n",
    "- `res`: an [((p*(p+1))>>1]-by-4 matrix. Col1: truth; Col2-3: credible intervals, Col4: indicator for whether the CI covers the truth\n",
    "\"\"\"\n",
    "function is_covered(Θtrue::AbstractMatrix{T}, posterior_sample::AbstractMatrix{T}, p::Int64) where T <: Real\n",
    "    cis = get_ci(get_Θ(posterior_sample, p))\n",
    "    res = zeros(((p*(p+1))>>1), 4)\n",
    "    res[:, 1] = vech(Θtrue)\n",
    "    res[:, 2:3] = cis\n",
    "    for i in 1:size(res, 1)\n",
    "        # The fourth column shows whether the truth is covered by the CI\n",
    "        res[i, 4] = ((res[i, 1] > res[i, 2]) & (res[i, 1] < res[i, 3])) ? 1 : 0\n",
    "    end\n",
    "    res\n",
    "end\n",
    "\n",
    "# Helper functions from R\n",
    "R\"\"\"\n",
    "vech <- function(x){\n",
    "    res <- vector()\n",
    "    m <- nrow(x)\n",
    "    for(j in 1:m){\n",
    "        res <- c(res, x[j:m, j])\n",
    "    }\n",
    "    res\n",
    "}\n",
    "\"\"\"\n",
    "\n",
    "\"\"\"\n",
    "    get_Θ1norm(x, p)\n",
    "Translate L samples into Θ, and calculate the L1 norm of Θ, excluding the diagonals. \n",
    "\n",
    "# Arguments \n",
    "- `x`: a n-by-[((p*(p+1))>>1] matrix containing the HMC samples for the lower Chol factor of the precision matrix\n",
    "- `p`: dimension of Θ\n",
    "\n",
    "# Values\n",
    "- `Θ1norm`: a vector storing the L1 norm of Θ samples\n",
    "\"\"\"\n",
    "function get_Θ1norm(x::AbstractMatrix{T}, p::Int64) where T <: Real\n",
    "    nsamples = size(x, 1)\n",
    "    Θ1norm = zeros(nsamples)\n",
    "    # initialize Θ and L to avoid repeated allocation\n",
    "    Θ = zeros(p, p)\n",
    "    L = similar(Θ)\n",
    "    # Translate L to Θ and store the lower triangular of Θ to Θ_lowertri\n",
    "    @inbounds for i in 1:nsamples\n",
    "        L_to_Θ!(Θ, L, x[i, :])\n",
    "        Θ1norm[i] = 2 * sum_abs_lowertri(Θ)\n",
    "    end\n",
    "    return Θ1norm\n",
    "end"
   ]
  },
  {
   "cell_type": "markdown",
   "metadata": {},
   "source": [
    "We first implement the projection to the $\\ell_1$ norm epigraph $\\{(y, t): \\sum_{j \\neq k}|y| \\le t\\}$. To project a point $(x,s)$, the key computation is to find the root of \n",
    "$$\n",
    "\\phi(\\lambda) = \\sum_{j \\neq k}|S_{\\lambda}(x)| - \\lambda - s,\n",
    "$$\n",
    "where $S$ is the sof-thresholding operator. This can be achieved by bisection or the sum-of-max algorithm (Algorithm 2 of <http://proceedings.mlr.press/v48/wangh16.pdf>). Both have linear complexity."
   ]
  },
  {
   "cell_type": "code",
   "execution_count": 6,
   "metadata": {},
   "outputs": [
    {
     "data": {
      "text/plain": [
       "ϕ"
      ]
     },
     "execution_count": 6,
     "metadata": {},
     "output_type": "execute_result"
    }
   ],
   "source": [
    "\"\"\"\n",
    "    ϕ(x::Matrix, λ)\n",
    "\n",
    "Return the value `sum(abs, Sλ(x[1:end-1])) - λ - x[end]`.\n",
    "\"\"\"\n",
    "function ϕ(x1::AbstractMatrix{T}, x2::AbstractVector{T}, λ::T) where T <: Real\n",
    "    out = zero(T)\n",
    "    # Lower triangular only\n",
    "    @inbounds for j in 1:size(x1, 2)\n",
    "        @inbounds for i in (j+1):size(x1, 1)\n",
    "            δi = abs(x1[i, j]) - λ\n",
    "            out += δi > 0 ? abs(δi) : zero(T)\n",
    "        end\n",
    "    end\n",
    "    out *= 2 # include the upper-triangular\n",
    "    out -= λ + x2[1]\n",
    "    out\n",
    "end"
   ]
  },
  {
   "cell_type": "code",
   "execution_count": 7,
   "metadata": {},
   "outputs": [],
   "source": [
    "Random.seed!(123)\n",
    "x1 = randn(10,10)\n",
    "x1 = x1'x1\n",
    "x2 = [15.]\n",
    "λ0 = find_zero(λ -> ϕ(x1, x2, λ), (0, maximum(abs, x1)), Bisection())\n",
    "λ_grid = range(0, stop = maximum(abs, x1), length = 100)\n",
    "fλ = [ϕ(x1, x2, λ_grid[i]) for i in 1:length(λ_grid)];"
   ]
  },
  {
   "cell_type": "markdown",
   "metadata": {},
   "source": [
    "Now we can implement the projector to the $\\ell_1$ norm epigraph\n",
    "$$\n",
    "\\text{prox}_{\\chi_{\\mathcal{E}}}(x, s) = \\text{proj}_{\\mathcal{E}}(x) = \\begin{cases}\n",
    "(x, s) & \\sum_{j \\neq k}|x| \\le s \\\\\n",
    "(S_{\\lambda^\\star}(x), s + \\lambda^\\star) & \\sum_{j \\neq k}|x| > s\n",
    "\\end{cases},\n",
    "$$\n",
    "where $\\lambda^\\star$ is the root of $\\phi(\\lambda)$."
   ]
  },
  {
   "cell_type": "code",
   "execution_count": 8,
   "metadata": {},
   "outputs": [
    {
     "data": {
      "text/plain": [
       "prox (generic function with 4 methods)"
      ]
     },
     "execution_count": 8,
     "metadata": {},
     "output_type": "execute_result"
    }
   ],
   "source": [
    "struct NormL1Epigraph end\n",
    "\n",
    "is_convex(f::NormL1Epigraph) = true\n",
    "is_set(f::NormL1Epigraph) = true\n",
    "\n",
    "function prox!(\n",
    "        y1 :: AbstractMatrix{T}, \n",
    "        y2 :: AbstractVector{T},\n",
    "        f  :: NormL1Epigraph, \n",
    "        x1 :: AbstractMatrix{T}, \n",
    "        x2 :: AbstractVector{T},\n",
    "        γ  :: T = T(1.0)\n",
    "    ) where T <: Real\n",
    "    n = size(x1, 1)\n",
    "    if isinf(x2[1]) || 2 * sum_abs_lowertri(x1) ≤ x2[1]\n",
    "        copyto!(y1, x1)\n",
    "        copyto!(y2, x2)\n",
    "        return zero(T)\n",
    "    end\n",
    "    @views λ₀ = find_zero(λ -> ϕ(x1, x2, λ), (0, maximum(abs, x1)), Bisection())\n",
    "    # Soft-thresholding of the lower triangle\n",
    "    for j in 1:n\n",
    "        for i in (j+1):n\n",
    "            δi   = abs(x1[i, j]) - λ₀\n",
    "            y1[i, j] = δi > 0 ? copysign(δi, x1[i, j]) : zero(T) \n",
    "        end\n",
    "    end\n",
    "\n",
    "    # Copy the lowertri to the uppertri \n",
    "    LinearAlgebra.copytri!(y1, 'L')\n",
    "    # Copy the diagonal\n",
    "    \n",
    "    # Do we soft-threshold the diagonal or not?\n",
    "    for i in 1:n\n",
    "        y1[i, i] = x1[i, i]\n",
    "    end\n",
    "    \n",
    "    copyto!(y2, x2 .+ λ₀)\n",
    "    zero(T)\n",
    "end\n",
    "\n",
    "prox(f::NormL1Epigraph, x1::AbstractMatrix{T}, x2::AbstractVector{T}, γ::T = T(1.0)) where T<:Real = \n",
    "    prox!(similar(x1), similar(x2), f, x1, x2, γ)"
   ]
  },
  {
   "cell_type": "code",
   "execution_count": 9,
   "metadata": {},
   "outputs": [
    {
     "data": {
      "text/plain": [
       "10×10 Matrix{Float64}:\n",
       "  5.47611   -1.07303   -0.424305  …   0.431788  -1.19516   -2.28973\n",
       " -1.07303    8.20339    3.00098       1.51678    3.81983    0.236509\n",
       " -0.424305   3.00098   16.599        -0.225516   1.50092    2.55154\n",
       " -1.43493    5.17749    8.7497       -2.48307    0.327413   0.721347\n",
       "  2.96771    1.1195     1.05899       1.99756    1.79144    1.40104\n",
       "  2.63478   -3.72744   -9.81359   …   1.18753   -2.36653   -3.29362\n",
       " -4.01291   -1.964     -7.29924      -2.82593   -1.22512    1.15285\n",
       "  0.431788   1.51678   -0.225516      5.01944    1.02942   -0.203707\n",
       " -1.19516    3.81983    1.50092       1.02942    4.63542    1.29123\n",
       " -2.28973    0.236509   2.55154      -0.203707   1.29123    3.23459"
      ]
     },
     "execution_count": 9,
     "metadata": {},
     "output_type": "execute_result"
    }
   ],
   "source": [
    "# test it\n",
    "Random.seed!(123)\n",
    "x1 = randn(10, 10)\n",
    "x1 = x1'x1\n",
    "x2 = [1.5]\n",
    "x1_prox = similar(x1)\n",
    "x2_prox = similar(x2)\n",
    "prox!(x1_prox, x2_prox, NormL1Epigraph(), x1, x2)\n",
    "x1"
   ]
  },
  {
   "cell_type": "code",
   "execution_count": 10,
   "metadata": {},
   "outputs": [
    {
     "data": {
      "text/plain": [
       "10×10 Matrix{Float64}:\n",
       " 5.47611  0.0       0.0        0.0      0.0      …  0.0      0.0      0.0\n",
       " 0.0      8.20339   0.0        0.0      0.0         0.0      0.0      0.0\n",
       " 0.0      0.0      16.599      1.57469  0.0         0.0      0.0      0.0\n",
       " 0.0      0.0       1.57469   12.7097   0.0         0.0      0.0      0.0\n",
       " 0.0      0.0       0.0        0.0      9.89893     0.0      0.0      0.0\n",
       " 0.0      0.0      -2.63858    0.0      0.0      …  0.0      0.0      0.0\n",
       " 0.0      0.0      -0.124234   0.0      0.0         0.0      0.0      0.0\n",
       " 0.0      0.0       0.0        0.0      0.0         5.01944  0.0      0.0\n",
       " 0.0      0.0       0.0        0.0      0.0         0.0      4.63542  0.0\n",
       " 0.0      0.0       0.0        0.0      0.0         0.0      0.0      3.23459"
      ]
     },
     "execution_count": 10,
     "metadata": {},
     "output_type": "execute_result"
    }
   ],
   "source": [
    "x1_prox"
   ]
  },
  {
   "cell_type": "code",
   "execution_count": 11,
   "metadata": {},
   "outputs": [
    {
     "data": {
      "text/plain": [
       "(8.675010612985393, 8.675010612985393)"
      ]
     },
     "execution_count": 11,
     "metadata": {},
     "output_type": "execute_result"
    }
   ],
   "source": [
    "# sanity check\n",
    "2*sum_abs_lowertri(x1_prox), x2_prox[1]"
   ]
  },
  {
   "cell_type": "markdown",
   "metadata": {},
   "source": [
    "Define the graphical lasso problem."
   ]
  },
  {
   "cell_type": "code",
   "execution_count": 12,
   "metadata": {},
   "outputs": [],
   "source": [
    "struct GraphicalLassoProblem{T <: Real}\n",
    "    X       :: Matrix{T} # n-by-p observation matrix\n",
    "    S       :: Matrix{T}\n",
    "    p       :: Int64\n",
    "    λ       :: T         # Moreau-Yosida envelope parameter\n",
    "    αprior  :: Tuple{T, T} # IG(r, s) prior for α\n",
    "    Θ       :: Matrix{T}\n",
    "    L       :: Matrix{T}\n",
    "    α       :: Vector{T}\n",
    "    Θ_prox  :: Matrix{T}\n",
    "    α_prox  :: Vector{T}\n",
    "    ∇L      :: Matrix{T}\n",
    "    ∇       :: Vector{T}\n",
    "end"
   ]
  },
  {
   "cell_type": "code",
   "execution_count": 13,
   "metadata": {
    "scrolled": true
   },
   "outputs": [
    {
     "data": {
      "text/plain": [
       "GraphicalLassoProblem"
      ]
     },
     "execution_count": 13,
     "metadata": {},
     "output_type": "execute_result"
    }
   ],
   "source": [
    "# constructor\n",
    "function GraphicalLassoProblem(X::Matrix{T}, λ::T, \n",
    "        αprior::Tuple{T, T}) where T <: Real\n",
    "    S  = cov(X)\n",
    "    p  = size(X, 2)\n",
    "    Θ  = Matrix{T}(undef, p, p)\n",
    "    L  = Matrix{T}(undef, p, p)\n",
    "    α  = Vector{T}(undef, 1)\n",
    "    Θ_prox = similar(Θ)\n",
    "    α_prox = similar(α)\n",
    "    ∇L = similar(Θ)\n",
    "    ∇  = Vector{T}(undef, p*(p+1)>>1 + 1)\n",
    "    GraphicalLassoProblem{T}(X, S, p, λ, αprior, Θ, L, α, Θ_prox, α_prox, ∇L, ∇)\n",
    "end"
   ]
  },
  {
   "cell_type": "code",
   "execution_count": 14,
   "metadata": {},
   "outputs": [
    {
     "data": {
      "text/plain": [
       "modelpar_to_optimpar!"
      ]
     },
     "execution_count": 14,
     "metadata": {},
     "output_type": "execute_result"
    }
   ],
   "source": [
    "\"\"\"\n",
    "    modelpar_to_optimpar!(par)\n",
    "Translate model parameters to optimization variables.\n",
    "\"\"\"\n",
    "function modelpar_to_optimpar!(paras::Vector, problem::GraphicalLassoProblem)\n",
    "    copyto!(problem.L, Symmetric(problem.Θ))\n",
    "    LAPACK.potrf!('L', problem.L)\n",
    "\n",
    "    offset = 1\n",
    "    @inbounds for j in 1:problem.p\n",
    "        paras[offset] = log(problem.L[j, j]) \n",
    "        offset += 1\n",
    "        @inbounds for i in j+1:problem.p\n",
    "            paras[offset] = problem.L[i, j]\n",
    "            offset += 1\n",
    "        end\n",
    "    end\n",
    "    paras[offset] = log(problem.α[1])\n",
    "    paras\n",
    "end"
   ]
  },
  {
   "cell_type": "code",
   "execution_count": 15,
   "metadata": {
    "scrolled": true
   },
   "outputs": [
    {
     "data": {
      "text/plain": [
       "optimpar_to_modelpar!"
      ]
     },
     "execution_count": 15,
     "metadata": {},
     "output_type": "execute_result"
    }
   ],
   "source": [
    "\"\"\"\n",
    "    optimpar_to_modelpar!(paras)\n",
    "Translate optimization variables into model parameters\n",
    "\"\"\"\n",
    "function optimpar_to_modelpar!(problem::GraphicalLassoProblem, paras::Vector)\n",
    "    #copyto!(problem.paras, paras)\n",
    "    fill!(problem.L, 0)\n",
    "    offset = 1\n",
    "    @inbounds for j in 1:problem.p\n",
    "        problem.L[j, j] = exp(paras[offset])\n",
    "        offset += 1\n",
    "        @inbounds for i in j+1:problem.p\n",
    "            problem.L[i, j] = paras[offset]\n",
    "            offset += 1\n",
    "        end\n",
    "    end\n",
    "    mul!(problem.Θ, problem.L, transpose(problem.L))\n",
    "\n",
    "    problem.α[1] = exp(paras[offset])\n",
    "    problem\n",
    "end"
   ]
  },
  {
   "cell_type": "code",
   "execution_count": 16,
   "metadata": {},
   "outputs": [],
   "source": [
    "(problem::GraphicalLassoProblem)(paras) = LogDensityProblems.logdensity(problem, paras)\n",
    "\n",
    "LogDensityProblems.capabilities(::Type{<:GraphicalLassoProblem}) =\n",
    "    LogDensityProblems.LogDensityOrder{1}()\n",
    "\n",
    "LogDensityProblems.dimension(problem::GraphicalLassoProblem) = (problem.p * (problem.p + 1)) >> 1 + 1"
   ]
  },
  {
   "cell_type": "code",
   "execution_count": 17,
   "metadata": {},
   "outputs": [],
   "source": [
    "function LogDensityProblems.logdensity(problem::GraphicalLassoProblem, paras)\n",
    "    optimpar_to_modelpar!(problem, paras)\n",
    "    @unpack X, S, p, λ, αprior, Θ, L, α, Θ_prox, α_prox = problem\n",
    "    logα    = paras[end]\n",
    "    n      = size(X, 1)\n",
    "    rα, sα  = αprior\n",
    "    \n",
    "    @inbounds for j in 1:p\n",
    "        # the diag of chol may be <=0 due to numerical reasons. \n",
    "        # if this happens, set logl to be -Inf.\n",
    "        if L[j, j] <= 1e-5\n",
    "            logl = -Inf\n",
    "            return logl\n",
    "        end\n",
    "    end\n",
    "    \n",
    "    # log-likelihood + log(prior), with constant terms dropped\n",
    "    logl    = - (n/2) * dot(S, Θ) + n * sum(log.(diag(L))) - sα * logα - rα/α[1] + p * log(2)\n",
    "    @inbounds for j in 1:p\n",
    "        logl += (p-j+2) * L[j, j]\n",
    "    end\n",
    "    @show logl\n",
    "    @show Θ\n",
    "    prox!(Θ_prox, α_prox, NormL1Epigraph(), Θ, α)\n",
    "    @show Θ_prox\n",
    "    Θ_prox .= Θ .- Θ_prox\n",
    "    @show Θ_prox\n",
    "    α_prox .= α .- α_prox\n",
    "    @show ( abs2(norm(Θ_prox)) + abs2(norm(α_prox)) ) / (2λ)\n",
    "    logl   -= ( abs2(norm(Θ_prox)) + abs2(norm(α_prox)) ) / (2λ)\n",
    "    logl\n",
    "end"
   ]
  },
  {
   "cell_type": "code",
   "execution_count": 18,
   "metadata": {},
   "outputs": [],
   "source": [
    "function LogDensityProblems.logdensity_and_gradient(problem::GraphicalLassoProblem{T}, paras) where T <: Real\n",
    "    optimpar_to_modelpar!(problem, paras)\n",
    "    @unpack X, S, p, λ, αprior, Θ, L, α, Θ_prox, α_prox = problem\n",
    "    \n",
    "    @inbounds for j in 1:p\n",
    "        # the diag of chol may be <=0 due to numerical reasons. \n",
    "        # if this happens, set logl to be -Inf.\n",
    "        if L[j, j] ≤ 1e-5\n",
    "            logl = -Inf\n",
    "            ∇ = zeros((p * (p+1)) >> 1 + 1)\n",
    "            return logl, ∇\n",
    "        end\n",
    "    end\n",
    "    \n",
    "    n       = size(X, 1)\n",
    "    logα    = paras[end]\n",
    "    rα, sα  = αprior\n",
    "    invλ    = inv(λ)\n",
    "    logl    = - (n/2) * dot(S, Θ) + n * sum(log.(diag(L))) - sα * logα - rα/α[1] + p * log(2)\n",
    "    @inbounds for j in 1:p\n",
    "        logl += (p-j+2) * L[j, j]\n",
    "    end\n",
    "    ∇L      = -n*S*L + n*transpose(inv(L))\n",
    "    \n",
    "    # Projection to L1 norm epigraph\n",
    "    prox!(Θ_prox, α_prox, NormL1Epigraph(), Θ, α)\n",
    "    Θ_prox .= Θ .- Θ_prox\n",
    "    α_prox .= α .- α_prox\n",
    "    logl   -= ( abs2(norm(Θ_prox)) + abs2(norm(α_prox)) ) / (2λ)\n",
    "    ∇L     -= 2*invλ * (Θ_prox * L)\n",
    "    \n",
    "    # Adding gradient that comes from the Jacobian\n",
    "    @inbounds for j in 1:p\n",
    "        ∇L[j, j] += p - j + 2\n",
    "    end\n",
    "    \n",
    "    # Currently ∇L is w.r.t L\n",
    "    # But we need gradient w.r.t log(L_jj) and L_ij, so we need to multiply the diagonal entries with L_jj\n",
    "    @inbounds for j in 1:p\n",
    "        # On the diagonal, gradient wrt log(L_jj)\n",
    "        ∇L[j, j] *= L[j, j]\n",
    "    end\n",
    "    \n",
    "    ∇logα   = -sα + rα/α[1] - invλ * α[1] * α_prox[1]\n",
    "    ∇       = [vech(∇L); ∇logα]\n",
    "    \n",
    "    logl, ∇\n",
    "end"
   ]
  },
  {
   "cell_type": "markdown",
   "metadata": {},
   "source": [
    "## Run it on cytometry data"
   ]
  },
  {
   "cell_type": "code",
   "execution_count": 19,
   "metadata": {},
   "outputs": [],
   "source": [
    "cytometry = readdlm(\"../data/cytometry.csv\", ',');\n",
    "proteinnames = cytometry[1, :];\n",
    "cytoval = Float64.(cytometry[2:end, :]);\n",
    "cytovalnew = mean_center_data(cytoval, vec(mean(cytoval, dims = 1)));\n",
    "S = cov(cytovalnew)\n",
    "V = diagm(diag(inv(S)));"
   ]
  },
  {
   "cell_type": "code",
   "execution_count": 20,
   "metadata": {},
   "outputs": [],
   "source": [
    "p = 11\n",
    "λ = 0.01 \n",
    "αprior  = (1., p+1.) \n",
    "glp = GraphicalLassoProblem(cytovalnew, λ, αprior)\n",
    "Θ₀ = V\n",
    "α₀ = 2*sum_abs_lowertri(V)\n",
    "copyto!(glp.Θ, Θ₀)\n",
    "copyto!(glp.α, [α₀])\n",
    "pars = zeros((glp.p*(glp.p+1))>>1 + 1)\n",
    "modelpar_to_optimpar!(pars, glp);"
   ]
  },
  {
   "cell_type": "code",
   "execution_count": 21,
   "metadata": {},
   "outputs": [
    {
     "name": "stdout",
     "output_type": "stream",
     "text": [
      "  6.210167 seconds (27.28 M allocations: 4.227 GiB, 8.12% gc time, 65.29% compilation time)\n"
     ]
    }
   ],
   "source": [
    "#mcmc_with_warmup(Random.GLOBAL_RNG, glp, 10, reporter=NoProgressReport())\n",
    "@time results = mcmc_with_warmup(Random.GLOBAL_RNG, glp, 10_000, reporter=ProgressMeterReport());"
   ]
  },
  {
   "cell_type": "code",
   "execution_count": 22,
   "metadata": {},
   "outputs": [
    {
     "data": {
      "text/plain": [
       "Hamiltonian Monte Carlo sample of length 10000\n",
       "  acceptance rate mean: 0.89, 5/25/50/75/95%: 0.69 0.84 0.92 0.97 1.0\n",
       "  termination: divergence => 0%, max_depth => 0%, turning => 100%\n",
       "  depth: 0 => 0%, 1 => 0%, 2 => 0%, 3 => 0%, 4 => 98%, 5 => 2%"
      ]
     },
     "execution_count": 22,
     "metadata": {},
     "output_type": "execute_result"
    }
   ],
   "source": [
    "summarize_tree_statistics(results.tree_statistics)"
   ]
  },
  {
   "cell_type": "code",
   "execution_count": 23,
   "metadata": {},
   "outputs": [],
   "source": [
    "results_matrix = transpose(results.posterior_matrix);"
   ]
  },
  {
   "cell_type": "code",
   "execution_count": 24,
   "metadata": {},
   "outputs": [],
   "source": [
    "# ESS for θ\n",
    "cov_matrix = cov(results_matrix[:, 1:(glp.p*(glp.p+1))>>1])\n",
    "F = svd(cov_matrix)\n",
    "v_strongest = F.V[:,1]\n",
    "slowest = results_matrix[:, 1:(glp.p*(glp.p+1))>>1] * v_strongest;"
   ]
  },
  {
   "cell_type": "code",
   "execution_count": 25,
   "metadata": {},
   "outputs": [],
   "source": [
    "chn_slowest = MCMCChains.Chains(slowest, [\"θslowest\"], thin = 1);"
   ]
  },
  {
   "cell_type": "code",
   "execution_count": 26,
   "metadata": {},
   "outputs": [
    {
     "data": {
      "text/plain": [
       "ESS\n",
       " \u001b[1m parameters \u001b[0m \u001b[1m       ess \u001b[0m \u001b[1m    rhat \u001b[0m\n",
       " \u001b[90m     Symbol \u001b[0m \u001b[90m   Float64 \u001b[0m \u001b[90m Float64 \u001b[0m\n",
       "\n",
       "    θslowest   5327.8543    0.9999\n"
      ]
     },
     "execution_count": 26,
     "metadata": {},
     "output_type": "execute_result"
    }
   ],
   "source": [
    "ess_slowest = ess_rhat(chn_slowest)"
   ]
  },
  {
   "cell_type": "code",
   "execution_count": 27,
   "metadata": {},
   "outputs": [],
   "source": [
    "# Get ProxMCMC credible intervals\n",
    "cis_pm = get_ci(get_Θ(results_matrix[:, 1:(p*(p+1))>>1], p));"
   ]
  },
  {
   "cell_type": "code",
   "execution_count": 28,
   "metadata": {},
   "outputs": [],
   "source": [
    "# Cross-validated graphical lasso\n",
    "@rput cytovalnew\n",
    "R\"\"\"\n",
    "library(\"CVglasso\")\n",
    "# cvg <- CVglasso(cytovalnew, lam = c(10^{-20}, 10^{-10}, 0.0001, 0.001, 0.01, 0.1, 1, 10, 100))\n",
    "# CV is not stable. But roughly it chooses lam = 0.0001\n",
    "cvg <- CVglasso(cytovalnew, lam = 0.0001)\n",
    "precision_cv <- cvg$Omega\n",
    "\"\"\"\n",
    "@rget precision_cv\n",
    "vech_precision_cv = vech(precision_cv);"
   ]
  },
  {
   "cell_type": "code",
   "execution_count": 29,
   "metadata": {},
   "outputs": [],
   "source": [
    "# Bayesian Graphical Lasso\n",
    "@rput cytovalnew\n",
    "R\"\"\"\n",
    "library(BayesianGLasso)\n",
    "capture.output(bg <- BayesianGLasso::blockGLasso(X = cytovalnew, iterations = 11000, \n",
    "                lambdaPriora = 1, lambdaPriorb = 0.1, burnIn = 1000, verbose = F))\n",
    "bg_res <- sapply(bg$Omegas[1001:11000], vech)\n",
    "\"\"\"\n",
    "@rget bg_res;\n",
    "cis_bg = get_ci(transpose(bg_res));"
   ]
  },
  {
   "cell_type": "code",
   "execution_count": 30,
   "metadata": {},
   "outputs": [
    {
     "data": {
      "image/png": "[encoded data removed]"
     },
     "metadata": {},
     "output_type": "display_data"
    },
    {
     "data": {
      "text/plain": [
       "RObject{VecSxp}\n"
      ]
     },
     "execution_count": 30,
     "metadata": {},
     "output_type": "execute_result"
    }
   ],
   "source": [
    "@rput cis_bg\n",
    "@rput cis_pm\n",
    "@rput vech_precision_cv\n",
    "\n",
    "R\"\"\"\n",
    "library(magrittr)\n",
    "library(dplyr)\n",
    "library(ggplot2)\n",
    "\n",
    "m <- 10\n",
    "df <- data.frame(rbind(cis_bg[1:m, ], cis_pm[1:m, ]))\n",
    "colnames(df) <- c(\"lower\", \"upper\")\n",
    "df$Variable <- rep(1:m, 2)\n",
    "df$Method <- c(rep(\"Bayesian Graphical Lasso\", m), rep(\"ProxMCMC\", m))\n",
    "df$cv_precision <- rep(vech_precision_cv[1:m], 2)\n",
    "df %<>% within({\n",
    "  Method <- factor(Method, levels = c(\"Bayesian Graphical Lasso\", \"ProxMCMC\"))\n",
    "  Variable <- factor(Variable)\n",
    "})\n",
    "dodge <- position_dodge(width=0.9)\n",
    "ggplot(df, aes(Variable), dpi = 300) + \n",
    "  geom_linerange(aes(ymin = lower, ymax = upper, color = Method), position = dodge, size = 1.6) + \n",
    "  geom_point(aes(x = Variable, y = cv_precision)) + labs(y = \"Value\") + \n",
    "  theme_bw() + theme(legend.position=\"top\",legend.justification=\"left\") + \n",
    "  theme(axis.text=element_text(size=13), axis.title=element_text(size=14), legend.text = element_text(size=14))\n",
    "#ggsave(\"../plots/graphical-lasso-cytometry.eps\", dpi = 300)\n",
    "\"\"\""
   ]
  },
  {
   "cell_type": "markdown",
   "metadata": {},
   "source": [
    "## Calculate % parameters covered by their CI"
   ]
  },
  {
   "cell_type": "markdown",
   "metadata": {},
   "source": [
    "Note this is different from the coveraged probability, which requires simulating many independent data sets."
   ]
  },
  {
   "cell_type": "code",
   "execution_count": 31,
   "metadata": {},
   "outputs": [],
   "source": [
    "npars = size(cis_bg, 1)\n",
    "cover_bg = zeros(npars)\n",
    "cover_pm = similar(cover_bg);"
   ]
  },
  {
   "cell_type": "code",
   "execution_count": 32,
   "metadata": {},
   "outputs": [],
   "source": [
    "for i in 1:npars\n",
    "    if cis_bg[i, 1] < vech_precision_cv[i] < cis_bg[i, 2]\n",
    "        cover_bg[i] = 1\n",
    "    end\n",
    "    if cis_pm[i, 1] < vech_precision_cv[i] < cis_pm[i, 2]\n",
    "        cover_pm[i] = 1\n",
    "    end\n",
    "end"
   ]
  },
  {
   "cell_type": "code",
   "execution_count": 33,
   "metadata": {},
   "outputs": [
    {
     "data": {
      "text/plain": [
       "0.24242424242424243"
      ]
     },
     "execution_count": 33,
     "metadata": {},
     "output_type": "execute_result"
    }
   ],
   "source": [
    "# Bayesian graphical lasso\n",
    "sum(cover_bg)/length(cover_bg)"
   ]
  },
  {
   "cell_type": "code",
   "execution_count": 34,
   "metadata": {},
   "outputs": [
    {
     "data": {
      "text/plain": [
       "1.0"
      ]
     },
     "execution_count": 34,
     "metadata": {},
     "output_type": "execute_result"
    }
   ],
   "source": [
    "# ProxMCMC\n",
    "sum(cover_pm)/length(cover_pm)"
   ]
  },
  {
   "cell_type": "code",
   "execution_count": null,
   "metadata": {},
   "outputs": [],
   "source": []
  }
 ],
 "metadata": {
  "@webio": {
   "lastCommId": null,
   "lastKernelId": null
  },
  "hide_input": false,
  "kernelspec": {
   "display_name": "Julia 1.8.2",
   "language": "julia",
   "name": "julia-1.8"
  },
  "language_info": {
   "file_extension": ".jl",
   "mimetype": "application/julia",
   "name": "julia",
   "version": "1.8.2"
  },
  "toc": {
   "colors": {
    "hover_highlight": "#DAA520",
    "running_highlight": "#FF0000",
    "selected_highlight": "#FFD700"
   },
   "moveMenuLeft": true,
   "nav_menu": {
    "height": "135px",
    "width": "252px"
   },
   "navigate_menu": true,
   "number_sections": true,
   "sideBar": false,
   "skip_h1_title": true,
   "threshold": 4,
   "toc_cell": false,
   "toc_position": {
    "height": "250px",
    "left": "2px",
    "right": "20px",
    "top": "109px",
    "width": "212px"
   },
   "toc_section_display": "block",
   "toc_window_display": false,
   "widenNotebook": false
  }
 },
 "nbformat": 4,
 "nbformat_minor": 4
}
