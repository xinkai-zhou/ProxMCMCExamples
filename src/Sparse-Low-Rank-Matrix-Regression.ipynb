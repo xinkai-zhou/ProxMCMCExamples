{
 "cells": [
  {
   "cell_type": "code",
   "execution_count": 1,
   "metadata": {},
   "outputs": [
    {
     "name": "stdout",
     "output_type": "stream",
     "text": [
      "Julia Version 1.8.2\n",
      "Commit 36034abf260 (2022-09-29 15:21 UTC)\n",
      "Platform Info:\n",
      "  OS: macOS (arm64-apple-darwin21.3.0)\n",
      "  CPU: 10 × Apple M1 Pro\n",
      "  WORD_SIZE: 64\n",
      "  LIBM: libopenlibm\n",
      "  LLVM: libLLVM-13.0.1 (ORCJIT, apple-m1)\n",
      "  Threads: 1 on 8 virtual cores\n"
     ]
    }
   ],
   "source": [
    "versioninfo()"
   ]
  },
  {
   "cell_type": "code",
   "execution_count": 2,
   "metadata": {},
   "outputs": [],
   "source": [
    "using Pkg\n",
    "Pkg.activate(joinpath(@__DIR__, \"..\"))"
   ]
  },
  {
   "cell_type": "code",
   "execution_count": 3,
   "metadata": {},
   "outputs": [
    {
     "data": {
      "text/plain": [
       "Plots.GRBackend()"
      ]
     },
     "execution_count": 3,
     "metadata": {},
     "output_type": "execute_result"
    }
   ],
   "source": [
    "# load packages\n",
    "using BenchmarkTools, CSV, DataFrames, Distributions, DynamicHMC, DynamicHMC.Diagnostics, \n",
    "    LinearAlgebra, LogDensityProblems, MCMCChains, \n",
    "    Parameters, Profile, ProximalOperators,\n",
    "    Random, Revise, Roots, SparseArrays, Statistics, StatsPlots, StatsFuns, RCall\n",
    "import ProximalOperators: prox, prox!\n",
    "gr(size=(1600, 1200))"
   ]
  },
  {
   "cell_type": "markdown",
   "metadata": {},
   "source": [
    "## Helper functions"
   ]
  },
  {
   "cell_type": "code",
   "execution_count": 4,
   "metadata": {},
   "outputs": [
    {
     "data": {
      "text/plain": [
       "get_ci"
      ]
     },
     "execution_count": 4,
     "metadata": {},
     "output_type": "execute_result"
    }
   ],
   "source": [
    "\"\"\"\n",
    "    vech!(v::AbstractVector, A::AbstractVecOrMat)\n",
    "Overwrite vector `v` by the entries from lower triangular part of `A`. \n",
    "\"\"\"\n",
    "function vech!(v::AbstractVector, A::AbstractVecOrMat)\n",
    "    m, n = size(A, 1), size(A, 2)\n",
    "    idx = 1\n",
    "    @inbounds for j in 1:n, i in j:m\n",
    "        v[idx] = A[i, j]\n",
    "        idx += 1\n",
    "    end\n",
    "    v\n",
    "end\n",
    "\n",
    "\"\"\"\n",
    "    vech(A::AbstractVecOrMat) -> AbstractVector\n",
    "Return the entries from lower triangular part of `A` as a vector.\n",
    "\"\"\"\n",
    "function vech(A::AbstractVecOrMat)\n",
    "    m, n = size(A, 1), size(A, 2)\n",
    "    vech!(similar(A, n * m - (n * (n - 1)) >> 1), A)\n",
    "end\n",
    "\n",
    "\"\"\"\n",
    "    getB(x, p)\n",
    "Calculate B from B1 and B2.\n",
    "\n",
    "# Arguments \n",
    "- `x`: a n-by-(q*k + k*r) matrix containing the HMC samples for B1 and B2\n",
    "- `qrk`: a tuple with values q, r, k\n",
    "\n",
    "# Values\n",
    "- `Bvec`: a matrix of dimension n-by-(q*r) containing the vectorized B\n",
    "\"\"\"\n",
    "function getB(x::AbstractMatrix{T}, qrk::Tuple) where T <: Real\n",
    "    n = size(x, 1)\n",
    "    q,r,k = qrk\n",
    "    B  = zeros(q, r)\n",
    "    B1 = zeros(q, k)\n",
    "    B2 = zeros(k, r)\n",
    "    Bvec = zeros(n, q*r)\n",
    "    for i in 1:n\n",
    "        copyto!(B1, x[i, 1:q*k])\n",
    "        copyto!(B2, x[i, q*k+1:end])\n",
    "        mul!(B, B1, B2)\n",
    "        @views vech!(Bvec[i, :], B)\n",
    "    end\n",
    "    return Bvec\n",
    "end\n",
    "\n",
    "\"\"\"\n",
    "    get_ci(x)\n",
    "Get 95% credible intervals for each column of x. \n",
    "\n",
    "# Arguments \n",
    "- `x`: an n-by-p matrix\n",
    "\n",
    "# Values\n",
    "- `cis`: a p-by-2 matrix of credible intervals for the columns of x\n",
    "\"\"\"\n",
    "function get_ci(x::AbstractMatrix{T}) where T <: Real\n",
    "    m = size(x, 2)\n",
    "    cis = zeros(m, 2)\n",
    "    for i in 1:m\n",
    "        cis[i, :] = quantile(x[:,i], [0.025, 0.975])\n",
    "    end\n",
    "    return cis\n",
    "end"
   ]
  },
  {
   "cell_type": "markdown",
   "metadata": {},
   "source": [
    "$$\n",
    "\\newcommand{\\logdet}{\\operatorname{logdet}}\n",
    "\\newcommand{\\vec}{\\operatorname{vec}}\n",
    "\\newcommand{\\vech}{\\operatorname{vech}}\n",
    "\\newcommand{\\tr}{\\operatorname{tr}}\n",
    "\\newcommand{\\prox}{\\operatorname{prox}}\n",
    "\\newcommand{\\logit}{\\operatorname{logit}}\n",
    "\\newcommand{\\rank}{\\operatorname{rank}}\n",
    "\\newcommand{\\Sig}{\\operatorname{Sig}}\n",
    "\\newcommand{\\diag}{\\operatorname{diag}}\n",
    "\\newcommand{\\Xbf}{{\\mathbf X}}\n",
    "\\newcommand{\\Zbf}{{\\mathbf Z}}\n",
    "\\newcommand{\\Bbf}{{\\mathbf B}}\n",
    "\\newcommand{\\Thetabf}{\\mathbf{\\Theta}}\n",
    "$$\n",
    "\n",
    "\n",
    "\n",
    "## Proximal MCMC for sparse low rank matrix Regression"
   ]
  },
  {
   "cell_type": "markdown",
   "metadata": {},
   "source": [
    "Projection onto the set of rank k matrices."
   ]
  },
  {
   "cell_type": "code",
   "execution_count": 5,
   "metadata": {},
   "outputs": [
    {
     "data": {
      "text/plain": [
       "rank_projection! (generic function with 1 method)"
      ]
     },
     "execution_count": 5,
     "metadata": {},
     "output_type": "execute_result"
    }
   ],
   "source": [
    "function rank_projection!(Xlr::AbstractMatrix{T}, X::AbstractMatrix{T}, k::Int64) where T <: Real\n",
    "    Xsvd = svd(X)\n",
    "    Xsvd.S[k+1:end] .= 0\n",
    "    copyto!(Xlr, Xsvd.U * Diagonal(Xsvd.S) * Xsvd.Vt)\n",
    "end"
   ]
  },
  {
   "cell_type": "markdown",
   "metadata": {},
   "source": [
    "Projection onto L1 norm epigraph."
   ]
  },
  {
   "cell_type": "code",
   "execution_count": 6,
   "metadata": {},
   "outputs": [
    {
     "data": {
      "text/plain": [
       "ϕ"
      ]
     },
     "execution_count": 6,
     "metadata": {},
     "output_type": "execute_result"
    }
   ],
   "source": [
    "\"\"\"\n",
    "    ϕ(x::Vector, λ)\n",
    "\n",
    "Return the value `sum(abs, Sλ(x[1:end-1])) - λ - x[end]`.\n",
    "\"\"\"\n",
    "function ϕ(x::AbstractVector{T}, λ::T) where T <: Real\n",
    "    out = zero(T)\n",
    "    @inbounds for i in 1:(length(x) - 1)\n",
    "        δi = abs(x[i]) - λ\n",
    "        out += δi > 0 ? abs(δi) : zero(T)\n",
    "    end\n",
    "    out -= λ + x[end]\n",
    "    out\n",
    "end"
   ]
  },
  {
   "cell_type": "code",
   "execution_count": 7,
   "metadata": {},
   "outputs": [
    {
     "data": {
      "text/plain": [
       "prox (generic function with 4 methods)"
      ]
     },
     "execution_count": 7,
     "metadata": {},
     "output_type": "execute_result"
    }
   ],
   "source": [
    "struct NormL1Epigraph end\n",
    "\n",
    "is_convex(f::NormL1Epigraph) = true\n",
    "is_set(f::NormL1Epigraph) = true\n",
    "\n",
    "function prox!(\n",
    "        y :: AbstractVector{T}, \n",
    "        f :: NormL1Epigraph, \n",
    "        x :: AbstractVector{T}, \n",
    "        γ :: T = T(1.0)\n",
    "    ) where T <: Real\n",
    "    if isinf(x[end]) || sum(abs, x) ≤ x[end] + abs(x[end])\n",
    "        copyto!(y, x)\n",
    "        return zero(T)\n",
    "    end\n",
    "    @views λ₀ = find_zero(λ -> ϕ(x, λ), (0, maximum(abs, x[1:end-1])), Bisection())\n",
    "    for i in 1:(length(y) - 1)\n",
    "        δi   = abs(x[i]) - λ₀\n",
    "        y[i] = δi > 0 ? copysign(δi, x[i]) : zero(T) \n",
    "    end\n",
    "    y[end] = x[end] + λ₀\n",
    "    zero(T)\n",
    "end\n",
    "\n",
    "prox(f::NormL1Epigraph, x::AbstractVector{T}, γ::T = T(1.0)) where T<:Real = \n",
    "    prox!(similar(x), f, x, γ)"
   ]
  },
  {
   "cell_type": "code",
   "execution_count": 8,
   "metadata": {},
   "outputs": [
    {
     "data": {
      "text/plain": [
       "SLMRProblem"
      ]
     },
     "execution_count": 8,
     "metadata": {},
     "output_type": "execute_result"
    }
   ],
   "source": [
    "# RMR = Regularized Matrix Regression\n",
    "struct SLMRProblem{T <: Real}\n",
    "    y        :: Vector{T} # response\n",
    "    Z        :: Matrix{T} # Vector covariates\n",
    "    X        :: AbstractArray{T} # # Matrix covariates\n",
    "    λ        :: T         # Moreau-Yosida envelope parameter\n",
    "    σ²prior  :: Tuple{T, T}\n",
    "    αprior   :: Tuple{T, T} # IG(r, s) prior for α  \n",
    "    γ        :: Vector{T}\n",
    "    B        :: Matrix{T}\n",
    "    Bproj    :: Matrix{T}\n",
    "    Btemp    :: Matrix{T}\n",
    "    k        :: Int64 # user-specified rank of B\n",
    "    Bα       :: Vector{T}\n",
    "    Bα_prox  :: Vector{T}\n",
    "end\n",
    "\n",
    "# constructor\n",
    "function SLMRProblem(y::Vector{T}, Z::Matrix{T}, X::AbstractArray{T}, \n",
    "        λ::T, σ²prior::Tuple{T, T}, αprior::Tuple{T, T}, k::Int64) where T <: Real\n",
    "    p         = size(Z, 2)\n",
    "    q, r      = size(X[:, :, 1])\n",
    "    γ         = Vector{T}(undef, p)\n",
    "    B         = Matrix{T}(undef, q, r)\n",
    "    Bproj     = Matrix{T}(undef, q, r)\n",
    "    Btemp     = Matrix{T}(undef, q, r)\n",
    "    Bα        = Vector{T}(undef, q*r + 1)\n",
    "    Bα_prox   = similar(Bα)\n",
    "    SLMRProblem{T}(y, Z, X, λ, σ²prior, αprior, γ, B, Bproj, Btemp, k, Bα, Bα_prox)\n",
    "end"
   ]
  },
  {
   "cell_type": "code",
   "execution_count": 9,
   "metadata": {},
   "outputs": [],
   "source": [
    "(problem::SLMRProblem)(θ) = LogDensityProblems.logdensity(problem, θ)\n",
    "\n",
    "LogDensityProblems.capabilities(::Type{<:SLMRProblem}) =\n",
    "    LogDensityProblems.LogDensityOrder{1}()\n",
    "\n",
    "LogDensityProblems.dimension(problem::SLMRProblem) = length(problem.γ) + prod(size(problem.B)) + 2"
   ]
  },
  {
   "cell_type": "code",
   "execution_count": 10,
   "metadata": {},
   "outputs": [],
   "source": [
    "function LogDensityProblems.logdensity(problem::SLMRProblem, paras)\n",
    "    @unpack y, Z, X, λ, σ²prior, αprior, γ, B, Bproj, Btemp, k, Bα, Bα_prox = problem\n",
    "    rσ², sσ²  = σ²prior\n",
    "    rα , sα   = αprior  \n",
    "    p = length(γ)\n",
    "    q, r = size(B)\n",
    "    n = length(y)\n",
    "    \n",
    "    copyto!(γ,  1, paras, 1,   p)\n",
    "    copyto!(B,  1, paras, p+1, q*r)\n",
    "    logσ² = paras[end-1]\n",
    "    logα  = paras[end]\n",
    "    α     = exp(logα)\n",
    "    σ²    = exp(logσ²)\n",
    "    \n",
    "    # log-likelihood + log(prior), with constant terms dropped\n",
    "    c1 = 2 * rσ²\n",
    "    c2 = -(n/2 + sσ²)\n",
    "    logl =  c2 * logσ² - sα * logα - rα / α \n",
    "    @inbounds for i in 1:n\n",
    "        @views c1 += (y[i] - dot(γ, Z[i, :]) - dot(B, X[:, :, i]))^2\n",
    "    end\n",
    "    c1   /= (2 * σ²)\n",
    "    logl -= c1\n",
    "\n",
    "    # rank projection\n",
    "    rank_projection!(Bproj, B, k)\n",
    "    Btemp .= B .- Bproj\n",
    "    logl -= abs2(norm(Btemp)) / (2λ)\n",
    "    \n",
    "    # epigraph projection\n",
    "    copyto!(Bα, B)\n",
    "    Bα[end] = α\n",
    "    prox!(Bα_prox, NormL1Epigraph(), Bα)\n",
    "    Bα_prox .= Bα .- Bα_prox\n",
    "    logl -= abs2(norm(Bα_prox)) / (2λ)\n",
    "    logl\n",
    "end"
   ]
  },
  {
   "cell_type": "code",
   "execution_count": 11,
   "metadata": {},
   "outputs": [],
   "source": [
    "function LogDensityProblems.logdensity_and_gradient(problem::SLMRProblem{T}, paras) where T <: Real\n",
    "    @unpack y, Z, X, λ, σ²prior, αprior, γ, B, Bproj, Btemp, k, Bα, Bα_prox = problem\n",
    "    rσ², sσ²  = σ²prior\n",
    "    rα , sα   = αprior  \n",
    "    p = length(γ)\n",
    "    q, r = size(B)\n",
    "    n = length(y)\n",
    "    invλ = inv(λ)\n",
    "    \n",
    "    ∇  = fill(T(0), p + q*r + 2)\n",
    "    ∇γ = fill(T(0), p)\n",
    "    ∇B = fill(T(0), q, r)\n",
    "    \n",
    "    copyto!(γ,  1, paras, 1, p)\n",
    "    copyto!(B,  1, paras, p+1, q*r)\n",
    "    logσ² = paras[end-1]\n",
    "    logα  = paras[end]\n",
    "    α     = exp(logα)\n",
    "    σ²    = exp(logσ²)\n",
    "\n",
    "    if α == Inf\n",
    "        logl = -Inf\n",
    "        ∇ = zeros(p + q*r + 2)\n",
    "        return logl, ∇\n",
    "    end\n",
    "        \n",
    "    # log-likelihood + log(prior), with constant terms dropped\n",
    "    c1 = 2 * rσ²\n",
    "    c2 = -(n/2 + sσ²)\n",
    "    logl =  c2 * logσ² - sα * logα - rα / α \n",
    "    @inbounds for i in 1:n\n",
    "        @views ctemp = y[i] - dot(γ, Z[i, :]) - dot(B, X[:, :, i])\n",
    "        c1   += ctemp^2\n",
    "        @views ∇γ  .+= ctemp * Z[i, :]\n",
    "        @views ∇B  .+= ctemp * X[:, :, i]\n",
    "    end\n",
    "    c1     /= (2 * σ²)\n",
    "    logl   -= c1\n",
    "    ∇γ    ./= σ²\n",
    "    ∇B    ./= σ²\n",
    "    \n",
    "    # rank projection\n",
    "    rank_projection!(Bproj, B, k)\n",
    "    Btemp .= B .- Bproj\n",
    "    logl  -= abs2(norm(Btemp)) / (2λ)\n",
    "    ∇B   .-= invλ * Btemp\n",
    "    \n",
    "    # epigraph projection\n",
    "    copyto!(Bα, B)\n",
    "    Bα[end] = α\n",
    "    prox!(Bα_prox, NormL1Epigraph(), Bα)\n",
    "    Bα_prox .= Bα .- Bα_prox\n",
    "    logl -= abs2(norm(Bα_prox)) / (2λ)\n",
    "    copyto!(Btemp, 1, Bα_prox, 1, q*r)\n",
    "    ∇B   .-= invλ * Btemp\n",
    "    \n",
    "    copyto!(∇, ∇γ)\n",
    "    copyto!(∇, p+1, ∇B, 1, q*r)\n",
    "    ∇[end - 1] = c2 + c1\n",
    "    ∇[end]     = rα / α - sα - invλ * α * Bα_prox[end]\n",
    "    logl, ∇\n",
    "end"
   ]
  },
  {
   "cell_type": "markdown",
   "metadata": {},
   "source": [
    "# Detecting the cross shaped signal"
   ]
  },
  {
   "cell_type": "code",
   "execution_count": 12,
   "metadata": {},
   "outputs": [],
   "source": [
    "using Images, FileIO"
   ]
  },
  {
   "cell_type": "code",
   "execution_count": 13,
   "metadata": {},
   "outputs": [
    {
     "data": {
      "image/png": "[encoded data removed]",
      "text/html": [
       "<img src=\"data:image/png;base64,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\">"
      ],
      "text/plain": [
       "459×500 Array{Gray{N0f8},2} with eltype Gray{N0f8}:\n",
       " Gray{N0f8}(0.0)  Gray{N0f8}(0.0)  …  Gray{N0f8}(0.0)  Gray{N0f8}(0.0)\n",
       " Gray{N0f8}(0.0)  Gray{N0f8}(0.0)     Gray{N0f8}(0.0)  Gray{N0f8}(0.0)\n",
       " Gray{N0f8}(0.0)  Gray{N0f8}(0.0)     Gray{N0f8}(0.0)  Gray{N0f8}(0.0)\n",
       " Gray{N0f8}(0.0)  Gray{N0f8}(0.0)     Gray{N0f8}(0.0)  Gray{N0f8}(0.0)\n",
       " Gray{N0f8}(0.0)  Gray{N0f8}(0.0)     Gray{N0f8}(0.0)  Gray{N0f8}(0.0)\n",
       " Gray{N0f8}(0.0)  Gray{N0f8}(0.0)  …  Gray{N0f8}(0.0)  Gray{N0f8}(0.0)\n",
       " Gray{N0f8}(0.0)  Gray{N0f8}(0.0)     Gray{N0f8}(0.0)  Gray{N0f8}(0.0)\n",
       " Gray{N0f8}(0.0)  Gray{N0f8}(0.0)     Gray{N0f8}(0.0)  Gray{N0f8}(0.0)\n",
       " Gray{N0f8}(0.0)  Gray{N0f8}(0.0)     Gray{N0f8}(0.0)  Gray{N0f8}(0.0)\n",
       " Gray{N0f8}(0.0)  Gray{N0f8}(0.0)     Gray{N0f8}(0.0)  Gray{N0f8}(0.0)\n",
       " Gray{N0f8}(0.0)  Gray{N0f8}(0.0)  …  Gray{N0f8}(0.0)  Gray{N0f8}(0.0)\n",
       " Gray{N0f8}(0.0)  Gray{N0f8}(0.0)     Gray{N0f8}(0.0)  Gray{N0f8}(0.0)\n",
       " Gray{N0f8}(0.0)  Gray{N0f8}(0.0)     Gray{N0f8}(0.0)  Gray{N0f8}(0.0)\n",
       " ⋮                                 ⋱                   \n",
       " Gray{N0f8}(0.0)  Gray{N0f8}(0.0)     Gray{N0f8}(0.0)  Gray{N0f8}(0.0)\n",
       " Gray{N0f8}(0.0)  Gray{N0f8}(0.0)     Gray{N0f8}(0.0)  Gray{N0f8}(0.0)\n",
       " Gray{N0f8}(0.0)  Gray{N0f8}(0.0)     Gray{N0f8}(0.0)  Gray{N0f8}(0.0)\n",
       " Gray{N0f8}(0.0)  Gray{N0f8}(0.0)  …  Gray{N0f8}(0.0)  Gray{N0f8}(0.0)\n",
       " Gray{N0f8}(0.0)  Gray{N0f8}(0.0)     Gray{N0f8}(0.0)  Gray{N0f8}(0.0)\n",
       " Gray{N0f8}(0.0)  Gray{N0f8}(0.0)     Gray{N0f8}(0.0)  Gray{N0f8}(0.0)\n",
       " Gray{N0f8}(0.0)  Gray{N0f8}(0.0)     Gray{N0f8}(0.0)  Gray{N0f8}(0.0)\n",
       " Gray{N0f8}(0.0)  Gray{N0f8}(0.0)     Gray{N0f8}(0.0)  Gray{N0f8}(0.0)\n",
       " Gray{N0f8}(0.0)  Gray{N0f8}(0.0)  …  Gray{N0f8}(0.0)  Gray{N0f8}(0.0)\n",
       " Gray{N0f8}(0.0)  Gray{N0f8}(0.0)     Gray{N0f8}(0.0)  Gray{N0f8}(0.0)\n",
       " Gray{N0f8}(0.0)  Gray{N0f8}(0.0)     Gray{N0f8}(0.0)  Gray{N0f8}(0.0)\n",
       " Gray{N0f8}(0.0)  Gray{N0f8}(0.0)     Gray{N0f8}(0.0)  Gray{N0f8}(0.0)"
      ]
     },
     "execution_count": 13,
     "metadata": {},
     "output_type": "execute_result"
    }
   ],
   "source": [
    "Bimage = Gray.(load(\"../data/butterfly.gif\"))"
   ]
  },
  {
   "cell_type": "code",
   "execution_count": 14,
   "metadata": {},
   "outputs": [
    {
     "data": {
      "text/plain": [
       "25"
      ]
     },
     "execution_count": 14,
     "metadata": {},
     "output_type": "execute_result"
    }
   ],
   "source": [
    "q = 25\n",
    "r = 25"
   ]
  },
  {
   "cell_type": "code",
   "execution_count": 15,
   "metadata": {},
   "outputs": [
    {
     "data": {
      "image/png": "[encoded data removed]",
      "text/html": [
       "<img src=\"data:image/png;base64,iVBORw0KGgoAAAANSUhEUgAAAGQAAABkCAAAAABVicqIAAAABGdBTUEAALGPC/xhBQAAAAFzUkdCAK7OHOkAAAAgY0hSTQAAeiYAAICEAAD6AAAAgOgAAHUwAADqYAAAOpgAABdwnLpRPAAAAcVJREFUaAW9wSFyVGkUBtBzqz6FQWU7WKJHg2YH2PTYYQXxLCJjR81OEBgQM/aSqj9Vr1+aJB1I3XPiVtuUlxcDYkAMSNtrS3k5MSAGxIB4QKO8jBgQA2JACm1TaEuj/L4YEANiQBwpp17ju98TA2JADIg7ZWl731CWf/DG88WAGBAD4k57WKPwxq+JATEgBsSAGBADYkDcc4nv+Bdt0yi/JgbEgBgQRwqNshTaXqNsvuLC42JADIgBcavQaEujnHrr1IWnxYAYEAPiVjvVKBTacmNpfMZ754kBMSAGxJFyvnd4Z1MeFgNiQAxI2zTKXjtP25S9GBADYkAcKecptIc1yiYGxIAYEEcaH/EJ/+GVTaHxPxplaT/XKEsMiAExIO75C5/wB27s/Ykrm8Ylbmz+xltLoxADYkAMSKHttc0HXOOAAw6WRuHa3iXaphEDYkAMiFuFtleWRlnacoELyxebQjsVA2JADIg7hbaU5WCv0PhqKRxw5XExIAbEgDhS9q5sXuObpdBoe22vLDEgBsSAOENbCo22FNqm/FwMiAExIJ6hnSpPiwExIAbEIwptr9Ao54sBMSAGxBPKptEozxMDYkAM+AFGHFT2xFU1qwAAAABJRU5ErkJg\">"
      ],
      "text/plain": [
       "25×25 Array{Gray{N0f8},2} with eltype Gray{N0f8}:\n",
       " Gray{N0f8}(0.0)  Gray{N0f8}(1.0)  …  Gray{N0f8}(0.0)  Gray{N0f8}(0.0)\n",
       " Gray{N0f8}(1.0)  Gray{N0f8}(1.0)     Gray{N0f8}(0.0)  Gray{N0f8}(0.0)\n",
       " Gray{N0f8}(1.0)  Gray{N0f8}(1.0)     Gray{N0f8}(0.0)  Gray{N0f8}(0.0)\n",
       " Gray{N0f8}(0.0)  Gray{N0f8}(1.0)     Gray{N0f8}(0.0)  Gray{N0f8}(0.0)\n",
       " Gray{N0f8}(0.0)  Gray{N0f8}(1.0)     Gray{N0f8}(0.0)  Gray{N0f8}(0.0)\n",
       " Gray{N0f8}(0.0)  Gray{N0f8}(1.0)  …  Gray{N0f8}(0.0)  Gray{N0f8}(0.0)\n",
       " Gray{N0f8}(0.0)  Gray{N0f8}(1.0)     Gray{N0f8}(0.0)  Gray{N0f8}(0.0)\n",
       " Gray{N0f8}(0.0)  Gray{N0f8}(1.0)     Gray{N0f8}(0.0)  Gray{N0f8}(0.0)\n",
       " Gray{N0f8}(0.0)  Gray{N0f8}(1.0)     Gray{N0f8}(0.0)  Gray{N0f8}(0.0)\n",
       " Gray{N0f8}(0.0)  Gray{N0f8}(1.0)     Gray{N0f8}(0.0)  Gray{N0f8}(0.0)\n",
       " Gray{N0f8}(0.0)  Gray{N0f8}(0.0)  …  Gray{N0f8}(0.0)  Gray{N0f8}(0.0)\n",
       " Gray{N0f8}(0.0)  Gray{N0f8}(1.0)     Gray{N0f8}(0.0)  Gray{N0f8}(0.0)\n",
       " Gray{N0f8}(0.0)  Gray{N0f8}(1.0)     Gray{N0f8}(0.0)  Gray{N0f8}(0.0)\n",
       " Gray{N0f8}(1.0)  Gray{N0f8}(1.0)     Gray{N0f8}(0.0)  Gray{N0f8}(0.0)\n",
       " Gray{N0f8}(1.0)  Gray{N0f8}(1.0)     Gray{N0f8}(0.0)  Gray{N0f8}(0.0)\n",
       " Gray{N0f8}(1.0)  Gray{N0f8}(1.0)  …  Gray{N0f8}(0.0)  Gray{N0f8}(0.0)\n",
       " Gray{N0f8}(1.0)  Gray{N0f8}(1.0)     Gray{N0f8}(1.0)  Gray{N0f8}(0.0)\n",
       " Gray{N0f8}(0.0)  Gray{N0f8}(1.0)     Gray{N0f8}(1.0)  Gray{N0f8}(1.0)\n",
       " Gray{N0f8}(0.0)  Gray{N0f8}(0.0)     Gray{N0f8}(1.0)  Gray{N0f8}(1.0)\n",
       " Gray{N0f8}(0.0)  Gray{N0f8}(0.0)     Gray{N0f8}(1.0)  Gray{N0f8}(1.0)\n",
       " Gray{N0f8}(0.0)  Gray{N0f8}(0.0)  …  Gray{N0f8}(0.0)  Gray{N0f8}(0.0)\n",
       " Gray{N0f8}(0.0)  Gray{N0f8}(0.0)     Gray{N0f8}(0.0)  Gray{N0f8}(0.0)\n",
       " Gray{N0f8}(0.0)  Gray{N0f8}(0.0)     Gray{N0f8}(0.0)  Gray{N0f8}(0.0)\n",
       " Gray{N0f8}(0.0)  Gray{N0f8}(0.0)     Gray{N0f8}(0.0)  Gray{N0f8}(0.0)\n",
       " Gray{N0f8}(0.0)  Gray{N0f8}(0.0)     Gray{N0f8}(0.0)  Gray{N0f8}(0.0)"
      ]
     },
     "execution_count": 15,
     "metadata": {},
     "output_type": "execute_result"
    }
   ],
   "source": [
    "Bimage_resized = imresize(Bimage, (q, r))"
   ]
  },
  {
   "cell_type": "code",
   "execution_count": 16,
   "metadata": {},
   "outputs": [],
   "source": [
    "B = zeros(q, r)\n",
    "for i in 1:q, j in 1:r\n",
    "    B[q-i+1, j] = Float64(Bimage_resized[i, j])\n",
    "end"
   ]
  },
  {
   "cell_type": "code",
   "execution_count": 17,
   "metadata": {},
   "outputs": [
    {
     "data": {
      "image/png": "[encoded data removed]"
     },
     "metadata": {},
     "output_type": "display_data"
    },
    {
     "data": {
      "text/plain": [
       "RObject{VecSxp}\n"
      ]
     },
     "execution_count": 17,
     "metadata": {},
     "output_type": "execute_result"
    }
   ],
   "source": [
    "@rput B\n",
    "R\"\"\"\n",
    "library(reshape2)\n",
    "library(ggplot2)\n",
    "library(dplyr)\n",
    "B %>% melt() %>%\n",
    "  ggplot() + \n",
    "  geom_raster(aes(x = factor(Var1), y = factor(Var2), fill = value)) + \n",
    "  scale_fill_gradient(low = \"black\", high = \"white\") +\n",
    "  theme_bw() + \n",
    "  labs(x = \"\", y = \"\") + \n",
    "  theme(legend.position = \"none\", axis.text.x=element_blank(), \n",
    "      axis.ticks.x=element_blank(), \n",
    "      axis.text.y=element_blank(), \n",
    "      axis.ticks.y=element_blank())\n",
    "#ggsave(\"../plots/SLMR-TrueSignal.eps\", dpi = 300, width = 4, height = 4)\n",
    "\"\"\""
   ]
  },
  {
   "cell_type": "code",
   "execution_count": 18,
   "metadata": {},
   "outputs": [],
   "source": [
    "Random.seed!(123)\n",
    "n = 2000 \n",
    "p = 2\n",
    "Z = randn(n, p)\n",
    "X = randn(q, r, n)\n",
    "γ = ones(p)\n",
    "σ = 1;"
   ]
  },
  {
   "cell_type": "code",
   "execution_count": 19,
   "metadata": {},
   "outputs": [],
   "source": [
    "y = σ * randn(n)\n",
    "for i in 1:n\n",
    "    @views y[i] += dot(Z[i, :], γ) + dot(B, X[:, :, i])\n",
    "end"
   ]
  },
  {
   "cell_type": "code",
   "execution_count": 20,
   "metadata": {},
   "outputs": [],
   "source": [
    "# initialize B using LS without regularization\n",
    "# The design matrix is [Z_i vec(X_i)] \n",
    "# The coefficient is [γ vec(B)]\n",
    "Xnew = zeros(n, p+q*r)\n",
    "for i in 1:n\n",
    "    Xnew[i, :] = vcat(Z[i, :], vec(X[:,:,i]))\n",
    "end\n",
    "γB = Xnew \\ y\n",
    "B₀ = similar(X[:,:,1])\n",
    "copyto!(B₀, γB[3:end]);"
   ]
  },
  {
   "cell_type": "code",
   "execution_count": 21,
   "metadata": {},
   "outputs": [],
   "source": [
    "k = 20\n",
    "λ = 0.001 \n",
    "σ²prior = (0.01, 0.01)\n",
    "αprior  = (sum(svdvals(B₀)), 2.) \n",
    "rmr = SLMRProblem(y, Z, X, λ, σ²prior, αprior, k);"
   ]
  },
  {
   "cell_type": "code",
   "execution_count": 22,
   "metadata": {},
   "outputs": [],
   "source": [
    "γ₀ = zeros(p)\n",
    "α₀ = 1.0\n",
    "σ²₀= 1.0\n",
    "paras = vcat(γ₀, vec(B₀), log(σ²₀), log(α₀));"
   ]
  },
  {
   "cell_type": "code",
   "execution_count": 23,
   "metadata": {},
   "outputs": [
    {
     "data": {
      "text/plain": [
       "-125841.13387071944"
      ]
     },
     "execution_count": 23,
     "metadata": {},
     "output_type": "execute_result"
    }
   ],
   "source": [
    "LogDensityProblems.logdensity(rmr, paras)"
   ]
  },
  {
   "cell_type": "code",
   "execution_count": null,
   "metadata": {},
   "outputs": [],
   "source": [
    "# takes several hours\n",
    "results = mcmc_with_warmup(Random.GLOBAL_RNG, rmr, 10_000, reporter=ProgressMeterReport(), initialization = (q = paras,));"
   ]
  },
  {
   "cell_type": "code",
   "execution_count": 25,
   "metadata": {},
   "outputs": [
    {
     "data": {
      "text/plain": [
       "Hamiltonian Monte Carlo sample of length 10000\n",
       "  acceptance rate mean: 0.69, 5/25/50/75/95%: 0.29 0.53 0.7 0.89 1.0\n",
       "  termination: divergence => 0%, max_depth => 0%, turning => 100%\n",
       "  depth: 0 => 0%, 1 => 0%, 2 => 0%, 3 => 0%, 4 => 0%, 5 => 0%, 6 => 0%, 7 => 0%, 8 => 0%, 9 => 100%"
      ]
     },
     "execution_count": 25,
     "metadata": {},
     "output_type": "execute_result"
    }
   ],
   "source": [
    "summarize_tree_statistics(results.tree_statistics)"
   ]
  },
  {
   "cell_type": "code",
   "execution_count": 26,
   "metadata": {},
   "outputs": [],
   "source": [
    "results_matrix = transpose(results.posterior_matrix);"
   ]
  },
  {
   "cell_type": "code",
   "execution_count": null,
   "metadata": {},
   "outputs": [],
   "source": [
    "CSV.write(\"../results/SLMR-N2000-K20.csv\", DataFrame(results_matrix, :auto))"
   ]
  },
  {
   "cell_type": "code",
   "execution_count": null,
   "metadata": {},
   "outputs": [],
   "source": [
    "results_matrix = CSV.read(\"../results/SLMR-N2000-K20.csv\", DataFrame);"
   ]
  },
  {
   "cell_type": "code",
   "execution_count": 41,
   "metadata": {},
   "outputs": [
    {
     "data": {
      "text/plain": [
       "25"
      ]
     },
     "execution_count": 41,
     "metadata": {},
     "output_type": "execute_result"
    }
   ],
   "source": [
    "p = 2\n",
    "q = 25\n",
    "r = 25"
   ]
  },
  {
   "cell_type": "code",
   "execution_count": 42,
   "metadata": {},
   "outputs": [],
   "source": [
    "chn = Chains(\n",
    "    Matrix(results_matrix),\n",
    "    [\"γ[\" .* string.(1:p) .* \"]\"; \"B[\" .* string.(1:(q*r)) .* \"]\"; \"σ²\"; \"α\"],\n",
    "    thin = 10);"
   ]
  },
  {
   "cell_type": "code",
   "execution_count": 43,
   "metadata": {},
   "outputs": [],
   "source": [
    "result_summary = DataFrame(summarize(chn));\n",
    "result_quantile = DataFrame(quantile(chn));"
   ]
  },
  {
   "cell_type": "code",
   "execution_count": 44,
   "metadata": {},
   "outputs": [],
   "source": [
    "B_postmean = zeros(q, r)\n",
    "copyto!(B_postmean, result_summary[(p+1):(p+q*r), 2]);"
   ]
  },
  {
   "cell_type": "code",
   "execution_count": 45,
   "metadata": {},
   "outputs": [
    {
     "data": {
      "image/png": "[encoded data removed]"
     },
     "metadata": {},
     "output_type": "display_data"
    },
    {
     "data": {
      "text/plain": [
       "RObject{VecSxp}\n"
      ]
     },
     "execution_count": 45,
     "metadata": {},
     "output_type": "execute_result"
    }
   ],
   "source": [
    "@rput B_postmean\n",
    "R\"\"\"\n",
    "library(reshape2)\n",
    "library(ggplot2)\n",
    "library(dplyr)\n",
    "B_postmean %>% melt() %>%\n",
    "  ggplot() + \n",
    "  geom_raster(aes(x = factor(Var1), y = factor(Var2), fill = value)) + \n",
    "  scale_fill_gradient(low = \"black\", high = \"white\") +\n",
    "  theme_bw() + \n",
    "  labs(x = \"\", y = \"\") + \n",
    "  theme(legend.position = \"none\", axis.text.x=element_blank(), \n",
    "      axis.ticks.x=element_blank(), \n",
    "      axis.text.y=element_blank(), \n",
    "      axis.ticks.y=element_blank())\n",
    "#ggsave(\"../plots/SLMR-PostMean-N2000-K20.eps\", dpi = 300, width = 4, height = 4)\n",
    "\"\"\""
   ]
  },
  {
   "cell_type": "code",
   "execution_count": 46,
   "metadata": {},
   "outputs": [],
   "source": [
    "df = result_quantile[(p+1):(p+q*r), [\"parameters\", \"2.5%\", \"97.5%\"]]\n",
    "df[:, :truth] = vec(B);"
   ]
  },
  {
   "cell_type": "code",
   "execution_count": 47,
   "metadata": {},
   "outputs": [
    {
     "data": {
      "text/plain": [
       "0.9488"
      ]
     },
     "execution_count": 47,
     "metadata": {},
     "output_type": "execute_result"
    }
   ],
   "source": [
    "# Calculates coverage\n",
    "cover = zeros(size(df, 1))\n",
    "for i in 1:length(cover)\n",
    "    cover[i] = df[i, 2] ≤ df[i, 4] ≤ df[i, 3] ? 1 : 0\n",
    "end\n",
    "sum(cover)/length(cover) "
   ]
  },
  {
   "cell_type": "code",
   "execution_count": 48,
   "metadata": {},
   "outputs": [
    {
     "data": {
      "image/png": "[encoded data removed]"
     },
     "metadata": {},
     "output_type": "display_data"
    },
    {
     "data": {
      "text/plain": [
       "RObject{VecSxp}\n"
      ]
     },
     "execution_count": 48,
     "metadata": {},
     "output_type": "execute_result"
    }
   ],
   "source": [
    "# Plot CI for some parameters\n",
    "@rput df\n",
    "\n",
    "R\"\"\"\n",
    "library(ggplot2)\n",
    "colnames(df) <- c(\"Parameter\", \"lower\", \"upper\", \"truth\")\n",
    "firstidx = 13*25+15\n",
    "lastidx  = 14*25\n",
    "df$Variable <- factor(1:nrow(df))\n",
    "ggplot(df[firstidx:lastidx, ], aes(Variable), dpi = 300) + \n",
    "  geom_linerange(aes(ymin = lower, ymax = upper)) + \n",
    "  geom_point(aes(x = Variable, y = truth), size = 2.5) + labs(y = \"Value\", x = \"Parameter\") + theme_bw() +\n",
    "  theme(axis.text=element_text(size=13), axis.title=element_text(size=15))\n",
    "#ggsave(\"results/FRMR-Gaussian-FixedRank-N2000-CI-1s.png\", dpi = 300)\n",
    "\"\"\""
   ]
  },
  {
   "cell_type": "code",
   "execution_count": 49,
   "metadata": {},
   "outputs": [],
   "source": [
    "B_se = similar(B)\n",
    "copyto!(B_se, result_summary[(p+1):(p+q*r), 3]);"
   ]
  },
  {
   "cell_type": "code",
   "execution_count": 50,
   "metadata": {
    "scrolled": true
   },
   "outputs": [
    {
     "data": {
      "image/svg+xml": [
       "<?xml version=\"1.0\" encoding=\"utf-8\"?>\n",
       "<svg xmlns=\"http://www.w3.org/2000/svg\" xmlns:xlink=\"http://www.w3.org/1999/xlink\" width=\"300\" height=\"300\" viewBox=\"0 0 1200 1200\">\n",
       "<defs>\n",
       "  <clipPath id=\"clip850\">\n",
       "    <rect x=\"0\" y=\"0\" width=\"1200\" height=\"1200\"/>\n",
       "  </clipPath>\n",
       "</defs>\n",
       "<path clip-path=\"url(#clip850)\" d=\"M0 1200 L1200 1200 L1200 0 L0 0  Z\" fill=\"#ffffff\" fill-rule=\"evenodd\" fill-opacity=\"1\"/>\n",
       "<defs>\n",
       "  <clipPath id=\"clip851\">\n",
       "    <rect x=\"240\" y=\"120\" width=\"841\" height=\"841\"/>\n",
       "  </clipPath>\n",
       "</defs>\n",
       "<path clip-path=\"url(#clip850)\" d=\"M128.696 1073.17 L1152.76 1073.17 L1152.76 47.2441 L128.696 47.2441  Z\" fill=\"#ffffff\" fill-rule=\"evenodd\" fill-opacity=\"1\"/>\n",
       "<defs>\n",
       "  <clipPath id=\"clip852\">\n",
       "    <rect x=\"128\" y=\"47\" width=\"1025\" height=\"1027\"/>\n",
       "  </clipPath>\n",
       "</defs>\n",
       "<polyline clip-path=\"url(#clip852)\" style=\"stroke:#000000; stroke-linecap:round; stroke-linejoin:round; stroke-width:2; stroke-opacity:0.1; fill:none\" points=\"313.026,1073.17 313.026,47.2441 \"/>\n",
       "<polyline clip-path=\"url(#clip852)\" style=\"stroke:#000000; stroke-linecap:round; stroke-linejoin:round; stroke-width:2; stroke-opacity:0.1; fill:none\" points=\"517.838,1073.17 517.838,47.2441 \"/>\n",
       "<polyline clip-path=\"url(#clip852)\" style=\"stroke:#000000; stroke-linecap:round; stroke-linejoin:round; stroke-width:2; stroke-opacity:0.1; fill:none\" points=\"722.651,1073.17 722.651,47.2441 \"/>\n",
       "<polyline clip-path=\"url(#clip852)\" style=\"stroke:#000000; stroke-linecap:round; stroke-linejoin:round; stroke-width:2; stroke-opacity:0.1; fill:none\" points=\"927.463,1073.17 927.463,47.2441 \"/>\n",
       "<polyline clip-path=\"url(#clip852)\" style=\"stroke:#000000; stroke-linecap:round; stroke-linejoin:round; stroke-width:2; stroke-opacity:0.1; fill:none\" points=\"1132.27,1073.17 1132.27,47.2441 \"/>\n",
       "<polyline clip-path=\"url(#clip850)\" style=\"stroke:#000000; stroke-linecap:round; stroke-linejoin:round; stroke-width:4; stroke-opacity:1; fill:none\" points=\"128.696,1073.17 1152.76,1073.17 \"/>\n",
       "<polyline clip-path=\"url(#clip850)\" style=\"stroke:#000000; stroke-linecap:round; stroke-linejoin:round; stroke-width:4; stroke-opacity:1; fill:none\" points=\"313.026,1073.17 313.026,1054.27 \"/>\n",
       "<polyline clip-path=\"url(#clip850)\" style=\"stroke:#000000; stroke-linecap:round; stroke-linejoin:round; stroke-width:4; stroke-opacity:1; fill:none\" points=\"517.838,1073.17 517.838,1054.27 \"/>\n",
       "<polyline clip-path=\"url(#clip850)\" style=\"stroke:#000000; stroke-linecap:round; stroke-linejoin:round; stroke-width:4; stroke-opacity:1; fill:none\" points=\"722.651,1073.17 722.651,1054.27 \"/>\n",
       "<polyline clip-path=\"url(#clip850)\" style=\"stroke:#000000; stroke-linecap:round; stroke-linejoin:round; stroke-width:4; stroke-opacity:1; fill:none\" points=\"927.463,1073.17 927.463,1054.27 \"/>\n",
       "<polyline clip-path=\"url(#clip850)\" style=\"stroke:#000000; stroke-linecap:round; stroke-linejoin:round; stroke-width:4; stroke-opacity:1; fill:none\" points=\"1132.27,1073.17 1132.27,1054.27 \"/>\n",
       "<path clip-path=\"url(#clip850)\" d=\"M303.304 1091.41 L321.661 1091.41 L321.661 1095.34 L307.587 1095.34 L307.587 1103.82 Q308.605 1103.47 309.624 1103.31 Q310.642 1103.12 311.661 1103.12 Q317.448 1103.12 320.827 1106.29 Q324.207 1109.46 324.207 1114.88 Q324.207 1120.46 320.735 1123.56 Q317.262 1126.64 310.943 1126.64 Q308.767 1126.64 306.499 1126.27 Q304.253 1125.9 301.846 1125.16 L301.846 1120.46 Q303.929 1121.59 306.151 1122.15 Q308.374 1122.7 310.85 1122.7 Q314.855 1122.7 317.193 1120.6 Q319.531 1118.49 319.531 1114.88 Q319.531 1111.27 317.193 1109.16 Q314.855 1107.06 310.85 1107.06 Q308.976 1107.06 307.101 1107.47 Q305.249 1107.89 303.304 1108.77 L303.304 1091.41 Z\" fill=\"#000000\" fill-rule=\"nonzero\" fill-opacity=\"1\" /><path clip-path=\"url(#clip850)\" d=\"M492.526 1122.03 L500.165 1122.03 L500.165 1095.67 L491.855 1097.33 L491.855 1093.07 L500.119 1091.41 L504.795 1091.41 L504.795 1122.03 L512.433 1122.03 L512.433 1125.97 L492.526 1125.97 L492.526 1122.03 Z\" fill=\"#000000\" fill-rule=\"nonzero\" fill-opacity=\"1\" /><path clip-path=\"url(#clip850)\" d=\"M531.878 1094.49 Q528.267 1094.49 526.438 1098.05 Q524.632 1101.59 524.632 1108.72 Q524.632 1115.83 526.438 1119.39 Q528.267 1122.94 531.878 1122.94 Q535.512 1122.94 537.318 1119.39 Q539.146 1115.83 539.146 1108.72 Q539.146 1101.59 537.318 1098.05 Q535.512 1094.49 531.878 1094.49 M531.878 1090.78 Q537.688 1090.78 540.743 1095.39 Q543.822 1099.97 543.822 1108.72 Q543.822 1117.45 540.743 1122.06 Q537.688 1126.64 531.878 1126.64 Q526.068 1126.64 522.989 1122.06 Q519.933 1117.45 519.933 1108.72 Q519.933 1099.97 522.989 1095.39 Q526.068 1090.78 531.878 1090.78 Z\" fill=\"#000000\" fill-rule=\"nonzero\" fill-opacity=\"1\" /><path clip-path=\"url(#clip850)\" d=\"M697.836 1122.03 L705.475 1122.03 L705.475 1095.67 L697.165 1097.33 L697.165 1093.07 L705.428 1091.41 L710.104 1091.41 L710.104 1122.03 L717.743 1122.03 L717.743 1125.97 L697.836 1125.97 L697.836 1122.03 Z\" fill=\"#000000\" fill-rule=\"nonzero\" fill-opacity=\"1\" /><path clip-path=\"url(#clip850)\" d=\"M727.234 1091.41 L745.59 1091.41 L745.59 1095.34 L731.516 1095.34 L731.516 1103.82 Q732.535 1103.47 733.553 1103.31 Q734.572 1103.12 735.59 1103.12 Q741.377 1103.12 744.757 1106.29 Q748.137 1109.46 748.137 1114.88 Q748.137 1120.46 744.664 1123.56 Q741.192 1126.64 734.873 1126.64 Q732.697 1126.64 730.428 1126.27 Q728.183 1125.9 725.776 1125.16 L725.776 1120.46 Q727.859 1121.59 730.081 1122.15 Q732.303 1122.7 734.78 1122.7 Q738.785 1122.7 741.123 1120.6 Q743.461 1118.49 743.461 1114.88 Q743.461 1111.27 741.123 1109.16 Q738.785 1107.06 734.78 1107.06 Q732.905 1107.06 731.03 1107.47 Q729.178 1107.89 727.234 1108.77 L727.234 1091.41 Z\" fill=\"#000000\" fill-rule=\"nonzero\" fill-opacity=\"1\" /><path clip-path=\"url(#clip850)\" d=\"M906.236 1122.03 L922.555 1122.03 L922.555 1125.97 L900.611 1125.97 L900.611 1122.03 Q903.273 1119.28 907.856 1114.65 Q912.463 1110 913.643 1108.65 Q915.889 1106.13 916.768 1104.39 Q917.671 1102.63 917.671 1100.94 Q917.671 1098.19 915.727 1096.45 Q913.805 1094.72 910.703 1094.72 Q908.504 1094.72 906.051 1095.48 Q903.62 1096.25 900.842 1097.8 L900.842 1093.07 Q903.666 1091.94 906.12 1091.36 Q908.574 1090.78 910.611 1090.78 Q915.981 1090.78 919.176 1093.47 Q922.37 1096.15 922.37 1100.64 Q922.37 1102.77 921.56 1104.69 Q920.773 1106.59 918.666 1109.19 Q918.088 1109.86 914.986 1113.07 Q911.884 1116.27 906.236 1122.03 Z\" fill=\"#000000\" fill-rule=\"nonzero\" fill-opacity=\"1\" /><path clip-path=\"url(#clip850)\" d=\"M942.37 1094.49 Q938.759 1094.49 936.93 1098.05 Q935.125 1101.59 935.125 1108.72 Q935.125 1115.83 936.93 1119.39 Q938.759 1122.94 942.37 1122.94 Q946.004 1122.94 947.81 1119.39 Q949.638 1115.83 949.638 1108.72 Q949.638 1101.59 947.81 1098.05 Q946.004 1094.49 942.37 1094.49 M942.37 1090.78 Q948.18 1090.78 951.236 1095.39 Q954.314 1099.97 954.314 1108.72 Q954.314 1117.45 951.236 1122.06 Q948.18 1126.64 942.37 1126.64 Q936.56 1126.64 933.481 1122.06 Q930.426 1117.45 930.426 1108.72 Q930.426 1099.97 933.481 1095.39 Q936.56 1090.78 942.37 1090.78 Z\" fill=\"#000000\" fill-rule=\"nonzero\" fill-opacity=\"1\" /><path clip-path=\"url(#clip850)\" d=\"M1111.55 1122.03 L1127.86 1122.03 L1127.86 1125.97 L1105.92 1125.97 L1105.92 1122.03 Q1108.58 1119.28 1113.17 1114.65 Q1117.77 1110 1118.95 1108.65 Q1121.2 1106.13 1122.08 1104.39 Q1122.98 1102.63 1122.98 1100.94 Q1122.98 1098.19 1121.04 1096.45 Q1119.12 1094.72 1116.01 1094.72 Q1113.81 1094.72 1111.36 1095.48 Q1108.93 1096.25 1106.15 1097.8 L1106.15 1093.07 Q1108.98 1091.94 1111.43 1091.36 Q1113.88 1090.78 1115.92 1090.78 Q1121.29 1090.78 1124.49 1093.47 Q1127.68 1096.15 1127.68 1100.64 Q1127.68 1102.77 1126.87 1104.69 Q1126.08 1106.59 1123.98 1109.19 Q1123.4 1109.86 1120.3 1113.07 Q1117.19 1116.27 1111.55 1122.03 Z\" fill=\"#000000\" fill-rule=\"nonzero\" fill-opacity=\"1\" /><path clip-path=\"url(#clip850)\" d=\"M1137.73 1091.41 L1156.08 1091.41 L1156.08 1095.34 L1142.01 1095.34 L1142.01 1103.82 Q1143.03 1103.47 1144.05 1103.31 Q1145.06 1103.12 1146.08 1103.12 Q1151.87 1103.12 1155.25 1106.29 Q1158.63 1109.46 1158.63 1114.88 Q1158.63 1120.46 1155.16 1123.56 Q1151.68 1126.64 1145.36 1126.64 Q1143.19 1126.64 1140.92 1126.27 Q1138.68 1125.9 1136.27 1125.16 L1136.27 1120.46 Q1138.35 1121.59 1140.57 1122.15 Q1142.8 1122.7 1145.27 1122.7 Q1149.28 1122.7 1151.61 1120.6 Q1153.95 1118.49 1153.95 1114.88 Q1153.95 1111.27 1151.61 1109.16 Q1149.28 1107.06 1145.27 1107.06 Q1143.4 1107.06 1141.52 1107.47 Q1139.67 1107.89 1137.73 1108.77 L1137.73 1091.41 Z\" fill=\"#000000\" fill-rule=\"nonzero\" fill-opacity=\"1\" /><polyline clip-path=\"url(#clip852)\" style=\"stroke:#000000; stroke-linecap:round; stroke-linejoin:round; stroke-width:2; stroke-opacity:0.1; fill:none\" points=\"128.696,888.502 1152.76,888.502 \"/>\n",
       "<polyline clip-path=\"url(#clip852)\" style=\"stroke:#000000; stroke-linecap:round; stroke-linejoin:round; stroke-width:2; stroke-opacity:0.1; fill:none\" points=\"128.696,683.317 1152.76,683.317 \"/>\n",
       "<polyline clip-path=\"url(#clip852)\" style=\"stroke:#000000; stroke-linecap:round; stroke-linejoin:round; stroke-width:2; stroke-opacity:0.1; fill:none\" points=\"128.696,478.132 1152.76,478.132 \"/>\n",
       "<polyline clip-path=\"url(#clip852)\" style=\"stroke:#000000; stroke-linecap:round; stroke-linejoin:round; stroke-width:2; stroke-opacity:0.1; fill:none\" points=\"128.696,272.947 1152.76,272.947 \"/>\n",
       "<polyline clip-path=\"url(#clip852)\" style=\"stroke:#000000; stroke-linecap:round; stroke-linejoin:round; stroke-width:2; stroke-opacity:0.1; fill:none\" points=\"128.696,67.7626 1152.76,67.7626 \"/>\n",
       "<polyline clip-path=\"url(#clip850)\" style=\"stroke:#000000; stroke-linecap:round; stroke-linejoin:round; stroke-width:4; stroke-opacity:1; fill:none\" points=\"128.696,1073.17 128.696,47.2441 \"/>\n",
       "<polyline clip-path=\"url(#clip850)\" style=\"stroke:#000000; stroke-linecap:round; stroke-linejoin:round; stroke-width:4; stroke-opacity:1; fill:none\" points=\"128.696,888.502 147.593,888.502 \"/>\n",
       "<polyline clip-path=\"url(#clip850)\" style=\"stroke:#000000; stroke-linecap:round; stroke-linejoin:round; stroke-width:4; stroke-opacity:1; fill:none\" points=\"128.696,683.317 147.593,683.317 \"/>\n",
       "<polyline clip-path=\"url(#clip850)\" style=\"stroke:#000000; stroke-linecap:round; stroke-linejoin:round; stroke-width:4; stroke-opacity:1; fill:none\" points=\"128.696,478.132 147.593,478.132 \"/>\n",
       "<polyline clip-path=\"url(#clip850)\" style=\"stroke:#000000; stroke-linecap:round; stroke-linejoin:round; stroke-width:4; stroke-opacity:1; fill:none\" points=\"128.696,272.947 147.593,272.947 \"/>\n",
       "<polyline clip-path=\"url(#clip850)\" style=\"stroke:#000000; stroke-linecap:round; stroke-linejoin:round; stroke-width:4; stroke-opacity:1; fill:none\" points=\"128.696,67.7626 147.593,67.7626 \"/>\n",
       "<path clip-path=\"url(#clip850)\" d=\"M89.7929 871.222 L108.149 871.222 L108.149 875.157 L94.0753 875.157 L94.0753 883.629 Q95.0938 883.282 96.1123 883.12 Q97.1308 882.934 98.1493 882.934 Q103.936 882.934 107.316 886.106 Q110.696 889.277 110.696 894.694 Q110.696 900.272 107.223 903.374 Q103.751 906.453 97.4317 906.453 Q95.2558 906.453 92.9873 906.083 Q90.7419 905.712 88.3346 904.971 L88.3346 900.272 Q90.4179 901.407 92.6401 901.962 Q94.8623 902.518 97.3391 902.518 Q101.344 902.518 103.682 900.411 Q106.02 898.305 106.02 894.694 Q106.02 891.083 103.682 888.976 Q101.344 886.87 97.3391 886.87 Q95.4641 886.87 93.5892 887.286 Q91.7373 887.703 89.7929 888.583 L89.7929 871.222 Z\" fill=\"#000000\" fill-rule=\"nonzero\" fill-opacity=\"1\" /><path clip-path=\"url(#clip850)\" d=\"M59.3995 696.662 L67.0384 696.662 L67.0384 670.296 L58.7282 671.963 L58.7282 667.703 L66.9921 666.037 L71.668 666.037 L71.668 696.662 L79.3068 696.662 L79.3068 700.597 L59.3995 700.597 L59.3995 696.662 Z\" fill=\"#000000\" fill-rule=\"nonzero\" fill-opacity=\"1\" /><path clip-path=\"url(#clip850)\" d=\"M98.7512 669.116 Q95.1401 669.116 93.3114 672.68 Q91.5058 676.222 91.5058 683.352 Q91.5058 690.458 93.3114 694.023 Q95.1401 697.564 98.7512 697.564 Q102.385 697.564 104.191 694.023 Q106.02 690.458 106.02 683.352 Q106.02 676.222 104.191 672.68 Q102.385 669.116 98.7512 669.116 M98.7512 665.412 Q104.561 665.412 107.617 670.018 Q110.696 674.602 110.696 683.352 Q110.696 692.078 107.617 696.685 Q104.561 701.268 98.7512 701.268 Q92.941 701.268 89.8623 696.685 Q86.8068 692.078 86.8068 683.352 Q86.8068 674.602 89.8623 670.018 Q92.941 665.412 98.7512 665.412 Z\" fill=\"#000000\" fill-rule=\"nonzero\" fill-opacity=\"1\" /><path clip-path=\"url(#clip850)\" d=\"M60.3949 491.477 L68.0337 491.477 L68.0337 465.111 L59.7236 466.778 L59.7236 462.519 L67.9874 460.852 L72.6633 460.852 L72.6633 491.477 L80.3022 491.477 L80.3022 495.412 L60.3949 495.412 L60.3949 491.477 Z\" fill=\"#000000\" fill-rule=\"nonzero\" fill-opacity=\"1\" /><path clip-path=\"url(#clip850)\" d=\"M89.7929 460.852 L108.149 460.852 L108.149 464.787 L94.0753 464.787 L94.0753 473.259 Q95.0938 472.912 96.1123 472.75 Q97.1308 472.565 98.1493 472.565 Q103.936 472.565 107.316 475.736 Q110.696 478.908 110.696 484.324 Q110.696 489.903 107.223 493.005 Q103.751 496.083 97.4317 496.083 Q95.2558 496.083 92.9873 495.713 Q90.7419 495.343 88.3346 494.602 L88.3346 489.903 Q90.4179 491.037 92.6401 491.593 Q94.8623 492.148 97.3391 492.148 Q101.344 492.148 103.682 490.042 Q106.02 487.935 106.02 484.324 Q106.02 480.713 103.682 478.607 Q101.344 476.5 97.3391 476.5 Q95.4641 476.5 93.5892 476.917 Q91.7373 477.333 89.7929 478.213 L89.7929 460.852 Z\" fill=\"#000000\" fill-rule=\"nonzero\" fill-opacity=\"1\" /><path clip-path=\"url(#clip850)\" d=\"M62.6171 286.292 L78.9365 286.292 L78.9365 290.227 L56.9921 290.227 L56.9921 286.292 Q59.6541 283.538 64.2375 278.908 Q68.8439 274.255 70.0245 272.913 Q72.2698 270.389 73.1494 268.653 Q74.0522 266.894 74.0522 265.204 Q74.0522 262.45 72.1078 260.714 Q70.1865 258.977 67.0847 258.977 Q64.8856 258.977 62.4319 259.741 Q60.0014 260.505 57.2236 262.056 L57.2236 257.334 Q60.0477 256.2 62.5014 255.621 Q64.955 255.042 66.9921 255.042 Q72.3624 255.042 75.5568 257.728 Q78.7513 260.413 78.7513 264.903 Q78.7513 267.033 77.9411 268.954 Q77.1541 270.852 75.0476 273.445 Q74.4689 274.116 71.367 277.334 Q68.2652 280.528 62.6171 286.292 Z\" fill=\"#000000\" fill-rule=\"nonzero\" fill-opacity=\"1\" /><path clip-path=\"url(#clip850)\" d=\"M98.7512 258.746 Q95.1401 258.746 93.3114 262.311 Q91.5058 265.852 91.5058 272.982 Q91.5058 280.088 93.3114 283.653 Q95.1401 287.195 98.7512 287.195 Q102.385 287.195 104.191 283.653 Q106.02 280.088 106.02 272.982 Q106.02 265.852 104.191 262.311 Q102.385 258.746 98.7512 258.746 M98.7512 255.042 Q104.561 255.042 107.617 259.649 Q110.696 264.232 110.696 272.982 Q110.696 281.709 107.617 286.315 Q104.561 290.899 98.7512 290.899 Q92.941 290.899 89.8623 286.315 Q86.8068 281.709 86.8068 272.982 Q86.8068 264.232 89.8623 259.649 Q92.941 255.042 98.7512 255.042 Z\" fill=\"#000000\" fill-rule=\"nonzero\" fill-opacity=\"1\" /><path clip-path=\"url(#clip850)\" d=\"M63.6125 81.1074 L79.9318 81.1074 L79.9318 85.0426 L57.9875 85.0426 L57.9875 81.1074 Q60.6495 78.3528 65.2328 73.7232 Q69.8393 69.0704 71.0198 67.7278 Q73.2652 65.2047 74.1448 63.4686 Q75.0476 61.7094 75.0476 60.0196 Q75.0476 57.2649 73.1032 55.5288 Q71.1819 53.7927 68.08 53.7927 Q65.881 53.7927 63.4273 54.5566 Q60.9967 55.3205 58.219 56.8714 L58.219 52.1492 Q61.043 51.015 63.4967 50.4363 Q65.9504 49.8576 67.9874 49.8576 Q73.3578 49.8576 76.5522 52.5427 Q79.7466 55.2279 79.7466 59.7186 Q79.7466 61.8482 78.9365 63.7695 Q78.1494 65.6677 76.0429 68.2603 Q75.4642 68.9315 72.3624 72.1491 Q69.2606 75.3435 63.6125 81.1074 Z\" fill=\"#000000\" fill-rule=\"nonzero\" fill-opacity=\"1\" /><path clip-path=\"url(#clip850)\" d=\"M89.7929 50.4826 L108.149 50.4826 L108.149 54.4177 L94.0753 54.4177 L94.0753 62.8899 Q95.0938 62.5427 96.1123 62.3807 Q97.1308 62.1955 98.1493 62.1955 Q103.936 62.1955 107.316 65.3667 Q110.696 68.538 110.696 73.9547 Q110.696 79.5333 107.223 82.6352 Q103.751 85.7139 97.4317 85.7139 Q95.2558 85.7139 92.9873 85.3435 Q90.7419 84.9731 88.3346 84.2324 L88.3346 79.5333 Q90.4179 80.6676 92.6401 81.2231 Q94.8623 81.7787 97.3391 81.7787 Q101.344 81.7787 103.682 79.6722 Q106.02 77.5658 106.02 73.9547 Q106.02 70.3436 103.682 68.2371 Q101.344 66.1306 97.3391 66.1306 Q95.4641 66.1306 93.5892 66.5473 Q91.7373 66.964 89.7929 67.8436 L89.7929 50.4826 Z\" fill=\"#000000\" fill-rule=\"nonzero\" fill-opacity=\"1\" /><g clip-path=\"url(#clip852)\">\n",
       "<image width=\"1024\" height=\"1026\" xlink:href=\"data:image/png;base64,\n",
       "iVBORw0KGgoAAAANSUhEUgAABAAAAAQCCAYAAAAy1YqIAAAgAElEQVR4nOza/6/Xdf3/8Y4c5HCQ\n",
       "L0kIB0UE4osWuNhC5hfMyrm+LdT1xX10brVq9Ys/tPauH/rJ7eOW/apr/aSzfrDlxMrMicEKTDMc\n",
       "OvALA0IMPUIIFHQYIufzH5z7D+2zO+d9u1z+gtvOOc/n43Wur8fAN7/5zfEPnef27NnTPaH00Y9+\n",
       "tHtC6Stf+Ur3hNKOHTu6J5TefPPN7gmlefPmdU8oLVmypHtCaXBwsHtC6YknnuieUFq7dm33hNKR\n",
       "I0e6J5S+/vWvd08o7dq1q3tCaWBgoHtC6ZOf/GT3hNK9997bPaE0Gc7CyeCf//xn94TSiRMnuieU\n",
       "xsfP+3+5PnTmzJnuCaVLL720e0Jp//793RMmdEH3AAAAAOD/PwEAAAAAAggAAAAAEEAAAAAAgAAC\n",
       "AAAAAAQQAAAAACCAAAAAAAABBAAAAAAIIAAAAABAAAEAAAAAAggAAAAAEEAAAAAAgAACAAAAAAQQ\n",
       "AAAAACCAAAAAAAABBAAAAAAIIAAAAABAAAEAAAAAAggAAAAAEEAAAAAAgAACAAAAAAQQAAAAACCA\n",
       "AAAAAAABBAAAAAAIIAAAAABAAAEAAAAAAggAAAAAEEAAAAAAgAACAAAAAAQQAAAAACCAAAAAAAAB\n",
       "BAAAAAAIIAAAAABAAAEAAAAAAggAAAAAEEAAAAAAgAACAAAAAAQQAAAAACCAAAAAAAABBAAAAAAI\n",
       "IAAAAABAgMHbb7+9e0NpdHS0e0JpbGyse0JpaGioe0LpzTff7J5Qmjp1aveE0sqVK7snlObNm9c9\n",
       "obRp06buCaUrr7yye0Lp6quv7p5Q2rV7d/eE0vLly7snlB588MHuCaVbbrmle0Jpy5Yt3RNKd955\n",
       "Z/eE0lNPPdU9obRw4cLuCaVZs2Z1Tyjdf//93RNKmzdv7p5Q2rZtW/eE0sGDB7snlJYsWdI9YUJu\n",
       "AAAAAEAAAQAAAAACCAAAAAAQQAAAAACAAAIAAAAABBAAAAAAIIAAAAAAAAEEAAAAAAggAAAAAEAA\n",
       "AQAAAAACCAAAAAAQQAAAAACAAAIAAAAABBAAAAAAIIAAAAAAAAEEAAAAAAggAAAAAEAAAQAAAAAC\n",
       "CAAAAAAQQAAAAACAAAIAAAAABBAAAAAAIIAAAAAAAAEEAAAAAAggAAAAAEAAAQAAAAACCAAAAAAQ\n",
       "QAAAAACAAAIAAAAABBAAAAAAIIAAAAAAAAEEAAAAAAggAAAAAEAAAQAAAAACCAAAAAAQQAAAAACA\n",
       "AAIAAAAABBAAAAAAIIAAAAAAAAEEAAAAAAgw8Mtf/nK8e0Tl8OHD3RNKY2Nj3RNK1113XfeE0ujo\n",
       "aPeE0lNPPdU9oXTjjTd2TyidPHmye0Jp37593RNK11xzTfeE0u7du7snlBYuXNg9oTRr1qzuCaVp\n",
       "06Z1Tyg9/vjj3RNKy5cv755QmgyfexYvXtw9ofTMM890TyhdccUV3RNKH//4x7snlN59993uCaXJ\n",
       "8Dn8+PHj3RNKy5Yt654wITcAAAAAIIAAAAAAAAEEAAAAAAggAAAAAEAAAQAAAAACCAAAAAAQQAAA\n",
       "AACAAAIAAAAABBAAAAAAIIAAAAAAAAEEAAAAAAggAAAAAEAAAQAAAAACCAAAAAAQQAAAAACAAAIA\n",
       "AAAABBAAAAAAIIAAAAAAAAEEAAAAAAggAAAAAEAAAQAAAAACCAAAAAAQQAAAAACAAAIAAAAABBAA\n",
       "AAAAIIAAAAAAAAEEAAAAAAggAAAAAEAAAQAAAAACCAAAAAAQQAAAAACAAAIAAAAABBAAAAAAIIAA\n",
       "AAAAAAEEAAAAAAggAAAAAEAAAQAAAAACCAAAAAAQQAAAAACAAAIAAAAABBg8efJk94bSn/70p+4J\n",
       "paVLl3ZPKP3617/unlA6ePBg94TSXXfd1T2htG3btu4JpeHh4e4JpVdffbV7QunNN9/snlC69tpr\n",
       "uyeUnnzyye4JpeXLl3dPKB0+fLh7Qundd9/tnlBasmRJ94TSuXPnuieUfvKTn3RPKH3qU5/qnlCa\n",
       "DM/1qVOnuieUnn/++e4JpbNnz3ZPKO3avbt7QmnNmjXdEybkBgAAAAAEEAAAAAAggAAAAAAAAQQA\n",
       "AAAACCAAAAAAQAABAAAAAAIIAAAAABBAAAAAAIAAAgAAAAAEEAAAAAAggAAAAAAAAQQAAAAACCAA\n",
       "AAAAQAABAAAAAAIIAAAAABBAAAAAAIAAAgAAAAAEEAAAAAAggAAAAAAAAQQAAAAACCAAAAAAQAAB\n",
       "AAAAAAIIAAAAABBAAAAAAIAAAgAAAAAEEAAAAAAggAAAAAAAAQQAAAAACCAAAAAAQAABAAAAAAII\n",
       "AAAAABBAAAAAAIAAAgAAAAAEEAAAAAAggAAAAAAAAQQAAAAACCAAAAAAQAABAAAAAAIIAAAAABBA\n",
       "AAAAAIAAAzfccMN494jK/PnzuyeU1q5d2z2hdPPNN3dPKP385z/vnlAaGhrqnlBasWJF94TSwMBA\n",
       "94TSoUOHuieULr/88u4JpeHh4e4Jpccff7x7QunMmTPdE0rz5s3rnvC/wtjYWPeE0saNG7snlF54\n",
       "4YXuCaUtW7Z0Tyj94Ac/6J5Qevrpp7snlGbOnNk9ofTOO+90TyidOHGie0Jp9uzZ3RMm5AYAAAAA\n",
       "BBAAAAAAIIAAAAAAAAEEAAAAAAggAAAAAEAAAQAAAAACCAAAAAAQQAAAAACAAAIAAAAABBAAAAAA\n",
       "IIAAAAAAAAEEAAAAAAggAAAAAEAAAQAAAAACCAAAAAAQQAAAAACAAAIAAAAABBAAAAAAIIAAAAAA\n",
       "AAEEAAAAAAggAAAAAEAAAQAAAAACCAAAAAAQQAAAAACAAAIAAAAABBAAAAAAIIAAAAAAAAEEAAAA\n",
       "AAggAAAAAEAAAQAAAAACCAAAAAAQQAAAAACAAAIAAAAABBAAAAAAIIAAAAAAAAEEAAAAAAggAAAA\n",
       "AEAAAQAAAAACCAAAAAAQQAAAAACAAAOf+9znxrtHVO68887uCaU///nP3RNKy5Yt655Q2r9/f/eE\n",
       "0vvvv989oXTbbbd1TyiNjIx0Tyjt3bu3e0Lp+PHj3RNKR48e7Z5Qmjt3bveE0vr167snlO6+++7u\n",
       "CaXvfve73RNKDz30UPeE0oYNG7onlN56663uCaVFixZ1TygtWLCge0LpxIkT3RNKCxcu7J5Qev75\n",
       "57snlCbDZ9xHH320e8KE3AAAAACAAAIAAAAABBAAAAAAIIAAAAAAAAEEAAAAAAggAAAAAEAAAQAA\n",
       "AAACCAAAAAAQQAAAAACAAAIAAAAABBAAAAAAIIAAAAAAAAEEAAAAAAggAAAAAEAAAQAAAAACCAAA\n",
       "AAAQQAAAAACAAAIAAAAABBAAAAAAIIAAAAAAAAEEAAAAAAggAAAAAEAAAQAAAAACCAAAAAAQQAAA\n",
       "AACAAAIAAAAABBAAAAAAIIAAAAAAAAEEAAAAAAggAAAAAEAAAQAAAAACCAAAAAAQQAAAAACAAAIA\n",
       "AAAABBAAAAAAIIAAAAAAAAEEAAAAAAggAAAAAEAAAQAAAAACCAAAAAAQYOBb3/rWePeIyo4dO7on\n",
       "lH784x93Tyjdf//93RNK119/ffeE0tDQUPeE0vTp07snlEZHR7snlD7xiU90Tyj98Y9/7J5QWr16\n",
       "dfeE0tjYWPeE0vr167snlLZu3do9oTR//vzuCaXf/OY33RNKr732WveE0mWXXdY9oXTgwIHuCaV1\n",
       "69Z1Tyjt3bu3e0Jp48aN3RNKv/rVr7onlC699NLuCaW1a9d2T5iQGwAAAAAQQAAAAACAAAIAAAAA\n",
       "BBAAAAAAIIAAAAAAAAEEAAAAAAggAAAAAEAAAQAAAAACCAAAAAAQQAAAAACAAAIAAAAABBAAAAAA\n",
       "IIAAAAAAAAEEAAAAAAggAAAAAEAAAQAAAAACCAAAAAAQQAAAAACAAAIAAAAABBAAAAAAIIAAAAAA\n",
       "AAEEAAAAAAggAAAAAEAAAQAAAAACCAAAAAAQQAAAAACAAAIAAAAABBAAAAAAIIAAAAAAAAEEAAAA\n",
       "AAggAAAAAEAAAQAAAAACCAAAAAAQQAAAAACAAAIAAAAABBAAAAAAIIAAAAAAAAEEAAAAAAggAAAA\n",
       "AEAAAQAAAAACDNxxxx3j3SMqa9eu7Z5Q2r59e/eE0pe+9KXuCaUnn3yye0Lp2LFj3RNKq1at6p5Q\n",
       "Ghoa6p5Q2rlzZ/eE0rp167onlI4cOdI9oXTu3LnuCaVvfOMb3RNKzz77bPeE0nXXXdc9ofSHP/yh\n",
       "e0JpMjwzO3bs6J5QGhkZ6Z5QmjlzZveE0t69e7snlI4ePdo9obRkyZLuCaUPf/jD3RNK5/u7xw0A\n",
       "AAAACCAAAAAAQAABAAAAAAIIAAAAABBAAAAAAIAAAgAAAAAEEAAAAAAggAAAAAAAAQQAAAAACCAA\n",
       "AAAAQAABAAAAAAIIAAAAABBAAAAAAIAAAgAAAAAEEAAAAAAggAAAAAAAAQQAAAAACCAAAAAAQAAB\n",
       "AAAAAAIIAAAAABBAAAAAAIAAAgAAAAAEEAAAAAAggAAAAAAAAQQAAAAACCAAAAAAQAABAAAAAAII\n",
       "AAAAABBAAAAAAIAAAgAAAAAEEAAAAAAggAAAAAAAAQQAAAAACCAAAAAAQAABAAAAAAIIAAAAABBA\n",
       "AAAAAIAAAgAAAAAEEAAAAAAggAAAAAAAAQbuv//+8e4RlRdeeKF7QmnRokXdE0oXXnhh94TSO++8\n",
       "0z2h9OlPf7p7QmlgYKB7QumRRx7pnlC69dZbuyeU3nvvve4JpfkLFnRPKJ06ebJ7Qunw4cPdE0pz\n",
       "587tnlD697//3T2h9Nprr3VPKE2fPr17Qmn+/PndE0o7d+7snlC66qqruieU3n333e4JpdmzZ3dP\n",
       "KJ2cBGfh1KlTuyeUzvfftRsAAAAAEEAAAAAAgAACAAAAAAQQAAAAACCAAAAAAAABBAAAAAAIIAAA\n",
       "AABAAAEAAAAAAggAAAAAEEAAAAAAgAACAAAAAAQQAAAAACCAAAAAAAABBAAAAAAIIAAAAABAAAEA\n",
       "AAAAAggAAAAAEEAAAAAAgAACAAAAAAQQAAAAACCAAAAAAAABBAAAAAAIIAAAAABAAAEAAAAAAggA\n",
       "AAAAEEAAAAAAgAACAAAAAAQQAAAAACCAAAAAAAABBAAAAAAIIAAAAABAAAEAAAAAAggAAAAAEEAA\n",
       "AAAAgAACAAAAAAQQAAAAACCAAAAAAAABBAAAAAAIIAAAAABAAAEAAAAAAgweOnSoe0NpeHi4e0Lp\n",
       "Ix/5SPeE0rFjx7onlNasWdM9oXTw4MHuCaW33367e0Lp9ttv755QmjFjRveE0t///vfuCaVHHnmk\n",
       "e0Lpd7/7XfeE0mOPPdY9oXTmzJnuCaVLLrmke0Lp1Vdf7Z5QWrVqVfeE0pYtW7onlJYtW9Y9obR+\n",
       "/fruCaWrrrqqe0Lpvvvu655Qmgyfw1955ZXuCaVZs2Z1T5iQGwAAAAAQQAAAAACAAAIAAAAABBAA\n",
       "AAAAIIAAAAAAAAEEAAAAAAggAAAAAEAAAQAAAAACCAAAAAAQQAAAAACAAAIAAAAABBAAAAAAIIAA\n",
       "AAAAAAEEAAAAAAggAAAAAEAAAQAAAAACCAAAAAAQQAAAAACAAAIAAAAABBAAAAAAIIAAAAAAAAEE\n",
       "AAAAAAggAAAAAEAAAQAAAAACCAAAAAAQQAAAAACAAAIAAAAABBAAAAAAIIAAAAAAAAEEAAAAAAgg\n",
       "AAAAAEAAAQAAAAACCAAAAAAQQAAAAACAAAIAAAAABBAAAAAAIIAAAAAAAAEEAAAAAAggAAAAAEAA\n",
       "AQAAAAACDC5fvrx7Q+nZZ5/tnlA6fvx494TSsmXLuieUTpw40T2hdNFFF3VPKJ09e7Z7QmloaKh7\n",
       "QmlgYKB7Qmn69OndE0qLFy/unlDatm1b94TSZHj3vPHGG90TSnPnzu2eUJoyZUr3hNKFF17YPaF0\n",
       "xRVXdE8onTx5sntC6cCBA90TSjt37uyeUPrrX//aPaE0GT4/XnbZZd0TShs3buyeMCE3AAAAACCA\n",
       "AAAAAAABBAAAAAAIIAAAAABAAAEAAAAAAggAAAAAEEAAAAAAgAACAAAAAAQQAAAAACCAAAAAAAAB\n",
       "BAAAAAAIIAAAAABAAAEAAAAAAggAAAAAEEAAAAAAgAACAAAAAAQQAAAAACCAAAAAAAABBAAAAAAI\n",
       "IAAAAABAAAEAAAAAAggAAAAAEEAAAAAAgAACAAAAAAQQAAAAACCAAAAAAAABBAAAAAAIIAAAAABA\n",
       "AAEAAAAAAggAAAAAEEAAAAAAgAACAAAAAAQQAAAAACCAAAAAAAABBAAAAAAIIAAAAABAAAEAAAAA\n",
       "AggAAAAAEEAAAAAAgAACAAAAAAQY+OlPfzrePaJy9dVXd08o/eIXv+ieULrsssu6J5T27NnTPaE0\n",
       "ZcqU7gml22+/vXtC6dFHH+2eUPr+97/fPaG0ffv27gml8fHz/pj50LXXXts9ofTSSy91TygdOXKk\n",
       "e0JpxowZ3RNKv//977snlCbDWfixj32se0Jp5cqV3RNKhw8f7p5QGhoa6p5Q2rBhQ/eE0mOPPdY9\n",
       "oTQ8PNw9ofT66693T5iQGwAAAAAQQAAAAACAAAIAAAAABBAAAAAAIIAAAAAAAAEEAAAAAAggAAAA\n",
       "AEAAAQAAAAACCAAAAAAQQAAAAACAAAIAAAAABBAAAAAAIIAAAAAAAAEEAAAAAAggAAAAAEAAAQAA\n",
       "AAACCAAAAAAQQAAAAACAAAIAAAAABBAAAAAAIIAAAAAAAAEEAAAAAAggAAAAAEAAAQAAAAACCAAA\n",
       "AAAQQAAAAACAAAIAAAAABBAAAAAAIIAAAAAAAAEEAAAAAAggAAAAAEAAAQAAAAACCAAAAAAQQAAA\n",
       "AACAAAIAAAAABBAAAAAAIIAAAAAAAAEEAAAAAAggAAAAAEAAAQAAAAACDHzve98b7x5RWbBgQfeE\n",
       "0ooVK7onlE6fPt09ofTKK690TygdPny4e0Lpvffe655QGhkZ6Z5QmgzP9Ze//OXuCaUf/vCH3RNK\n",
       "06dP755QmvPhOd0TSleuurJ7Qmnp0qXdE0r79u3rnlCaDOfMlClTuieUpk2b1j2hNHPmzO4JpVmz\n",
       "ZnVPKC1ZsqR7Quk73/lO94TSxo0buyeU7r777u4JE3IDAAAAAAIIAAAAABBAAAAAAIAAAgAAAAAE\n",
       "EAAAAAAggAAAAAAAAQQAAAAACCAAAAAAQAABAAAAAAIIAAAAABBAAAAAAIAAAgAAAAAEEAAAAAAg\n",
       "gAAAAAAAAQQAAAAACCAAAAAAQAABAAAAAAIIAAAAABBAAAAAAIAAAgAAAAAEEAAAAAAggAAAAAAA\n",
       "AQQAAAAACCAAAAAAQAABAAAAAAIIAAAAABBAAAAAAIAAAgAAAAAEEAAAAAAggAAAAAAAAQQAAAAA\n",
       "CCAAAAAAQAABAAAAAAIIAAAAABBAAAAAAIAAAgAAAAAEEAAAAAAggAAAAAAAAQQAAAAACCAAAAAA\n",
       "QIDBOXPmdG8oXXzxxd0TSocPH+6eUFq6dGn3hNK5c+e6J5Q+//nPd08onTx5sntC6emnn+6eUDp6\n",
       "9Gj3hNIDDzzQPaF0+eWXd08obd68uXtCaeHChd0TSi/+9cXuCaV77rmne0Jp2rRp3RNKH3zwQfeE\n",
       "0uDgYPeE0oEDB7onlAYuOP+/LxyePr17QmlkZKR7QmnevHndE0qzZ8/unlDas2dP94QJnf9PNAAA\n",
       "APBfEwAAAAAggAAAAAAAAQQAAAAACCAAAAAAQAABAAAAAAIIAAAAABBAAAAAAIAAAgAAAAAEEAAA\n",
       "AAAggAAAAAAAAQQAAAAACCAAAAAAQAABAAAAAAIIAAAAABBAAAAAAIAAAgAAAAAEEAAAAAAggAAA\n",
       "AAAAAQQAAAAACCAAAAAAQAABAAAAAAIIAAAAABBAAAAAAIAAAgAAAAAEEAAAAAAggAAAAAAAAQQA\n",
       "AAAACCAAAAAAQAABAAAAAAIIAAAAABBAAAAAAIAAAgAAAAAEEAAAAAAggAAAAAAAAQQAAAAACCAA\n",
       "AAAAQAABAAAAAAIIAAAAABBAAAAAAIAAgydOnOjeUDp16lT3hNJk+DkeOHCge0Lp/fff755QmjFj\n",
       "RveE0ssvv9w9oXTDDTd0TyiNjY11Tyj961//6p5QWrVqVfeE0jXXXNM9ofTZz362e0JpdHS0e0Jp\n",
       "+/bt3RNKP/rRj7onlB544IHuCaWlS5d2Tyht3ry5e0Lprrvu6p5Q2rp1a/eE0sMPP9w9obR27dru\n",
       "CaUVK1Z0Tyht2rSpe8KE3AAAAACAAAIAAAAABBAAAAAAIIAAAAAAAAEEAAAAAAggAAAAAEAAAQAA\n",
       "AAACCAAAAAAQQAAAAACAAAIAAAAABBAAAAAAIIAAAAAAAAEEAAAAAAggAAAAAEAAAQAAAAACCAAA\n",
       "AAAQQAAAAACAAAIAAAAABBAAAAAAIIAAAAAAAAEEAAAAAAggAAAAAEAAAQAAAAACCAAAAAAQQAAA\n",
       "AACAAAIAAAAABBAAAAAAIIAAAAAAAAEEAAAAAAggAAAAAEAAAQAAAAACCAAAAAAQQAAAAACAAAIA\n",
       "AAAABBAAAAAAIIAAAAAAAAEEAAAAAAggAAAAAEAAAQAAAAACCAAAAAAQYOCLX/ziePeIysKFC7sn\n",
       "lC655JLuCaV58+Z1Tyi9/vrr3RNKM2fO7J5QOn36dPeE0mT4e1y8eHH3hNKrr77aPaF09OjR7gml\n",
       "jy5f3j2h9NKOHd0TSmvWrOmeUBoZGemeUNq5c2f3hNKRI0e6J5Qmwznz9ttvd08orV+/vntCaTKc\n",
       "M8PDw90TSkNDQ90TSuvWreueUNq6dWv3hAm5AQAAAAABBAAAAAAIIAAAAABAAAEAAAAAAggAAAAA\n",
       "EEAAAAAAgAACAAAAAAQQAAAAACCAAAAAAAABBAAAAAAIIAAAAABAAAEAAAAAAggAAAAAEEAAAAAA\n",
       "gAACAAAAAAQQAAAAACCAAAAAAAABBAAAAAAIIAAAAABAAAEAAAAAAggAAAAAEEAAAAAAgAACAAAA\n",
       "AAQQAAAAACCAAAAAAAABBAAAAAAIIAAAAABAAAEAAAAAAggAAAAAEEAAAAAAgAACAAAAAAQQAAAA\n",
       "ACCAAAAAAAABBAAAAAAIIAAAAABAAAEAAAAAAggAAAAAEEAAAAAAgAACAAAAAAQQAAAAACDA4JQp\n",
       "U7o3lD7zmc90TyjddNNN3RNK+/bt655QWrBgQfeE/xU2bdrUPaF00UUXdU8ovffee90TStdff333\n",
       "hNLDDz/cPaG0auXK7gmlF55/vntCaTI8MzfffHP3hNKxY8e6J5SGh4e7J5SmTZvWPaF05MiR7gml\n",
       "bdu2dU8orV69untCaTK8e3bs2NE9oTQZnpmBgYHuCRNyAwAAAAACCAAAAAAQQAAAAACAAAIAAAAA\n",
       "BBAAAAAAIIAAAAAAAAEEAAAAAAggAAAAAEAAAQAAAAACCAAAAAAQQAAAAACAAAIAAAAABBAAAAAA\n",
       "IIAAAAAAAAEEAAAAAAggAAAAAEAAAQAAAAACCAAAAAAQQAAAAACAAAIAAAAABBAAAAAAIIAAAAAA\n",
       "AAEEAAAAAAggAAAAAEAAAQAAAAACCAAAAAAQQAAAAACAAAIAAAAABBAAAAAAIIAAAAAAAAEEAAAA\n",
       "AAggAAAAAEAAAQAAAAACCAAAAAAQQAAAAACAAAIAAAAABBAAAAAAIIAAAAAAAAEEAAAAAAggAAAA\n",
       "AECAgXvuuWe8e0Tl0KFD3RNKM2fO7J5QGhsb655QuuCC879JzZs3r3tCaerUqd0TStdcc033hNL+\n",
       "/fu7J5RefPHF7gml1atXd08ovfzyy90TSgsXLuyeULryyiu7J5S2bNnSPaF05syZ7gml//nh/3RP\n",
       "KN33f+/rnlC64447uieUpkyZ0j2hNDw83D2hdPr06e4JpdHR0e4JpaGhoe4JpV27dnVPmND5/98W\n",
       "AAAA8F8TAAAAACCAAAAAAAABBAAAAAAIIAAAAABAAAEAAAAAAggAAAAAEEAAAAAAgAACAAAAAAQQ\n",
       "AAAAACCAAAAAAAABBAAAAAAIIAAAAABAAAEAAAAAAggAAAAAEEAAAAAAgAACAAAAAAQQAAAAACCA\n",
       "AAAAAAABBAAAAAAIIAAAAABAAAEAAAAAAggAAAAAEEAAAAAAgAACAAAAAAQQAAAAACCAAAAAAAAB\n",
       "BAAAAAAIIAAAAABAAAEAAAAAAggAAAAAEEAAAAAAgAACAAAAAAQQAAAAACCAAAAAAAABBAAAAAAI\n",
       "IAAAAABAAAEAAAAAAggAAAAAEEAAAAAAgAADP/vZz8a7R1Q2bdrUPaE0Z86c7gmlW265pXtC6a23\n",
       "3uqeUBobG+ueUJoMGwcHB7snlEZGRronlP72t791TygdOHCge0JpzZo13RNKy5Yt655Q2rNnT/eE\n",
       "0oYNG7onlHbt2tU9oTQZ3o8XXHD+f8+1b9++7gmlBQsWdE8oTYZz5v/ceWf3hNJfnnuue0JpaGio\n",
       "e0Lp4MGD3RMmdP6/GQEAAID/mgAAAAAAAQQAAAAACCAAAAAAQAABAAAAAAIIAAAAABBAAAAAAIAA\n",
       "AgAAAAAEEAAAAAAggAAAAAAAAQQAAAAACCAAAAAAQAABAAAAAAIIAAAAABBAAAAAAIAAAgAAAAAE\n",
       "EAAAAAAggAAAAAAAAQQAAAAACCAAAAAAQAABAAAAAAIIAAAAABBAAAAAAIAAAgAAAAAEEAAAAAAg\n",
       "gAAAAAAAAQQAAAAACCAAAAAAQAABAAAAAAIIAAAAABBAAAAAAIAAAgAAAAAEEAAAAAAggAAAAAAA\n",
       "AQQAAAAACCAAAAAAQAABAAAAAAIIAAAAABBAAAAAAIAAAgAAAAAEGHzooYe6N5Quvvji7gmlm266\n",
       "qXtC6dSpU90TSlu3bu2eULrjjju6J5See+657gmlqVOndk8offDBB90TSmfOnOmeULrxxhu7J5Tm\n",
       "z5/fPaF06aWXdk8orVy5sntCaXR0tHtC6a233uqeUDp+/Hj3hNKGDRu6J5ROnjzZPaF05MiR7gml\n",
       "FStWdE8ojb7zTveE0htvvNE9oTQ+Pt49oYdNZ/kAAAlRSURBVLR3797uCRNyAwAAAAACCAAAAAAQ\n",
       "QAAAAACAAAIAAAAABBAAAAAAIIAAAAAAAAEEAAAAAAggAAAAAEAAAQAAAAACCAAAAAAQQAAAAACA\n",
       "AAIAAAAABBAAAAAAIIAAAAAAAAEEAAAAAAggAAAAAEAAAQAAAAACCAAAAAAQQAAAAACAAAIAAAAA\n",
       "BBAAAAAAIIAAAAAAAAEEAAAAAAggAAAAAEAAAQAAAAACCAAAAAAQQAAAAACAAAIAAAAABBAAAAAA\n",
       "IIAAAAAAAAEEAAAAAAggAAAAAEAAAQAAAAACCAAAAAAQQAAAAACAAAIAAAAABBAAAAAAIIAAAAAA\n",
       "AAEEAAAAAAggAAAAAECAwdtuu617Q2l8fLx7Qmlw6tTuCaVp06Z1Tyh94Qtf6J5Q+s9//tM9oTQ4\n",
       "ONg9oXT06NHuCaWvfe1r3RNKDz30UPeE0r59+7onlIaGhronlP7yl790Tyjdeuut3RNKv/3tb7sn\n",
       "lEZGRronlF566aXuCaXJcBY++OCD3RNKL774YveE0hNPPNE9oTQZzsJZs2Z1Tyi99tpr3RNKGzdu\n",
       "7J4wITcAAAAAIIAAAAAAAAEEAAAAAAggAAAAAEAAAQAAAAACCAAAAAAQQAAAAACAAAIAAAAABBAA\n",
       "AAAAIIAAAAAAAAEEAAAAAAggAAAAAEAAAQAAAAACCAAAAAAQQAAAAACAAAIAAAAABBAAAAAAIIAA\n",
       "AAAAAAEEAAAAAAggAAAAAEAAAQAAAAACCAAAAAAQQAAAAACAAAIAAAAABBAAAAAAIIAAAAAAAAEE\n",
       "AAAAAAggAAAAAEAAAQAAAAACCAAAAAAQQAAAAACAAAIAAAAABBAAAAAAIIAAAAAAAAEEAAAAAAgg\n",
       "AAAAAEAAAQAAAAACCAAAAAAQQAAAAACAAAIAAAAABBg4fvz4ePeIyr333ts9oTR37tzuCaUZM2Z0\n",
       "TyidO3eue0Jp8eLF3RNKu3fv7p5QmjNnTveE0uDUqd0TSn/fv797QmnRokXdE0pHjx7tnlB65ZVX\n",
       "uieUbrrppu4JpSlTpnRPKP3jH//onlC64ILz/zuks2fPdk8o7dmzp3tCaXh4uHtC6atf/Wr3hNIz\n",
       "zzzTPaF07Nix7gmlb3/7290TSqdOneqeMKHz/+0NAAAA/NcEAAAAAAggAAAAAEAAAQAAAAACCAAA\n",
       "AAAQQAAAAACAAAIAAAAABBAAAAAAIIAAAAAAAAEEAAAAAAggAAAAAEAAAQAAAAACCAAAAAAQQAAA\n",
       "AACAAAIAAAAABBAAAAAAIIAAAAAA/69d+1epIwHDOAxBjiEERCsLC42FCtqLhRcgRm9Kkruw1EZs\n",
       "FWwFZdMIgha62YDinyprJady78Cv2OLL4X2eK3gZZoaZ3wxAAAEAAAAAAggAAAAAEEAAAAAAgAAC\n",
       "AAAAAAQQAAAAACCAAAAAAAABBAAAAAAIIAAAAABAAAEAAAAAAggAAAAAEEAAAAAAgAACAAAAAAQQ\n",
       "AAAAACCAAAAAAAABBAAAAAAIIAAAAABAAAEAAAAAAggAAAAAEEAAAAAAgAACAAAAAAQQAAAAACCA\n",
       "AAAAAAABBAAAAAAIMLazs9O9oXRyctI9ofT169fuCaXBYNA9ofT29tY9obS7u9s9ofTt+7fuCaUf\n",
       "f/3onlC6ubnpnlC6urrqnlBaXV3tnlAahXvP/Px894TSKBzHDx/+/G8fa2tr3RNKh4eH3RNKz8/P\n",
       "3RNKGxsb3RNKLy8v3RNKw+Gwe0JpFO4919fX3RNKx8fH3RNK4x8/dk94159/JgIAAAD/mwAAAAAA\n",
       "AQQAAAAACCAAAAAAQAABAAAAAAIIAAAAABBAAAAAAIAAAgAAAAAEEAAAAAAggAAAAAAAAQQAAAAA\n",
       "CCAAAAAAQAABAAAAAAIIAAAAABBAAAAAAIAAAgAAAAAEEAAAAAAggAAAAAAAAQQAAAAACCAAAAAA\n",
       "QAABAAAAAAIIAAAAABBAAAAAAIAAAgAAAAAEEAAAAAAggAAAAAAAAQQAAAAACCAAAAAAQAABAAAA\n",
       "AAIIAAAAABBAAAAAAIAAAgAAAAAEEAAAAAAggAAAAAAAAQQAAAAACCAAAAAAQAABAAAAAAIIAAAA\n",
       "ABBAAAAAAIAAAgAAAAAEGNve3u7eUBoOh90TSouLi90TSo+Pj90TSpOTk90TSl++fOmeUPr1z6/u\n",
       "CaXf//7unlD6/Plz94TS1tZW94TS+Ph494TS5eVl94TS1dVV94TSzMxM94TS/Px894TS09NT94TS\n",
       "KFzXU1NT3RNKd3d33RNK9/f33RNKc3Nz3RNKs7Oz3RNKBwcH3RNKCwsL3RNK+/v73RPe5Q8AAAAA\n",
       "CCAAAAAAQAABAAAAAAIIAAAAABBAAAAAAIAAAgAAAAAEEAAAAAAggAAAAAAAAQQAAAAACCAAAAAA\n",
       "QAABAAAAAAIIAAAAABBAAAAAAIAAAgAAAAAEEAAAAAAggAAAAAAAAQQAAAAACCAAAAAAQAABAAAA\n",
       "AAIIAAAAABBAAAAAAIAAAgAAAAAEEAAAAAAggAAAAAAAAQQAAAAACCAAAAAAQAABAAAAAAIIAAAA\n",
       "ABBAAAAAAIAAAgAAAAAEEAAAAAAggAAAAAAAAQQAAAAACCAAAAAAQAABAAAAAAIIAAAAABBAAAAA\n",
       "AIAAAgAAAAAEEAAAAAAggAAAAAAAAcbOz8+7N5TW19e7J5T29va6J5Q2Nze7J5SOjo66J5RmZ2e7\n",
       "J5QmJia6J5R+/v2ze0Lp4eGhe0JpZWWle0Lp9va2e0JpaWmpe0Lp06dP3RNKg8Gge0Lp4uKie0Jp\n",
       "eXm5e0Jpenq6e0Lp7Oyse0JpFK6Z4XDYPaE0Cu8zo/BMsbW11T2hdHp62j2h9Pr62j3hXf4AAAAA\n",
       "gAACAAAAAAQQAAAAACCAAAAAAAABBAAAAAAIIAAAAABAAAEAAAAAAggAAAAAEEAAAAAAgAACAAAA\n",
       "AAQQAAAAACCAAAAAAAABBAAAAAAIIAAAAABAAAEAAAAAAggAAAAAEEAAAAAAgAACAAAAAAQQAAAA\n",
       "ACCAAAAAAAABBAAAAAAIIAAAAABAAAEAAAAAAggAAAAAEEAAAAAAgAACAAAAAAQQAAAAACCAAAAA\n",
       "AAABBAAAAAAIIAAAAABAAAEAAAAAAggAAAAAEEAAAAAAgAACAAAAAAQQAAAAACCAAAAAAAABBAAA\n",
       "AAAIIAAAAABAAAEAAAAAAggAAAAAEOA/ALSit55ZjDAAAAAASUVORK5CYII=\n",
       "\" transform=\"translate(129, 47)\"/>\n",
       "</g>\n",
       "</svg>\n"
      ]
     },
     "execution_count": 50,
     "metadata": {},
     "output_type": "execute_result"
    }
   ],
   "source": [
    "gr(size = (300,300))\n",
    "heatmap(B_se, c =:greys, dpi = 500, size = (300, 300), legend = :none)\n",
    "# savefig(\"../plots/SLMR-PostSE-K20.png\")"
   ]
  },
  {
   "cell_type": "code",
   "execution_count": 51,
   "metadata": {},
   "outputs": [
    {
     "data": {
      "text/plain": [
       "10000-element Vector{Float64}:\n",
       " 0.557689537270334\n",
       " 0.4965021184504727\n",
       " 0.49623613024286356\n",
       " 0.5322534686700864\n",
       " 0.5822893485525289\n",
       " 0.6033015448561835\n",
       " 0.5829291996350374\n",
       " 0.6290411154190398\n",
       " 0.6161789650418535\n",
       " 0.6208214663568464\n",
       " 0.6268262790155223\n",
       " 0.5762870999755487\n",
       " 0.6084332005008415\n",
       " ⋮\n",
       " 0.547033792483083\n",
       " 0.5469774207317786\n",
       " 0.5236547551841961\n",
       " 0.5522265530697029\n",
       " 0.5121738400699656\n",
       " 0.5429683673093352\n",
       " 0.5556955932785049\n",
       " 0.5553240542325648\n",
       " 0.5339888754464928\n",
       " 0.5844841326646041\n",
       " 0.5889541695567283\n",
       " 0.5440875085973746"
      ]
     },
     "execution_count": 51,
     "metadata": {},
     "output_type": "execute_result"
    }
   ],
   "source": [
    "cov_matrix = cov(Matrix(results_matrix[:, 3:627]))\n",
    "F = svd(cov_matrix)\n",
    "v_strongest = F.V[:,1]\n",
    "slowest = Matrix(results_matrix[:, 3:627]) * v_strongest"
   ]
  },
  {
   "cell_type": "code",
   "execution_count": 52,
   "metadata": {},
   "outputs": [],
   "source": [
    "chn_slowest = MCMCChains.Chains(slowest, [\"Bslowest\"], thin = 1);"
   ]
  },
  {
   "cell_type": "code",
   "execution_count": 53,
   "metadata": {},
   "outputs": [
    {
     "data": {
      "text/plain": [
       "ESS\n",
       " \u001b[1m parameters \u001b[0m \u001b[1m       ess \u001b[0m \u001b[1m    rhat \u001b[0m\n",
       " \u001b[90m     Symbol \u001b[0m \u001b[90m   Float64 \u001b[0m \u001b[90m Float64 \u001b[0m\n",
       "\n",
       "    Bslowest   3217.5404    0.9999\n"
      ]
     },
     "execution_count": 53,
     "metadata": {},
     "output_type": "execute_result"
    }
   ],
   "source": [
    "ess_slowest = ess_rhat(chn_slowest)"
   ]
  }
 ],
 "metadata": {
  "@webio": {
   "lastCommId": null,
   "lastKernelId": null
  },
  "hide_input": false,
  "kernelspec": {
   "display_name": "Julia 1.8.2",
   "language": "julia",
   "name": "julia-1.8"
  },
  "language_info": {
   "file_extension": ".jl",
   "mimetype": "application/julia",
   "name": "julia",
   "version": "1.8.2"
  },
  "toc": {
   "colors": {
    "hover_highlight": "#DAA520",
    "running_highlight": "#FF0000",
    "selected_highlight": "#FFD700"
   },
   "moveMenuLeft": true,
   "nav_menu": {
    "height": "135px",
    "width": "252px"
   },
   "navigate_menu": true,
   "number_sections": true,
   "sideBar": false,
   "skip_h1_title": true,
   "threshold": 4,
   "toc_cell": false,
   "toc_position": {
    "height": "250px",
    "left": "2px",
    "right": "20px",
    "top": "109px",
    "width": "212px"
   },
   "toc_section_display": "block",
   "toc_window_display": false,
   "widenNotebook": false
  }
 },
 "nbformat": 4,
 "nbformat_minor": 4
}
