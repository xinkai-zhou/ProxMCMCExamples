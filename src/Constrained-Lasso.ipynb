{
 "cells": [
  {
   "cell_type": "markdown",
   "metadata": {},
   "source": [
    "Latex Definitions.\n",
    "\n",
    "$$\n",
    "\\newcommand{\\prox}{\\operatorname{prox}}\n",
    "\\newcommand{\\E}{\\mathop{\\mathbb{E}}} % expectation\n",
    "\\newcommand{\\V}{\\operatorname{Var}} % variance\n",
    "\\newcommand{\\Cov}{\\operatorname{Cov}}\n",
    "\\newcommand{\\vect}{\\operatorname{vec}}\n",
    "\\newcommand{\\vech}{\\operatorname{vech}}\n",
    "\\newcommand{\\tr}{\\operatorname{tr}}\n",
    "\\newcommand{\\logdet}{\\operatorname{logdet}}\n",
    "\\newcommand{\\rank}{\\mathrm{rank}}\n",
    "\\newcommand{\\diag}{\\mathrm{diag}}\n",
    "\\newcommand{\\Abf}{{\\mathbf A}}\n",
    "\\newcommand{\\Bbf}{{\\mathbf B}}\n",
    "\\newcommand{\\Cbf}{{\\mathbf C}}\n",
    "\\newcommand{\\Dbf}{{\\mathbf D}}\n",
    "\\newcommand{\\Ebf}{{\\mathbf E}}\n",
    "\\newcommand{\\Fbf}{{\\mathbf F}}\n",
    "\\newcommand{\\Gbf}{{\\mathbf G}}\n",
    "\\newcommand{\\Hbf}{{\\mathbf H}}\n",
    "\\newcommand{\\Ibf}{{\\mathbf I}}\n",
    "\\newcommand{\\Jbf}{{\\mathbf J}}\n",
    "\\newcommand{\\Lbf}{{\\mathbf L}}\n",
    "\\newcommand{\\Kbf}{{\\mathbf K}}\n",
    "\\newcommand{\\Mbf}{{\\mathbf M}}\n",
    "\\newcommand{\\Obf}{{\\mathbf O}}\n",
    "\\newcommand{\\Pbf}{{\\mathbf P}}\n",
    "\\newcommand{\\Qbf}{{\\mathbf Q}}\n",
    "\\newcommand{\\Rbf}{{\\mathbf R}}\n",
    "\\newcommand{\\Sbf}{{\\mathbf S}}\n",
    "\\newcommand{\\Tbf}{{\\mathbf T}}\n",
    "\\newcommand{\\Ubf}{{\\mathbf U}}\n",
    "\\newcommand{\\Vbf}{{\\mathbf V}}\n",
    "\\newcommand{\\Wbf}{{\\mathbf W}}\n",
    "\\newcommand{\\Xbf}{{\\mathbf X}}\n",
    "\\newcommand{\\Ybf}{{\\mathbf Y}}\n",
    "\\newcommand{\\Zbf}{{\\mathbf Z}}\n",
    "\\newcommand{\\abf}{{\\mathbf a}}\n",
    "\\newcommand{\\bbf}{{\\mathbf b}}\n",
    "\\newcommand{\\cbf}{{\\mathbf c}}\n",
    "\\newcommand{\\dbf}{{\\mathbf d}}\n",
    "\\newcommand{\\ebf}{{\\mathbf e}}\n",
    "\\newcommand{\\fbf}{{\\mathbf f}}\n",
    "\\newcommand{\\gbf}{{\\mathbf g}}\n",
    "\\newcommand{\\lbf}{{\\mathbf l}}\n",
    "\\newcommand{\\nbf}{{\\mathbf n}}\n",
    "\\newcommand{\\pbf}{{\\mathbf p}}\n",
    "\\newcommand{\\qbf}{{\\mathbf q}}\n",
    "\\newcommand{\\rbf}{{\\mathbf r}}\n",
    "\\newcommand{\\tbf}{{\\mathbf t}}\n",
    "\\newcommand{\\ubf}{{\\mathbf u}}\n",
    "\\newcommand{\\vbf}{{\\mathbf v}}\n",
    "\\newcommand{\\wbf}{{\\mathbf w}}\n",
    "\\newcommand{\\xbf}{{\\mathbf x}}\n",
    "\\newcommand{\\ybf}{{\\mathbf y}}\n",
    "\\newcommand{\\zbf}{{\\mathbf z}}\n",
    "\\newcommand{\\alphabf}{\\mathbf{\\alpha}}\n",
    "\\newcommand{\\betabf}{\\mathbf{\\beta}}\n",
    "\\newcommand{\\deltabf}{\\mathbf{\\delta}}\n",
    "\\newcommand{\\Deltabf}{\\mathbf{\\Delta}}\n",
    "\\newcommand{\\etabf}{\\mathbf{\\eta}}\n",
    "\\newcommand{\\epsilonbf}{\\mathbf{\\varepsilon}}\n",
    "\\newcommand{\\gammabf}{\\mathbf{\\gamma}}\n",
    "\\newcommand{\\mubf}{\\mathbf{\\mu}}\n",
    "\\newcommand{\\nubf}{\\mathbf{\\nu}}\n",
    "\\newcommand{\\pibf}{\\mathbf{\\pi}}\n",
    "\\newcommand{\\phibf}{\\mathbf{\\phi}}\n",
    "\\newcommand{\\psibf}{\\mathbf{\\psi}}\n",
    "\\newcommand{\\sigmabf}{\\mathbf{\\sigma}}\n",
    "\\newcommand{\\taubf}{\\mathbf{\\tau}}\n",
    "\\newcommand{\\zetabf}{\\mathbf{\\zeta}}\n",
    "\\newcommand{\\thetabf}{\\mathbf{\\theta}}\n",
    "\\newcommand{\\lambdabf}{\\mathbf{\\lambda}}\n",
    "\\newcommand{\\Gammabf}{\\mathbf{\\Gamma}}\n",
    "\\newcommand{\\Phibf}{\\mathbf{\\Phi}}\n",
    "\\newcommand{\\Psibf}{\\mathbf{\\Psi}}\n",
    "\\newcommand{\\Sigmabf}{\\mathbf{\\Sigma}}\n",
    "\\newcommand{\\Lambdabf}{\\mathbf{\\Lambda}}\n",
    "\\newcommand{\\Omegabf}{\\mathbf{\\Omega}}\n",
    "\\newcommand{\\Pibf}{\\mathbf{\\Pi}}\n",
    "\\newcommand{\\Thetabf}{\\mathbf{\\Theta}}\n",
    "$$"
   ]
  },
  {
   "cell_type": "code",
   "execution_count": 1,
   "metadata": {},
   "outputs": [
    {
     "name": "stdout",
     "output_type": "stream",
     "text": [
      "Julia Version 1.8.2\n",
      "Commit 36034abf260 (2022-09-29 15:21 UTC)\n",
      "Platform Info:\n",
      "  OS: macOS (arm64-apple-darwin21.3.0)\n",
      "  CPU: 10 × Apple M1 Pro\n",
      "  WORD_SIZE: 64\n",
      "  LIBM: libopenlibm\n",
      "  LLVM: libLLVM-13.0.1 (ORCJIT, apple-m1)\n",
      "  Threads: 1 on 8 virtual cores\n"
     ]
    }
   ],
   "source": [
    "versioninfo()"
   ]
  },
  {
   "cell_type": "code",
   "execution_count": 2,
   "metadata": {},
   "outputs": [],
   "source": [
    "using Pkg\n",
    "Pkg.activate(joinpath(@__DIR__, \"..\"))"
   ]
  },
  {
   "cell_type": "code",
   "execution_count": 3,
   "metadata": {},
   "outputs": [],
   "source": [
    "Pkg.instantiate()"
   ]
  },
  {
   "cell_type": "code",
   "execution_count": 4,
   "metadata": {},
   "outputs": [],
   "source": [
    "# load packages\n",
    "using BenchmarkTools, DataFrames, Distributions, DynamicHMC, DynamicHMC.Diagnostics, \n",
    "    LinearAlgebra, LogDensityProblems, MCMCChains, MCMCDiagnosticTools,\n",
    "    Parameters, Profile, ProximalOperators,\n",
    "    Random, Revise, Roots, SparseArrays, Statistics, RCall\n",
    "import ProximalOperators: prox, prox!"
   ]
  },
  {
   "cell_type": "markdown",
   "metadata": {},
   "source": [
    "# Projection to $\\ell_1$ norm epigraph\n",
    "\n",
    "We first implement the projection to the $\\ell_1$ norm epigraph $\\{(y, t): \\|y\\|_1 \\le t\\}$. To project a point $(x,s)$, the key computation is to find the root of \n",
    "$$\n",
    "\\phi(\\lambda) = \\|S_\\lambda(x)\\|_1 - \\lambda - s,\n",
    "$$\n",
    "where $S$ is the sof-thresholding operator. This can be achieved by bisection or the sum-of-max algorithm (Algorithm 2 of <http://proceedings.mlr.press/v48/wangh16.pdf>). Both have linear complexity."
   ]
  },
  {
   "cell_type": "code",
   "execution_count": 5,
   "metadata": {},
   "outputs": [
    {
     "data": {
      "text/plain": [
       "ϕ"
      ]
     },
     "execution_count": 5,
     "metadata": {},
     "output_type": "execute_result"
    }
   ],
   "source": [
    "\"\"\"\n",
    "    ϕ(x::Vector, λ)\n",
    "\n",
    "Return the value `sum(abs, Sλ(x[1:end-1])) - λ - x[end]`.\n",
    "\"\"\"\n",
    "function ϕ(x::AbstractVector{T}, λ::T) where T <: Real\n",
    "    out = zero(T)\n",
    "    @inbounds for i in 1:(length(x) - 1)\n",
    "        δi = abs(x[i]) - λ\n",
    "        out += δi > 0 ? abs(δi) : zero(T)\n",
    "    end\n",
    "    out -= λ + x[end]\n",
    "    out\n",
    "end"
   ]
  },
  {
   "cell_type": "markdown",
   "metadata": {},
   "source": [
    "Now we can implement the projector to the $\\ell_1$ norm epigraph\n",
    "$$\n",
    "\\text{prox}_{\\chi_{\\mathcal{E}}}(x, s) = \\text{proj}_{\\mathcal{E}}(x) = \\begin{cases}\n",
    "(x, s) & \\|x\\|_1 \\le s \\\\\n",
    "(S_{\\lambda^\\star}(x), s + \\lambda^\\star) & \\|x\\|_1 > s\n",
    "\\end{cases},\n",
    "$$\n",
    "where $\\lambda^\\star$ is the root of $\\phi(\\lambda)$."
   ]
  },
  {
   "cell_type": "code",
   "execution_count": 6,
   "metadata": {},
   "outputs": [
    {
     "data": {
      "text/plain": [
       "prox (generic function with 4 methods)"
      ]
     },
     "execution_count": 6,
     "metadata": {},
     "output_type": "execute_result"
    }
   ],
   "source": [
    "struct NormL1Epigraph end\n",
    "\n",
    "is_convex(f::NormL1Epigraph) = true\n",
    "is_set(f::NormL1Epigraph) = true\n",
    "\n",
    "function prox!(\n",
    "        y :: AbstractVector{T}, \n",
    "        f :: NormL1Epigraph, \n",
    "        x :: AbstractVector{T}, \n",
    "        γ :: T = T(1.0)\n",
    "    ) where T <: Real\n",
    "    if isinf(x[end]) || sum(abs, x) ≤ x[end] + abs(x[end])\n",
    "        copyto!(y, x)\n",
    "        return zero(T)\n",
    "    end\n",
    "    @views λ₀ = find_zero(λ -> ϕ(x, λ), (0, maximum(abs, x[1:end-1])), Bisection())\n",
    "    for i in 1:(length(y) - 1)\n",
    "        δi   = abs(x[i]) - λ₀\n",
    "        y[i] = δi > 0 ? copysign(δi, x[i]) : zero(T) \n",
    "    end\n",
    "    y[end] = x[end] + λ₀\n",
    "    zero(T)\n",
    "end\n",
    "\n",
    "prox(f::NormL1Epigraph, x::AbstractVector{T}, γ::T = T(1.0)) where T<:Real = \n",
    "    prox!(similar(x), f, x, γ)"
   ]
  },
  {
   "cell_type": "code",
   "execution_count": 7,
   "metadata": {},
   "outputs": [
    {
     "data": {
      "text/plain": [
       "0.0"
      ]
     },
     "execution_count": 7,
     "metadata": {},
     "output_type": "execute_result"
    }
   ],
   "source": [
    "# test projection to affine set\n",
    "A = ones(1, 3)\n",
    "b = zeros(1)\n",
    "g2 = IndAffine(A, b; iterative=false)\n",
    "β = [1.5, -1.1, 0]\n",
    "βprox = similar(β)\n",
    "prox!(βprox, g2, β)"
   ]
  },
  {
   "cell_type": "code",
   "execution_count": 8,
   "metadata": {},
   "outputs": [
    {
     "data": {
      "text/plain": [
       "3-element Vector{Float64}:\n",
       "  1.3666666666666667\n",
       " -1.2333333333333334\n",
       " -0.1333333333333334"
      ]
     },
     "execution_count": 8,
     "metadata": {},
     "output_type": "execute_result"
    }
   ],
   "source": [
    "βprox"
   ]
  },
  {
   "cell_type": "markdown",
   "metadata": {},
   "source": [
    "Define the constrained lasso problem"
   ]
  },
  {
   "cell_type": "code",
   "execution_count": 9,
   "metadata": {},
   "outputs": [
    {
     "data": {
      "text/plain": [
       "CLassoProblem"
      ]
     },
     "execution_count": 9,
     "metadata": {},
     "output_type": "execute_result"
    }
   ],
   "source": [
    "struct CLassoProblem{T <: Real}\n",
    "    y       :: Vector{T} # response\n",
    "    X       :: Matrix{T} # design\n",
    "    λ       :: T         # Moreau-Yosida envelope parameter\n",
    "    eqcons  :: Tuple{Matrix{T}, Vector{T}} # equality constraints\n",
    "    σ²prior :: Tuple{T, T} # IG(r, s) prior for σ²\n",
    "    αprior  :: Tuple{T, T} # IG(r, s) prior for α\n",
    "    res     :: Vector{T} # storage for residuals y-Xβ\n",
    "    β       :: Vector{T}\n",
    "    β_prox  :: Vector{T}\n",
    "    βα      :: Vector{T}\n",
    "    βα_prox :: Vector{T}\n",
    "end\n",
    "\n",
    "# constructor\n",
    "function CLassoProblem(y::Vector{T}, X::Matrix{T}, λ::T, eqcons::Tuple{Matrix{T}, Vector{T}},\n",
    "        σ²prior::Tuple{T, T}, αprior::Tuple{T, T}) where T <: Real\n",
    "    p = size(X, 2)\n",
    "    res = similar(y)\n",
    "    β       = Vector{T}(undef, p)\n",
    "    β_prox  = similar(β)\n",
    "    βα      = Vector{T}(undef, p + 1)\n",
    "    βα_prox = similar(βα)\n",
    "    CLassoProblem{T}(y, X, λ, eqcons, σ²prior, αprior, res, β, β_prox, βα, βα_prox)\n",
    "end"
   ]
  },
  {
   "cell_type": "markdown",
   "metadata": {},
   "source": [
    "Essential ingredients for the HMC algorithm is the log-density and its gradient."
   ]
  },
  {
   "cell_type": "code",
   "execution_count": 10,
   "metadata": {},
   "outputs": [],
   "source": [
    "(problem::CLassoProblem)(θ) = LogDensityProblems.logdensity(problem, θ)\n",
    "\n",
    "LogDensityProblems.capabilities(::Type{<:CLassoProblem}) =\n",
    "    LogDensityProblems.LogDensityOrder{1}()\n",
    "\n",
    "LogDensityProblems.dimension(problem::CLassoProblem) = size(problem.X, 2) + 2\n",
    "\n",
    "function LogDensityProblems.logdensity(problem::CLassoProblem, θ)\n",
    "    @unpack y, X, λ, eqcons, σ²prior, αprior, res, β, β_prox, βα, βα_prox = problem\n",
    "    n, p = size(X)\n",
    "    copyto!(β, 1, θ, 1, p)\n",
    "    logα     = θ[p + 1]\n",
    "    logσ²    = θ[p + 2]\n",
    "    σ², α = exp(logσ²), exp(logα)\n",
    "    A, b  = eqcons\n",
    "    g2 = IndAffine(A, b; iterative=false)\n",
    "    rσ², sσ² = σ²prior\n",
    "    rα , sα  = αprior\n",
    "    # log-likelihood + log(prior), with constant terms dropped\n",
    "    mul!(res, X, β) # res stores Xβ now\n",
    "    res  .= y .- res\n",
    "    logl  = - (abs2(norm(res)) + 2rσ²) / (2σ²) - (n / 2 + sσ²) * logσ²\n",
    "    logl += - rα / α - sα * logα\n",
    "    # proximal mapping of g1\n",
    "    copyto!(βα, β)\n",
    "    βα[end] = α\n",
    "    prox!(βα_prox, NormL1Epigraph(), βα)\n",
    "    βα_prox .= βα .- βα_prox\n",
    "    logl -= abs2(norm(βα_prox)) / (2λ)\n",
    "    # proximal mapping of g2\n",
    "    prox!(β_prox, g2, β)\n",
    "    β_prox  .= β .- β_prox\n",
    "    logl -= abs2(norm(β_prox)) / (2λ)\n",
    "    logl\n",
    "end\n",
    "\n",
    "function LogDensityProblems.logdensity_and_gradient(problem::CLassoProblem{T}, θ) where T <: Real\n",
    "    @unpack y, X, λ, eqcons, σ²prior, αprior, res, β, β_prox, βα, βα_prox = problem\n",
    "    A, b  = eqcons\n",
    "    g2    = IndAffine(A, b; iterative=false)\n",
    "    rσ², sσ² = σ²prior\n",
    "    rα , sα  = αprior    \n",
    "    n, p     = size(X)\n",
    "    copyto!(β, 1, θ, 1, p)\n",
    "    logα     = θ[p + 1]\n",
    "    logσ²    = θ[p + 2]\n",
    "    α        = exp(logα)\n",
    "    σ²       = exp(logσ²)\n",
    "    invσ²    = inv(σ²)\n",
    "    invλ     = inv(λ)\n",
    "    # log-likelihood + log(prior), with constant terms dropped\n",
    "    mul!(res, X, β) # res stores Xβ now\n",
    "    res     .= y .- res\n",
    "    qf       = (abs2(norm(res)) + 2rσ²) / (2σ²)\n",
    "    logl     = - qf - (n / 2 + sσ²) * logσ² - rα / α - sα * logα \n",
    "    ∇ = fill(T(0), p+2)\n",
    "    mul!(view(∇, 1:p), transpose(X), res)    \n",
    "    ∇[1 : p] .*= invσ²            # ∇β\n",
    "    ∇[p + 1] = rα / α - sα        # ∇logα\n",
    "    ∇[p + 2] = qf - (n / 2 + sσ²) # ∇logσ²\n",
    "    # proximal mapping of (β, α)\n",
    "    copyto!(βα, β)\n",
    "    βα[end]  = α\n",
    "    prox!(βα_prox, NormL1Epigraph(), βα)\n",
    "    βα_prox .= βα .- βα_prox\n",
    "    logl    -= abs2(norm(βα_prox)) / (2λ)\n",
    "    @views ∇[1:p] .-= invλ .* βα_prox[1:p]\n",
    "    ∇[p+1]  -= invλ * α * βα_prox[p + 1]\n",
    "    # proximal mapping of g2\n",
    "    prox!(β_prox, g2, β)\n",
    "    β_prox  .= β .- β_prox\n",
    "    logl -= abs2(norm(β_prox)) / (2λ)\n",
    "    @views ∇[1:p] .-= invλ .* β_prox\n",
    "    logl, ∇\n",
    "end"
   ]
  },
  {
   "cell_type": "markdown",
   "metadata": {},
   "source": [
    "# Simulated microbiome example"
   ]
  },
  {
   "cell_type": "code",
   "execution_count": 11,
   "metadata": {},
   "outputs": [],
   "source": [
    "using Random"
   ]
  },
  {
   "cell_type": "code",
   "execution_count": 12,
   "metadata": {},
   "outputs": [],
   "source": [
    "# Data simulation borrowed from http://hua-zhou.github.io/teaching/biostatm280-2019spring/slides/20-juliaopt/juliaopt.html\n",
    "\n",
    "Random.seed!(1001)\n",
    "n, p = 1000, 10\n",
    "X = rand(n, p)\n",
    "# scale each row of X to sum to 1\n",
    "lmul!(Diagonal(1 ./ vec(sum(X, dims=2))), X)\n",
    "k = 1\n",
    "β = [1 .* ones(k); -1 .* ones(k); zeros(p - 2*k)]\n",
    "y = X * β + 0.1 * randn(n);"
   ]
  },
  {
   "cell_type": "code",
   "execution_count": 13,
   "metadata": {},
   "outputs": [
    {
     "data": {
      "text/plain": [
       "0.7178500185182708"
      ]
     },
     "execution_count": 13,
     "metadata": {},
     "output_type": "execute_result"
    }
   ],
   "source": [
    "# signal to noise ratio\n",
    "# https://statproofbook.github.io/D/snr.html\n",
    "# https://statproofbook.github.io/P/snr-rsq.html\n",
    "# https://www.pnas.org/doi/10.1073/pnas.1505545112\n",
    "var(X * β) / 0.01"
   ]
  },
  {
   "cell_type": "code",
   "execution_count": 15,
   "metadata": {},
   "outputs": [],
   "source": [
    "# λ is Moreau-Yosida envelope approximation parameter\n",
    "λ = 1e-5\n",
    "# a flat IG(r, s) prior for σ²\n",
    "σ²prior = (0.01, 0.01) \n",
    "# IG(r, s) prior for α, mean is r / (s - 1)\n",
    "αprior  = (1.0, p+1.0) \n",
    "eqcons  = (ones(1, p), zeros(1))\n",
    "clp = CLassoProblem(y, X, λ, eqcons, σ²prior, αprior);"
   ]
  },
  {
   "cell_type": "code",
   "execution_count": 16,
   "metadata": {
    "scrolled": true
   },
   "outputs": [],
   "source": [
    "# start β from LS solution \n",
    "β₀ = X \\ y\n",
    "# pick reasonable initial values for other parameters\n",
    "α₀ = 2.0 \n",
    "σ₀ = 1.0\n",
    "θ = vcat(β₀, log(α₀), 2log(σ₀));"
   ]
  },
  {
   "cell_type": "code",
   "execution_count": 17,
   "metadata": {},
   "outputs": [],
   "source": [
    "LogDensityProblems.logdensity_and_gradient(clp, θ);"
   ]
  },
  {
   "cell_type": "code",
   "execution_count": 18,
   "metadata": {},
   "outputs": [
    {
     "name": "stdout",
     "output_type": "stream",
     "text": [
      "sum(abs, β₀) = 2.110973758382085\n"
     ]
    }
   ],
   "source": [
    "@show sum(abs, β₀);"
   ]
  },
  {
   "cell_type": "code",
   "execution_count": 19,
   "metadata": {},
   "outputs": [
    {
     "name": "stdout",
     "output_type": "stream",
     "text": [
      " 13.694229 seconds (47.74 M allocations: 3.956 GiB, 3.64% gc time, 26.39% compilation time)\n"
     ]
    }
   ],
   "source": [
    "# timing\n",
    "@time results = mcmc_with_warmup(Random.GLOBAL_RNG, clp, 10_000, reporter=ProgressMeterReport());"
   ]
  },
  {
   "cell_type": "code",
   "execution_count": 20,
   "metadata": {},
   "outputs": [
    {
     "data": {
      "text/plain": [
       "Hamiltonian Monte Carlo sample of length 10000\n",
       "  acceptance rate mean: 0.92, 5/25/50/75/95%: 0.71 0.88 0.96 0.99 1.0\n",
       "  termination: divergence => 0%, max_depth => 0%, turning => 100%\n",
       "  depth: 0 => 0%, 1 => 0%, 2 => 0%, 3 => 0%, 4 => 1%, 5 => 4%, 6 => 94%, 7 => 1%"
      ]
     },
     "execution_count": 20,
     "metadata": {},
     "output_type": "execute_result"
    }
   ],
   "source": [
    "# diagnostics\n",
    "summarize_tree_statistics(results.tree_statistics)"
   ]
  },
  {
   "cell_type": "code",
   "execution_count": 21,
   "metadata": {},
   "outputs": [],
   "source": [
    "results_matrix = transpose(results.posterior_matrix);"
   ]
  },
  {
   "cell_type": "code",
   "execution_count": 22,
   "metadata": {
    "scrolled": true
   },
   "outputs": [
    {
     "data": {
      "text/plain": [
       "(12, 10000)"
      ]
     },
     "execution_count": 22,
     "metadata": {},
     "output_type": "execute_result"
    }
   ],
   "source": [
    "size(results.posterior_matrix)"
   ]
  },
  {
   "cell_type": "code",
   "execution_count": 23,
   "metadata": {},
   "outputs": [],
   "source": [
    "# ESS for β\n",
    "cov_matrix = cov(results_matrix[:, 1:p])\n",
    "F = svd(cov_matrix)\n",
    "v_strongest = F.V[:,1]\n",
    "slowest = results_matrix[:, 1:p] * v_strongest;"
   ]
  },
  {
   "cell_type": "code",
   "execution_count": 24,
   "metadata": {},
   "outputs": [],
   "source": [
    "chn_slowest = MCMCChains.Chains(slowest, [\"βslowest\"], thin = 1);"
   ]
  },
  {
   "cell_type": "code",
   "execution_count": 25,
   "metadata": {},
   "outputs": [
    {
     "data": {
      "text/plain": [
       "ESS\n",
       " \u001b[1m parameters \u001b[0m \u001b[1m       ess \u001b[0m \u001b[1m    rhat \u001b[0m\n",
       " \u001b[90m     Symbol \u001b[0m \u001b[90m   Float64 \u001b[0m \u001b[90m Float64 \u001b[0m\n",
       "\n",
       "    βslowest   7044.0511    1.0001\n"
      ]
     },
     "execution_count": 25,
     "metadata": {},
     "output_type": "execute_result"
    }
   ],
   "source": [
    "ess_slowest = ess_rhat(chn_slowest)"
   ]
  },
  {
   "cell_type": "code",
   "execution_count": 26,
   "metadata": {},
   "outputs": [],
   "source": [
    "chn = MCMCChains.Chains(\n",
    "    results_matrix,\n",
    "    [\"β[\" .* string.(1:size(X, 2)) .* \"]\"; \"α\"; \"σ²\"],\n",
    "    thin = 1);"
   ]
  },
  {
   "cell_type": "code",
   "execution_count": 27,
   "metadata": {},
   "outputs": [],
   "source": [
    "result_summary = DataFrame(summarize(chn));\n",
    "result_quantile = DataFrame(quantile(chn));"
   ]
  },
  {
   "cell_type": "code",
   "execution_count": 28,
   "metadata": {},
   "outputs": [],
   "source": [
    "df1 = DataFrame(truth = β, lower = result_quantile[1:length(β), 2], upper = result_quantile[1:length(β), 6]);"
   ]
  },
  {
   "cell_type": "code",
   "execution_count": 29,
   "metadata": {},
   "outputs": [
    {
     "data": {
      "image/png": "[encoded data removed]"
     },
     "metadata": {},
     "output_type": "display_data"
    },
    {
     "data": {
      "text/plain": [
       "RObject{VecSxp}\n"
      ]
     },
     "execution_count": 29,
     "metadata": {},
     "output_type": "execute_result"
    }
   ],
   "source": [
    "@rput df1\n",
    "R\"\"\"\n",
    "library(ggplot2)\n",
    "library(grid)\n",
    "library(latex2exp)\n",
    "firstx = 10 # Plot the firstx entries\n",
    "df1$Variable <- factor(1:nrow(df1))\n",
    "ggplot(df1) + geom_point(aes(x=lower, y=upper))\n",
    "ggplot(df1[1:firstx, ], aes(Variable)) + \n",
    "  geom_linerange(aes(ymin = lower, ymax = upper)) + \n",
    "  geom_point(aes(x = Variable, y = truth), size = 2.5) + \n",
    "  labs(y = \"Value\", x = TeX(r'($\\beta$)')) + \n",
    "  theme_bw() + \n",
    "  theme(axis.text=element_text(size=13), axis.title=element_text(size=14))\n",
    "#ggsave(\"../plots/constrained-lasso-CI.eps\", width = 4, height = 4, dpi = 300)\n",
    "\"\"\""
   ]
  },
  {
   "cell_type": "markdown",
   "metadata": {},
   "source": [
    "## Plot the histogram of $\\sum\\betabf_i$"
   ]
  },
  {
   "cell_type": "code",
   "execution_count": 30,
   "metadata": {},
   "outputs": [
    {
     "data": {
      "text/plain": [
       "Aβminusb (generic function with 1 method)"
      ]
     },
     "execution_count": 30,
     "metadata": {},
     "output_type": "execute_result"
    }
   ],
   "source": [
    "function Aβminusb(A, β, b)\n",
    "    n   = size(β, 1)\n",
    "    res = zeros(n, length(b))\n",
    "    for i in 1:n\n",
    "        res[i, :] = A * β[i, :] - b\n",
    "    end\n",
    "    res\n",
    "end"
   ]
  },
  {
   "cell_type": "code",
   "execution_count": 31,
   "metadata": {},
   "outputs": [],
   "source": [
    "res = Aβminusb(ones(1, p), results_matrix[:, 1:p], zeros(1));"
   ]
  },
  {
   "cell_type": "code",
   "execution_count": 32,
   "metadata": {},
   "outputs": [
    {
     "data": {
      "image/png": "[encoded data removed]"
     },
     "metadata": {},
     "output_type": "display_data"
    },
    {
     "data": {
      "text/plain": [
       "RObject{VecSxp}\n"
      ]
     },
     "execution_count": 32,
     "metadata": {},
     "output_type": "execute_result"
    }
   ],
   "source": [
    "@rput res\n",
    "R\"\"\"\n",
    "library(ggplot2)\n",
    "df2 = data.frame(res = res)\n",
    "ggplot(df2, aes(res), dpi = 300) + geom_histogram() + theme_bw() + \n",
    "  labs(x = TeX(r'($\\sum\\beta_i$)'), y = \"Count\") + \n",
    "  theme(axis.text=element_text(size=13), axis.title=element_text(size=14))\n",
    "#ggsave(\"../plots/constrained-lasso-histogram.eps\", width = 4, height = 4, dpi = 300)\n",
    "\"\"\""
   ]
  },
  {
   "cell_type": "markdown",
   "metadata": {},
   "source": [
    "# Estimate coverage probability\n",
    "\n",
    "Repeat the above experiment 1000 times to estimate the coverage probability of ProxMCMC 95% credible intervals."
   ]
  },
  {
   "cell_type": "code",
   "execution_count": 33,
   "metadata": {},
   "outputs": [
    {
     "data": {
      "text/plain": [
       "calculate_coverage (generic function with 1 method)"
      ]
     },
     "execution_count": 33,
     "metadata": {},
     "output_type": "execute_result"
    }
   ],
   "source": [
    "function calculate_coverage(res_mx, truth)\n",
    "    p = length(truth)\n",
    "    covers = zeros(p)\n",
    "    chn = MCMCChains.Chains(results_matrix[:, 1:p], [\"β[\" .* string.(1:p) .* \"]\";], thin = 10)\n",
    "    qtn = quantile(chn)\n",
    "    lower = qtn[:, 2]\n",
    "    upper = qtn[:, 6]\n",
    "    for i in 1:p\n",
    "       covers[i] =  (lower[i] ≤ truth[i]) & (truth[i] ≤ upper[i])\n",
    "    end\n",
    "    return(covers)\n",
    "end"
   ]
  },
  {
   "cell_type": "code",
   "execution_count": 34,
   "metadata": {},
   "outputs": [
    {
     "data": {
      "text/plain": [
       "([1.0 1.0 … 1.0 1.0], [0.0])"
      ]
     },
     "execution_count": 34,
     "metadata": {},
     "output_type": "execute_result"
    }
   ],
   "source": [
    "n, p = 1000, 10\n",
    "k = 1\n",
    "β = [1 .* ones(k); -1 .* ones(k); zeros(p - 2*k)]\n",
    "λ = 1e-5\n",
    "σ²prior = (0.01, 0.01) \n",
    "αprior  = (1.0, p+1.0) \n",
    "eqcons  = (ones(1, p), zeros(1))"
   ]
  },
  {
   "cell_type": "code",
   "execution_count": null,
   "metadata": {},
   "outputs": [],
   "source": [
    "# takes 2-3 hours\n",
    "nreps = 1000\n",
    "covers_all = zeros(nreps, p)\n",
    "for i in 1:nreps\n",
    "    Random.seed!(1000+i)\n",
    "    X = rand(n, p)\n",
    "    # scale each row of X sum to 1\n",
    "    lmul!(Diagonal(1 ./ vec(sum(X, dims=2))), X)\n",
    "    y = X * β + 0.1 * randn(n);\n",
    "    clp = CLassoProblem(y, X, λ, eqcons, σ²prior, αprior);\n",
    "    # start β from LS solution \n",
    "    β₀ = X \\ y\n",
    "    # assign reasonable initial values to α₀ and σ₀\n",
    "    α₀ = 2.0\n",
    "    σ₀ = 1.0\n",
    "    θ = vcat(β₀, log(α₀), 2log(σ₀))\n",
    "    results = mcmc_with_warmup(Random.GLOBAL_RNG, clp, 10_000, reporter=NoProgressReport());\n",
    "    results_matrix = transpose(results.posterior_matrix)   \n",
    "    covers_all[i, :] = calculate_coverage(results_matrix, β)\n",
    "end"
   ]
  },
  {
   "cell_type": "code",
   "execution_count": 50,
   "metadata": {},
   "outputs": [
    {
     "data": {
      "text/plain": [
       "1×10 Matrix{Float64}:\n",
       " 0.941  0.947  0.972  0.965  0.963  0.968  0.964  0.969  0.976  0.961"
      ]
     },
     "execution_count": 50,
     "metadata": {},
     "output_type": "execute_result"
    }
   ],
   "source": [
    "coverage = sum(covers_all, dims = 1) / size(covers_all, 1)"
   ]
  },
  {
   "cell_type": "code",
   "execution_count": 53,
   "metadata": {},
   "outputs": [
    {
     "data": {
      "text/plain": [
       "RObject{StrSxp}\n",
       "[1] \"../plots/constrained-lasso-coverage-prob.eps\"\n"
      ]
     },
     "execution_count": 53,
     "metadata": {},
     "output_type": "execute_result"
    }
   ],
   "source": [
    "@rput coverage\n",
    "R\"\"\"\n",
    "library(magrittr)\n",
    "library(dplyr)\n",
    "library(ggplot2)\n",
    "dcoverage <- data.frame(Beta = 1:10, CP = as.vector(coverage))\n",
    "ggplot(dcoverage) + \n",
    "  geom_point(aes(x = factor(Beta), y = CP)) + \n",
    "  geom_abline(intercept = 0.95, slope = 0, color = \"red\") + \n",
    "  labs(x = TeX(r'($\\beta$)'), y = \"Coverage Probability\") +\n",
    "  ylim(c(0.6, 1)) + theme_bw() + \n",
    "  theme(axis.text=element_text(size=13), axis.title=element_text(size=14))\n",
    "#ggsave(\"../plots/constrained-lasso-coverage-prob.eps\", width = 4, height = 4, dpi = 300)\n",
    "\"\"\""
   ]
  },
  {
   "cell_type": "code",
   "execution_count": null,
   "metadata": {},
   "outputs": [],
   "source": []
  }
 ],
 "metadata": {
  "@webio": {
   "lastCommId": null,
   "lastKernelId": null
  },
  "hide_input": false,
  "kernelspec": {
   "display_name": "Julia 1.8.2",
   "language": "julia",
   "name": "julia-1.8"
  },
  "language_info": {
   "file_extension": ".jl",
   "mimetype": "application/julia",
   "name": "julia",
   "version": "1.8.2"
  },
  "toc": {
   "colors": {
    "hover_highlight": "#DAA520",
    "running_highlight": "#FF0000",
    "selected_highlight": "#FFD700"
   },
   "moveMenuLeft": true,
   "nav_menu": {
    "height": "135px",
    "width": "252px"
   },
   "navigate_menu": true,
   "number_sections": true,
   "sideBar": false,
   "skip_h1_title": true,
   "threshold": 4,
   "toc_cell": false,
   "toc_position": {
    "height": "250px",
    "left": "2px",
    "right": "20px",
    "top": "109px",
    "width": "212px"
   },
   "toc_section_display": "block",
   "toc_window_display": false,
   "widenNotebook": false
  }
 },
 "nbformat": 4,
 "nbformat_minor": 4
}
